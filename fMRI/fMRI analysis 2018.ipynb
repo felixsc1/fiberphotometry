{
 "cells": [
  {
   "cell_type": "markdown",
   "metadata": {},
   "source": [
    "# fMRI Analysis 2018\n",
    "For single scans (have to be in .BRIK format already). Needs AFNI installed.\n",
    "\n",
    "**Usage**: Adjust the settings below.<br> \n",
    "Run this script (\"*Run*\" button above, or CTRL+ENTER to run cell-by-cell). <br>\n",
    "Popup will open --> select the scan. <br>\n",
    "Results are stored in ./analyze subfolder"
   ]
  },
  {
   "cell_type": "markdown",
   "metadata": {},
   "source": [
    "## 1. Important settings"
   ]
  },
  {
   "cell_type": "code",
   "execution_count": 1,
   "metadata": {},
   "outputs": [
    {
     "name": "stdout",
     "output_type": "stream",
     "text": [
      "stimulus times: [720, 780, 840, 900, 960, 1020, 1080, 1140, 1200, 1260, 1320, 1380, 1440, 1500, 1560, 1620, 1680, 1740, 1800, 1860, 1920, 1980, 2040, 2100, 2160, 2220, 2280, 2340, 2400, 2460, 2520, 2580, 2640, 2700, 2760, 2820, 2880, 2940, 3000, 3060, 3120, 3180, 3240, 3300, 3360, 3420, 3480, 3540, 3600, 3660, 3720, 3780, 3840, 3900, 3960, 4020, 4080, 4140, 4200, 4260, 4320, 4380, 4440, 4500, 4560, 4620, 4680, 4740, 4800, 4860, 4920, 4980, 5040, 5100, 5160, 5220, 5280, 5340, 5400, 5460, 5520, 5580, 5640, 5700, 5760, 5820, 5880, 5940, 6000, 6060, 6120, 6180, 6240, 6300, 6360, 6420, 6480, 6540, 6600, 6660, 6720, 6780, 6840, 6900, 6960, 7020, 7080, 7140]\n"
     ]
    }
   ],
   "source": [
    "TR = 1 # in seconds\n",
    "\n",
    "initial_cutoff = 10 # number of volumes to remove (in absence of dummy scans).\n",
    "\n",
    "blurFWHM = 0.3 # In [mm]. Rule-of-thumb: 1.5x the voxel resolution.\n",
    "\n",
    "highpass = 200 # period [s]. Any signal slower than this will be removed. Should be at least 2x inter-stim. interval\n",
    "\n",
    "\n",
    "# --- For averaging of blocks:\n",
    "\n",
    "averaging_baseline = 20 # baseline to consider before each block\n",
    "\n",
    "_time = 60 # how many seconds to display after stim block ends\n",
    "\n",
    "\n",
    "# --- Location of an EPI template for coregistration (should be a representative animal with same geometry settings)\n",
    "\n",
    "template_path = '/home/aic/BigHDD/MR_DATA/CSI2018/template/TEMPLATE+orig'\n",
    "\n",
    "\n",
    "# --- Define the stimulation paradigm:\n",
    "\n",
    "stim_duration = 40  # everything in seconds\n",
    "baseline = 12*60\n",
    "Nblocks = 10\n",
    "ISI = 60  # Inter-stimulus interval (on+off period)\n",
    "\n",
    "\n",
    "#----\n",
    "stimList=list(range(baseline,baseline*Nblocks,ISI))\n",
    "stimString=' '.join(map(str,stimList))\n",
    "stimulus_times = \"'1D: \"+stimString+\"'\"\n",
    "print('stimulus times:',stimList)"
   ]
  },
  {
   "cell_type": "code",
   "execution_count": 2,
   "metadata": {},
   "outputs": [],
   "source": [
    "import os\n",
    "from tkinter import Tk\n",
    "from tkinter.filedialog import askopenfilename\n",
    "import subprocess\n",
    "import shutil\n",
    "import sys\n",
    "import numpy as np\n",
    "import glob"
   ]
  },
  {
   "cell_type": "markdown",
   "metadata": {},
   "source": [
    "## 2. Selecting scan"
   ]
  },
  {
   "cell_type": "code",
   "execution_count": 3,
   "metadata": {},
   "outputs": [
    {
     "name": "stdout",
     "output_type": "stream",
     "text": [
      "loaded /BigHDD/MR_DATA/CSI2018/20180620_112234_CSI_BOLD_Elec_Stim_1mA_1_3/6/pdata/1/E6+orig.BRIK\n"
     ]
    }
   ],
   "source": [
    "root = Tk()\n",
    "ftypes = [('EPI Scan',\"*.BRIK*\"),(\"All Files\",\"*.*\")]\n",
    "ttl = \"Select file\"\n",
    "dir1 = '/home/aic/BigHDD'\n",
    "    \n",
    "root.withdraw()\n",
    "file_path = askopenfilename(filetypes = ftypes, initialdir = dir1, title = ttl)\n",
    "root.update()\n",
    "root.destroy()\n",
    "\n",
    "data_path = os.path.dirname(file_path)\n",
    "scanname=os.path.splitext(os.path.basename(file_path))[0][:-5]\n",
    "\n",
    "new_subfolder = 'analyzed'\n",
    "newfolder = os.path.join(os.path.expanduser(data_path),new_subfolder)\n",
    "\n",
    "print('loaded '+file_path)\n",
    "os.chdir(data_path)"
   ]
  },
  {
   "cell_type": "code",
   "execution_count": 4,
   "metadata": {},
   "outputs": [],
   "source": [
    "def runAFNI(inputstring):\n",
    "    print(inputstring)\n",
    "    subprocess.run(inputstring,shell=True, check=True)"
   ]
  },
  {
   "cell_type": "markdown",
   "metadata": {},
   "source": [
    "## 3. Coregistration & Motion correction"
   ]
  },
  {
   "cell_type": "code",
   "execution_count": 5,
   "metadata": {},
   "outputs": [
    {
     "name": "stdout",
     "output_type": "stream",
     "text": [
      "3dTcat -prefix /BigHDD/MR_DATA/CSI2018/20180620_112234_CSI_BOLD_Elec_Stim_1mA_1_3/6/pdata/1/analyzed/E6 E6+orig'[10..$]'\n",
      "3dTcat -prefix /BigHDD/MR_DATA/CSI2018/20180620_112234_CSI_BOLD_Elec_Stim_1mA_1_3/6/pdata/1/analyzed/single_timepoint E6+orig'[0]'\n",
      "python2.7 /home/aic/abin/align_epi_anat.py -dset2to1 -dset1 /home/aic/BigHDD/MR_DATA/CSI2018/template/TEMPLATE+orig -dset2 single_timepoint+orig -child_dset2 E6+orig  -dset1_strip None -dset2_strip None -overwrite -big_move -volreg on -volreg_method 3dvolreg -volreg_opts '-Fourier -zpad 1' -Allineate_opts '-maxrot 10 -maxshf 3 -conv 0.005 -twofirst -twoblur 0.8 -source_automask+2 -final wsinc5' -tshift on -tshift_opts '-tzero 0 -quintic' -dset2_base 0 -volreg_base 0 -suffix .volreg -cost ls\n",
      "3dTstat -prefix rm.mean E6.volreg+orig\n",
      "3dcalc -a E6.volreg+orig -b rm.mean+orig -expr 'min(200, a/b*100)*step(a)*step(b)' -prefix rE6.scale\n"
     ]
    }
   ],
   "source": [
    "runAFNI('3dTcat -prefix '+ newfolder + '/' + scanname + ' ' + scanname + \"+orig'[\"+ str(initial_cutoff) + \"..$]'\")\n",
    "runAFNI('3dTcat -prefix '+ newfolder + '/single_timepoint' + ' ' + scanname + \"+orig'[0]'\")\n",
    "\n",
    "os.chdir(newfolder)\n",
    "\n",
    "runAFNI(\"python2.7 /home/aic/abin/align_epi_anat.py -dset2to1 -dset1 \" + template_path + \" -dset2 single_timepoint+orig\" \\\n",
    "                                \" -child_dset2 \" + scanname + '+orig ' \\\n",
    "                                \" -dset1_strip None -dset2_strip None\"  \\\n",
    "                                \" -overwrite\" \\\n",
    "                                \" -big_move\" \\\n",
    "                                \" -volreg on -volreg_method 3dvolreg\" \\\n",
    "                                \" -volreg_opts '-Fourier -zpad 1'\" \\\n",
    "                                \" -Allineate_opts '-maxrot 10 -maxshf 3 -conv 0.005 -twofirst -twoblur 0.8 -source_automask+2 -final wsinc5'\" \\\n",
    "                                \" -tshift on -tshift_opts '-tzero 0 -quintic'\" \\\n",
    "                                \" -dset2_base 0\" \\\n",
    "                                \" -volreg_base 0\" \\\n",
    "                                \" -suffix .volreg\" \\\n",
    "                                \" -cost ls\")\n",
    "    \n",
    "runAFNI('3dTstat -prefix rm.mean' + ' ' + scanname + '.volreg+orig')\n",
    "runAFNI('3dcalc -a ' + scanname + '.volreg+orig -b rm.mean+orig'\\\n",
    "                    \" -expr 'min(200, a/b*100)*step(a)*step(b)' -prefix r\" + scanname + '.scale')"
   ]
  },
  {
   "cell_type": "markdown",
   "metadata": {},
   "source": [
    "## 4. Preprocessing\n",
    "Detrending/Filtering/Blurring"
   ]
  },
  {
   "cell_type": "code",
   "execution_count": 7,
   "metadata": {},
   "outputs": [
    {
     "name": "stdout",
     "output_type": "stream",
     "text": [
      "3dTproject -input r*.scale+orig.BRIK -passband 0.005 99999 -blur 0.3 -prefix CleanedData\n"
     ]
    }
   ],
   "source": [
    "runAFNI('3dTproject -input r*.scale+orig.BRIK -passband ' + str(1/highpass) + ' 99999 -blur ' + str(blurFWHM) + ' -prefix CleanedData')"
   ]
  },
  {
   "cell_type": "markdown",
   "metadata": {},
   "source": [
    "## 5. GLM analysis"
   ]
  },
  {
   "cell_type": "code",
   "execution_count": 8,
   "metadata": {},
   "outputs": [
    {
     "name": "stdout",
     "output_type": "stream",
     "text": [
      "3dDeconvolve -input CleanedData+orig -polort 0 -nodmbase -overwrite -num_stimts 1 -stim_times 1 '1D: 720 780 840 900 960 1020 1080 1140 1200 1260 1320 1380 1440 1500 1560 1620 1680 1740 1800 1860 1920 1980 2040 2100 2160 2220 2280 2340 2400 2460 2520 2580 2640 2700 2760 2820 2880 2940 3000 3060 3120 3180 3240 3300 3360 3420 3480 3540 3600 3660 3720 3780 3840 3900 3960 4020 4080 4140 4200 4260 4320 4380 4440 4500 4560 4620 4680 4740 4800 4860 4920 4980 5040 5100 5160 5220 5280 5340 5400 5460 5520 5580 5640 5700 5760 5820 5880 5940 6000 6060 6120 6180 6240 6300 6360 6420 6480 6540 6600 6660 6720 6780 6840 6900 6960 7020 7080 7140' 'SPMG3(40)' -stim_times_subtract 10 -stim_label 1 electro -iresp 1 HRF_SPM_el -fout -tout -x1D XSPM.xmat.1D -xjpeg XSPM.jpg -fitts fittsSPM_el -errts errtsSPM_el -bucket statsSPM_el -cbucket regcoeffsSPM_el\n"
     ]
    }
   ],
   "source": [
    "runAFNI('3dDeconvolve -input CleanedData+orig' \\\n",
    "                    ' -polort 0' \\\n",
    "                    ' -nodmbase' \\\n",
    "                    ' -overwrite' \\\n",
    "                    ' -num_stimts 1' \\\n",
    "                    ' -stim_times 1 ' +  stimulus_times + \\\n",
    "                    \" 'SPMG3(\" + str(stim_duration) + \")'\" \\\n",
    "                    ' -stim_times_subtract ' + str(initial_cutoff*TR) + \\\n",
    "                    ' -stim_label 1 electro' \\\n",
    "                    ' -iresp 1 HRF_SPM_el' \\\n",
    "                    ' -fout -tout -x1D XSPM.xmat.1D -xjpeg XSPM.jpg' \\\n",
    "                    ' -fitts fittsSPM_el' \\\n",
    "                    ' -errts errtsSPM_el' \\\n",
    "                    ' -bucket statsSPM_el' \\\n",
    "                    ' -cbucket regcoeffsSPM_el')"
   ]
  },
  {
   "cell_type": "markdown",
   "metadata": {},
   "source": [
    "## 6. Averaging stimulation blocks\n",
    "For plotting "
   ]
  },
  {
   "cell_type": "code",
   "execution_count": 9,
   "metadata": {},
   "outputs": [
    {
     "ename": "TypeError",
     "evalue": "unsupported operand type(s) for -: 'list' and 'int'",
     "output_type": "error",
     "traceback": [
      "\u001b[0;31m---------------------------------------------------------------------------\u001b[0m",
      "\u001b[0;31mTypeError\u001b[0m                                 Traceback (most recent call last)",
      "\u001b[0;32m<ipython-input-9-b0e4e5a40b7c>\u001b[0m in \u001b[0;36m<module>\u001b[0;34m()\u001b[0m\n\u001b[1;32m      1\u001b[0m \u001b[0mk\u001b[0m\u001b[0;34m=\u001b[0m\u001b[0;36m1\u001b[0m\u001b[0;34m\u001b[0m\u001b[0m\n\u001b[0;32m----> 2\u001b[0;31m \u001b[0;32mfor\u001b[0m \u001b[0mi\u001b[0m \u001b[0;32min\u001b[0m \u001b[0mstimList\u001b[0m\u001b[0;34m-\u001b[0m\u001b[0minitial_cutoff\u001b[0m\u001b[0;34m:\u001b[0m\u001b[0;34m\u001b[0m\u001b[0m\n\u001b[0m\u001b[1;32m      3\u001b[0m     \u001b[0mrunAFNI\u001b[0m\u001b[0;34m(\u001b[0m\u001b[0;34m'3dTcat -prefix temp_average_raw'\u001b[0m \u001b[0;34m+\u001b[0m \u001b[0mstr\u001b[0m\u001b[0;34m(\u001b[0m\u001b[0mk\u001b[0m\u001b[0;34m)\u001b[0m \u001b[0;34m+\u001b[0m \u001b[0;34m' CleanedData+orig['\u001b[0m \u001b[0;34m+\u001b[0m \u001b[0mstr\u001b[0m\u001b[0;34m(\u001b[0m\u001b[0mint\u001b[0m\u001b[0;34m(\u001b[0m\u001b[0mi\u001b[0m\u001b[0;34m)\u001b[0m \u001b[0;34m-\u001b[0m \u001b[0maveraging_baseline\u001b[0m \u001b[0;34m)\u001b[0m \u001b[0;34m+\u001b[0m \u001b[0;34m'..'\u001b[0m \u001b[0;34m+\u001b[0m \u001b[0mstr\u001b[0m\u001b[0;34m(\u001b[0m\u001b[0mint\u001b[0m\u001b[0;34m(\u001b[0m\u001b[0mi\u001b[0m\u001b[0;34m)\u001b[0m \u001b[0;34m+\u001b[0m \u001b[0mstim_duration\u001b[0m \u001b[0;34m+\u001b[0m \u001b[0m_time\u001b[0m\u001b[0;34m)\u001b[0m \u001b[0;34m+\u001b[0m\u001b[0;34m']'\u001b[0m\u001b[0;34m)\u001b[0m\u001b[0;34m\u001b[0m\u001b[0m\n\u001b[1;32m      4\u001b[0m     \u001b[0mk\u001b[0m \u001b[0;34m+=\u001b[0m \u001b[0;36m1\u001b[0m\u001b[0;34m\u001b[0m\u001b[0m\n\u001b[1;32m      5\u001b[0m \u001b[0;34m\u001b[0m\u001b[0m\n",
      "\u001b[0;31mTypeError\u001b[0m: unsupported operand type(s) for -: 'list' and 'int'"
     ]
    }
   ],
   "source": [
    "k=1\n",
    "for i in stimList-initial_cutoff:\n",
    "    runAFNI('3dTcat -prefix temp_average_raw' + str(k) + ' CleanedData+orig[' + str(int(i) - averaging_baseline ) + '..' + str(int(i) + stim_duration + _time) +']')\n",
    "    k += 1\n",
    "\n",
    "    \n",
    "runAFNI('3dTcat -prefix average_spm' + ' fittsSPM_el+orig[' + str(stimList[0] - averaging_baseline ) + '..' + str(stimList[0] + stim_duration + _time) +']')\n",
    "runAFNI('3dMean -prefix average_raw temp_average_raw*')\n",
    "\n",
    "runAFNI(\"bash -c 'rm -f temp_average* &>/dev/null'\")\n"
   ]
  }
 ],
 "metadata": {
  "kernelspec": {
   "display_name": "Python 3",
   "language": "python",
   "name": "python3"
  },
  "language_info": {
   "codemirror_mode": {
    "name": "ipython",
    "version": 3
   },
   "file_extension": ".py",
   "mimetype": "text/x-python",
   "name": "python",
   "nbconvert_exporter": "python",
   "pygments_lexer": "ipython3",
   "version": "3.6.5"
  }
 },
 "nbformat": 4,
 "nbformat_minor": 2
}
