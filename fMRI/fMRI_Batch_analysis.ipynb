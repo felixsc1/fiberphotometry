{
 "cells": [
  {
   "cell_type": "code",
   "execution_count": 14,
   "metadata": {},
   "outputs": [],
   "source": [
    "import glob\n",
    "import os, sys\n",
    "from nbrun import run_notebook #downloaded from https://github.com/tritemio/nbrun/blob/master/example-master-notebook.ipynb\n",
    "from tkinter import Tk\n",
    "from tkinter.filedialog import askdirectory\n",
    "import fnmatch"
   ]
  },
  {
   "cell_type": "code",
   "execution_count": 5,
   "metadata": {},
   "outputs": [],
   "source": [
    "nb_name = 'example-template-notebook.ipynb'"
   ]
  },
  {
   "cell_type": "code",
   "execution_count": 6,
   "metadata": {},
   "outputs": [
    {
     "name": "stdout",
     "output_type": "stream",
     "text": [
      "main path : E:/fMRI_mice\n"
     ]
    }
   ],
   "source": [
    "root = Tk()\n",
    "ttl = \"Select main directory with all animals\"\n",
    "\n",
    "if os.name == 'nt':\n",
    "    dir1 = 'C:\\\\'   # Windows\n",
    "else:\n",
    "    dir1 = '/home/aic/'\n",
    "    \n",
    "root.withdraw()\n",
    "file_path = askdirectory(initialdir = dir1, title = ttl)\n",
    "root.update()\n",
    "root.destroy()\n",
    "print('main path :', file_path)"
   ]
  },
  {
   "cell_type": "code",
   "execution_count": 40,
   "metadata": {},
   "outputs": [
    {
     "name": "stdout",
     "output_type": "stream",
     "text": [
      "E:/fMRI_mice\\20171124_141047_6606_1_1_9T\\21\\pdata\\1\n",
      "20171124_141047_6606_1_1_9T_21\n",
      "E:/fMRI_mice\\20171124_141047_6606_1_1_9T\\21\\pdata\\1\\E21.results1\n",
      "20171124_141047_6606_1_1_9T_21\n"
     ]
    }
   ],
   "source": [
    "# splitall function from: https://www.safaribooksonline.com/library/view/python-cookbook/0596001673/ch04s16.html\n",
    "def splitall(path):\n",
    "    allparts = []\n",
    "    while 1:\n",
    "        parts = os.path.split(path)\n",
    "        if parts[0] == path:  # sentinel for absolute paths\n",
    "            allparts.insert(0, parts[0])\n",
    "            break\n",
    "        elif parts[1] == path: # sentinel for relative paths\n",
    "            allparts.insert(0, parts[1])\n",
    "            break\n",
    "        else:\n",
    "            path = parts[0]\n",
    "            allparts.insert(0, parts[1])\n",
    "    return allparts\n",
    "\n",
    "\n",
    "for folderName, subfolders, filenames in os.walk(file_path):\n",
    "    for file in filenames:\n",
    "        if fnmatch.fnmatch(file, 'E21*+orig.BRIK*'):\n",
    "            ID = splitall(folderName)[2]+'_'+splitall(folderName)[3]\n",
    "#             file_path = glob.glob(os.path.join(folderName,file))\n",
    "#             nb_kwargs = {'file_path': file_path, 'ID': ID}\n",
    "#             run_notebook(nb_name, save_ipynb=False, nb_kwargs=nb_kwargs)\n",
    "#             print('running analysis for file: ', str(file))\n",
    "            print(folderName)\n",
    "            print(ID)\n",
    "        \n"
   ]
  }
 ],
 "metadata": {
  "kernelspec": {
   "display_name": "Python 3",
   "language": "python",
   "name": "python3"
  },
  "language_info": {
   "codemirror_mode": {
    "name": "ipython",
    "version": 3
   },
   "file_extension": ".py",
   "mimetype": "text/x-python",
   "name": "python",
   "nbconvert_exporter": "python",
   "pygments_lexer": "ipython3",
   "version": "3.6.5"
  }
 },
 "nbformat": 4,
 "nbformat_minor": 2
}
