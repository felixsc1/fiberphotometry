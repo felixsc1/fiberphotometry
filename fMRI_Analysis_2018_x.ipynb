{
 "cells": [
  {
   "cell_type": "markdown",
   "metadata": {},
   "source": [
    "# fMRI Analysis 2018\n",
    "For single scans (have to be in .BRIK format already). Needs AFNI installed.\n",
    "\n",
    "**Usage**: Adjust the settings below.<br> \n",
    "Run this script (\"*Run*\" button above, or CTRL+ENTER to run cell-by-cell). <br>\n",
    "Popup will open --> select the scan. <br>\n",
    "Results are stored in ./analyze subfolder"
   ]
  },
  {
   "cell_type": "markdown",
   "metadata": {},
   "source": [
    "## 1. Important settings"
   ]
  },
  {
   "cell_type": "code",
   "execution_count": 1,
   "metadata": {},
   "outputs": [
    {
     "name": "stdout",
     "output_type": "stream",
     "text": [
      "stimulus times: [720, 780, 840, 900, 960, 1020, 1080, 1140, 1200, 1260]\n"
     ]
    }
   ],
   "source": [
    "TR = 1 # in seconds\n",
    "\n",
    "initial_cutoff = 30 # number of volumes to remove (in absence of dummy scans).\n",
    "\n",
    "blurFWHM = 0.3 # In [mm]. Rule-of-thumb: 1.5x the voxel resolution.\n",
    "\n",
    "highpass = 9999 # period [s]. Any signal slower than this will be removed. Should be at least 2x inter-stim. interval\n",
    "\n",
    "\n",
    "# --- For averaging of blocks:\n",
    "\n",
    "averaging_baseline = 20 # baseline to consider before each block\n",
    "\n",
    "_time = 60 # how many seconds to display after stim block ends\n",
    "\n",
    "\n",
    "# --- Location of an EPI template for coregistration (should be a representative animal with same geometry settings)\n",
    "\n",
    "template_path = '/home/aic/BigHDD/MR_DATA/CSI2018/template/TEMPLATE+orig'\n",
    "\n",
    "\n",
    "# --- Define the stimulation paradigm:\n",
    "\n",
    "baseline = 12*60\n",
    "stim_duration = 40  # everything in seconds\n",
    "Nblocks = 10\n",
    "ISI = 60  # Inter-stimulus interval (on+off period)\n",
    "\n",
    "# --- ROI file:\n",
    "roi_path = '/home/aic/BigHDD/MR_DATA/CSI2018/template/ROI+orig'\n",
    "\n",
    "\n",
    "\n",
    "\n",
    "#----\n",
    "stimList=list(range(baseline,baseline+ISI*Nblocks,ISI))\n",
    "stimString=' '.join(map(str,stimList))\n",
    "stimulus_times = \"'1D: \"+stimString+\"'\"\n",
    "print('stimulus times:',stimList)"
   ]
  },
  {
   "cell_type": "code",
   "execution_count": 2,
   "metadata": {},
   "outputs": [],
   "source": [
    "import os\n",
    "import subprocess\n",
    "import shutil\n",
    "import sys\n",
    "import numpy as np\n",
    "import glob\n",
    "from tkinter import Tk\n",
    "from tkinter.filedialog import askopenfilename"
   ]
  },
  {
   "cell_type": "markdown",
   "metadata": {},
   "source": [
    "## 2. Selecting scan"
   ]
  },
  {
   "cell_type": "code",
   "execution_count": 3,
   "metadata": {},
   "outputs": [
    {
     "name": "stdout",
     "output_type": "stream",
     "text": [
      "loaded /BigHDD/MR_DATA/CSI2018/20180620_133404_CSI_BOLD_Elec_Stim_1mA_1_4/8/pdata/1/E8+orig.BRIK\n"
     ]
    }
   ],
   "source": [
    "if 'file_path' not in vars():\n",
    "\n",
    "    root = Tk()\n",
    "    ftypes = [('EPI Scan',\"*.BRIK*\"),(\"All Files\",\"*.*\")]\n",
    "    ttl = \"Select file\"\n",
    "    dir1 = '/home/aic/BigHDD/MR_DATA/CSI2018'\n",
    "\n",
    "    root.withdraw()\n",
    "    file_path = askopenfilename(filetypes = ftypes, initialdir = dir1, title = ttl)\n",
    "    root.update()\n",
    "    root.destroy()\n",
    "    \n",
    "        \n",
    "    print('loaded '+file_path)\n",
    "\n",
    "if 'ID' not in vars():\n",
    "    ID = scanname\n",
    "    \n",
    "scanname=os.path.splitext(os.path.basename(file_path))[0][:-5]\n",
    "\n",
    "    \n",
    "data_path = os.path.dirname(file_path)\n",
    "new_subfolder = 'analyzed'\n",
    "newfolder = os.path.join(os.path.expanduser(data_path),new_subfolder)\n",
    "os.chdir(data_path)\n",
    "shutil.rmtree(newfolder,ignore_errors=True)\n"
   ]
  },
  {
   "cell_type": "code",
   "execution_count": 4,
   "metadata": {},
   "outputs": [],
   "source": [
    "def runAFNI(inputstring):\n",
    "    print(inputstring)\n",
    "    subprocess.run(inputstring,shell=True, check=True)"
   ]
  },
  {
   "cell_type": "markdown",
   "metadata": {},
   "source": [
    "## 3. Coregistration & Motion correction"
   ]
  },
  {
   "cell_type": "code",
   "execution_count": 5,
   "metadata": {},
   "outputs": [
    {
     "name": "stdout",
     "output_type": "stream",
     "text": [
      "3dTcat -prefix /BigHDD/MR_DATA/CSI2018/20180620_133404_CSI_BOLD_Elec_Stim_1mA_1_4/8/pdata/1/analyzed/E8 E8+orig'[30..$]'\n",
      "3dTcat -prefix /BigHDD/MR_DATA/CSI2018/20180620_133404_CSI_BOLD_Elec_Stim_1mA_1_4/8/pdata/1/analyzed/single_timepoint E8+orig'[0]'\n",
      "python2.7 /home/aic/abin/align_epi_anat.py -dset2to1 -dset1 /home/aic/BigHDD/MR_DATA/CSI2018/template/TEMPLATE+orig -dset2 single_timepoint+orig -child_dset2 E8+orig  -dset1_strip None -dset2_strip None -overwrite -big_move -volreg on -volreg_method 3dvolreg -volreg_opts '-Fourier -zpad 1' -Allineate_opts '-maxrot 10 -maxshf 3 -conv 0.005 -twofirst -twoblur 0.8 -source_automask+2 -final wsinc5' -tshift on -tshift_opts '-tzero 0 -quintic' -dset2_base 0 -volreg_base 0 -suffix .volreg -cost ls\n",
      "3dTstat -prefix rm.mean E8.volreg+orig\n",
      "3dcalc -a E8.volreg+orig -b rm.mean+orig -expr 'min(200, a/b*100)*step(a)*step(b)' -prefix rE8.scale\n"
     ]
    }
   ],
   "source": [
    "runAFNI('3dTcat -prefix '+ newfolder + '/' + scanname + ' ' + scanname + \"+orig'[\"+ str(initial_cutoff) + \"..$]'\")\n",
    "runAFNI('3dTcat -prefix '+ newfolder + '/single_timepoint' + ' ' + scanname + \"+orig'[0]'\")\n",
    "\n",
    "os.chdir(newfolder)\n",
    "\n",
    "runAFNI(\"python2.7 /home/aic/abin/align_epi_anat.py -dset2to1 -dset1 \" + template_path + \" -dset2 single_timepoint+orig\" \\\n",
    "                                \" -child_dset2 \" + scanname + '+orig ' \\\n",
    "                                \" -dset1_strip None -dset2_strip None\"  \\\n",
    "                                \" -overwrite\" \\\n",
    "                                \" -big_move\" \\\n",
    "                                \" -volreg on -volreg_method 3dvolreg\" \\\n",
    "                                \" -volreg_opts '-Fourier -zpad 1'\" \\\n",
    "                                \" -Allineate_opts '-maxrot 10 -maxshf 3 -conv 0.005 -twofirst -twoblur 0.8 -source_automask+2 -final wsinc5'\" \\\n",
    "                                \" -tshift on -tshift_opts '-tzero 0 -quintic'\" \\\n",
    "                                \" -dset2_base 0\" \\\n",
    "                                \" -volreg_base 0\" \\\n",
    "                                \" -suffix .volreg\" \\\n",
    "                                \" -cost ls\")\n",
    "    \n",
    "runAFNI('3dTstat -prefix rm.mean' + ' ' + scanname + '.volreg+orig')\n",
    "runAFNI('3dcalc -a ' + scanname + '.volreg+orig -b rm.mean+orig'\\\n",
    "                    \" -expr 'min(200, a/b*100)*step(a)*step(b)' -prefix r\" + scanname + '.scale')"
   ]
  },
  {
   "cell_type": "markdown",
   "metadata": {},
   "source": [
    "## 4. Preprocessing\n",
    "Detrending/Filtering/Blurring"
   ]
  },
  {
   "cell_type": "code",
   "execution_count": 6,
   "metadata": {},
   "outputs": [
    {
     "name": "stdout",
     "output_type": "stream",
     "text": [
      "3dTproject -input r*.scale+orig.BRIK -CENSORTR 720:1920 -polort 1 -blur 0.3 -prefix CleanedDataE8\n"
     ]
    }
   ],
   "source": [
    "# runAFNI('3dTproject -input r*.scale+orig.BRIK ' + '-CENSORTR ' + str(baseline)+':'+str(baseline+ISI*Nblocks) + ' -passband ' + str(1/highpass) + ' 99999 -blur ' + str(blurFWHM) + ' -prefix CleanedData')\n",
    "runAFNI('3dTproject -input r*.scale+orig.BRIK -polort -1 -blur ' + str(blurFWHM) + ' -prefix CleanedData'+ ID)"
   ]
  },
  {
   "cell_type": "markdown",
   "metadata": {},
   "source": [
    "## 5. GLM analysis"
   ]
  },
  {
   "cell_type": "code",
   "execution_count": 7,
   "metadata": {},
   "outputs": [
    {
     "name": "stdout",
     "output_type": "stream",
     "text": [
      "3dDeconvolve -input CleanedDataE8+orig -polort -1 -nodmbase -overwrite -num_stimts 1 -stim_times 1 '1D: 720 780 840 900 960 1020 1080 1140 1200 1260' 'SPMG3(40)' -stim_times_subtract 30 -stim_label 1 electro -iresp 1 HRF_SPM_el -fout -tout -x1D XSPM.xmat.1D -xjpeg XSPM.jpg -fitts fittsSPM_E8 -errts errtsSPM_el -bucket statsSPM_E8 -cbucket regcoeffsSPM_el\n"
     ]
    }
   ],
   "source": [
    "runAFNI('3dDeconvolve -input CleanedData'+ID+'+orig' \\\n",
    "                    ' -polort 3' \\\n",
    "                    ' -nodmbase' \\\n",
    "                    ' -overwrite' \\\n",
    "                    ' -num_stimts 1' \\\n",
    "                    ' -stim_times 1 ' +  stimulus_times + \\\n",
    "                    \" 'SPMG3(\" + str(stim_duration) + \")'\" \\\n",
    "                    ' -stim_times_subtract ' + str(initial_cutoff*TR) + \\\n",
    "                    ' -stim_label 1 electro' \\\n",
    "                    ' -iresp 1 HRF_SPM_el' \\\n",
    "                    ' -fout -tout -x1D XSPM.xmat.1D -xjpeg XSPM.jpg' \\\n",
    "                    ' -fitts fittsSPM_'+ ID + \\\n",
    "                    ' -errts errtsSPM_el' \\\n",
    "                    ' -bucket statsSPM_'+ ID + \\\n",
    "                    ' -cbucket regcoeffsSPM_el')"
   ]
  },
  {
   "cell_type": "code",
   "execution_count": null,
   "metadata": {},
   "outputs": [],
   "source": [
    "runAFNI('3dSynthesize -cbucket regcoeffsSPM_el+orig -matrix XSPM.xmat.1D -select baseline -prefix glmbaseline')\n",
    "\n",
    "runAFNI(\"3dcalc -a CleanedData*.BRIK -b glmbaseline+orig -expr 'a-b' -prefix CleanedData2\"+ID) \n",
    "runAFNI(\"3dcalc -a fittsSPM*.BRIK -b glmbaseline+orig -expr 'a-b' -prefix Cleanedfit\") "
   ]
  },
  {
   "cell_type": "markdown",
   "metadata": {},
   "source": [
    "## 6. Averaging stimulation blocks\n",
    "For plotting "
   ]
  },
  {
   "cell_type": "code",
   "execution_count": 8,
   "metadata": {},
   "outputs": [
    {
     "data": {
      "text/plain": [
       "[720, 780, 840, 900, 960, 1020, 1080, 1140, 1200, 1260]"
      ]
     },
     "execution_count": 8,
     "metadata": {},
     "output_type": "execute_result"
    }
   ],
   "source": [
    "stimList"
   ]
  },
  {
   "cell_type": "code",
   "execution_count": 9,
   "metadata": {},
   "outputs": [
    {
     "name": "stdout",
     "output_type": "stream",
     "text": [
      "3dTcat -prefix temp_average_raw1 CleanedDataE8+orig[670..790]\n",
      "3dTcat -prefix temp_average_raw2 CleanedDataE8+orig[730..850]\n",
      "3dTcat -prefix temp_average_raw3 CleanedDataE8+orig[790..910]\n",
      "3dTcat -prefix temp_average_raw4 CleanedDataE8+orig[850..970]\n",
      "3dTcat -prefix temp_average_raw5 CleanedDataE8+orig[910..1030]\n",
      "3dTcat -prefix temp_average_raw6 CleanedDataE8+orig[970..1090]\n",
      "3dTcat -prefix temp_average_raw7 CleanedDataE8+orig[1030..1150]\n",
      "3dTcat -prefix temp_average_raw8 CleanedDataE8+orig[1090..1210]\n",
      "3dTcat -prefix temp_average_raw9 CleanedDataE8+orig[1150..1270]\n",
      "3dTcat -prefix temp_average_raw10 CleanedDataE8+orig[1210..1330]\n",
      "3dTcat -prefix average_spm fittsSPM_E8+orig[700..820]\n",
      "3dMean -prefix average_raw temp_average_raw*\n",
      "bash -c 'rm -f temp_average* &>/dev/null'\n"
     ]
    }
   ],
   "source": [
    "k=1\n",
    "for i in stimList:\n",
    "    i -= initial_cutoff\n",
    "    runAFNI('3dTcat -prefix temp_average_raw' + str(k) + ' CleanedData'+ID+'+orig[' + str(int(i) - averaging_baseline ) + '..' + str(int(i) + stim_duration + _time) +']')\n",
    "    k += 1\n",
    "\n",
    "    \n",
    "runAFNI('3dTcat -prefix average_spm' + ' fittsSPM_' + ID + '+orig[' + str(stimList[0] - averaging_baseline ) + '..' + str(stimList[0] + stim_duration + _time) +']')\n",
    "runAFNI('3dMean -prefix average_raw temp_average_raw*')\n",
    "\n",
    "runAFNI(\"bash -c 'rm -f temp_average* &>/dev/null'\")\n"
   ]
  },
  {
   "cell_type": "markdown",
   "metadata": {},
   "source": [
    "## 7. Extracting ROIs"
   ]
  },
  {
   "cell_type": "code",
   "execution_count": 10,
   "metadata": {},
   "outputs": [
    {
     "name": "stdout",
     "output_type": "stream",
     "text": [
      "3dROIstats -mask /home/aic/BigHDD/MR_DATA/CSI2018/template/ROI+orig CleanedDataE8+orig.BRIK > ROIdata_E8.1D\n"
     ]
    }
   ],
   "source": [
    "# runAFNI('3dROIstats -mask ' + roi_path + ' CleanedData'+ID+'+orig.BRIK > ROIdata_' + ID + '.1D')\n",
    "runAFNI('3dROIstats -mask ' + roi_path + ' CleanedData2'+ID+'+orig.BRIK > ROIdata_' + ID + '.1D')\n"
   ]
  }
 ],
 "metadata": {
  "kernelspec": {
   "display_name": "Python 3",
   "language": "python",
   "name": "python3"
  },
  "language_info": {
   "codemirror_mode": {
    "name": "ipython",
    "version": 3
   },
   "file_extension": ".py",
   "mimetype": "text/x-python",
   "name": "python",
   "nbconvert_exporter": "python",
   "pygments_lexer": "ipython3",
   "version": "3.6.5"
  }
 },
 "nbformat": 4,
 "nbformat_minor": 2
}
