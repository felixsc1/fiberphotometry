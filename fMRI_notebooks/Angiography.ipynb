{
 "cells": [
  {
   "cell_type": "markdown",
   "metadata": {},
   "source": [
    "# Angiography"
   ]
  },
  {
   "cell_type": "markdown",
   "metadata": {},
   "source": [
    "Use this notebook for single animals, otherwise run it in batch from **GLUT1_Analysis**"
   ]
  },
  {
   "cell_type": "code",
   "execution_count": 1,
   "metadata": {},
   "outputs": [],
   "source": [
    "import os\n",
    "import subprocess\n",
    "import numpy as np\n",
    "import pandas as pd\n",
    "import MRIhelperfunctions as h\n",
    "import MRIhelperfunctions\n",
    "from MRIhelperfunctions import Settings\n",
    "from imp import importlib\n",
    "import fnmatch\n",
    "import papermill as pm\n",
    "\n",
    "import nibabel as nib\n",
    "import matplotlib.pyplot as plt\n",
    "%matplotlib inline  \n",
    "\n",
    "\n",
    "\n",
    "from __future__ import print_function\n",
    "from ipywidgets import interact, interactive, fixed, interact_manual\n",
    "import ipywidgets as widgets\n",
    "\n",
    "\n",
    "\n",
    "import niwidgets\n",
    "from niwidgets import NiftiWidget\n",
    "import nilearn.plotting as nip"
   ]
  },
  {
   "cell_type": "markdown",
   "metadata": {},
   "source": [
    "importlib.reload(h)\n",
    "import MRIhelperfunctions as h\n",
    "from MRIhelperfunctions import Settings"
   ]
  },
  {
   "cell_type": "markdown",
   "metadata": {},
   "source": [
    "## Manually set the folders below, will be overwritten when notebook is run from batch"
   ]
  },
  {
   "cell_type": "code",
   "execution_count": 2,
   "metadata": {
    "tags": [
     "parameters"
    ]
   },
   "outputs": [
    {
     "data": {
      "text/html": [
       "<div>\n",
       "<style scoped>\n",
       "    .dataframe tbody tr th:only-of-type {\n",
       "        vertical-align: middle;\n",
       "    }\n",
       "\n",
       "    .dataframe tbody tr th {\n",
       "        vertical-align: top;\n",
       "    }\n",
       "\n",
       "    .dataframe thead th {\n",
       "        text-align: right;\n",
       "    }\n",
       "</style>\n",
       "<table border=\"1\" class=\"dataframe\">\n",
       "  <thead>\n",
       "    <tr style=\"text-align: right;\">\n",
       "      <th></th>\n",
       "      <th>glut1_male1</th>\n",
       "      <th>glut1_male2</th>\n",
       "      <th>glut1_f10wks1</th>\n",
       "      <th>glut1_f10wks2</th>\n",
       "      <th>glut1_f10wks3</th>\n",
       "      <th>glut1_f10wks4</th>\n",
       "      <th>glut1_f10wks5</th>\n",
       "      <th>glut1_f10wks6</th>\n",
       "      <th>glut1_f8wks1</th>\n",
       "      <th>glut1_f8wks2</th>\n",
       "      <th>glut1_f8wks3</th>\n",
       "      <th>glut1_f8wks4</th>\n",
       "      <th>glut1_f8wks5</th>\n",
       "      <th>glut1_f8wks6</th>\n",
       "      <th>glut1_f8wks7</th>\n",
       "      <th>glut1_f6wks2</th>\n",
       "      <th>glut1_f6wks1</th>\n",
       "    </tr>\n",
       "    <tr>\n",
       "      <th>scan</th>\n",
       "      <th></th>\n",
       "      <th></th>\n",
       "      <th></th>\n",
       "      <th></th>\n",
       "      <th></th>\n",
       "      <th></th>\n",
       "      <th></th>\n",
       "      <th></th>\n",
       "      <th></th>\n",
       "      <th></th>\n",
       "      <th></th>\n",
       "      <th></th>\n",
       "      <th></th>\n",
       "      <th></th>\n",
       "      <th></th>\n",
       "      <th></th>\n",
       "      <th></th>\n",
       "    </tr>\n",
       "  </thead>\n",
       "  <tbody>\n",
       "    <tr>\n",
       "      <th>Gd DCE</th>\n",
       "      <td>6</td>\n",
       "      <td>8</td>\n",
       "      <td>6</td>\n",
       "      <td>5</td>\n",
       "      <td>5</td>\n",
       "      <td>8</td>\n",
       "      <td>5</td>\n",
       "      <td>5</td>\n",
       "      <td>7</td>\n",
       "      <td>5</td>\n",
       "      <td>6</td>\n",
       "      <td>6</td>\n",
       "      <td>8</td>\n",
       "      <td>8</td>\n",
       "      <td>6</td>\n",
       "      <td>5</td>\n",
       "      <td>5</td>\n",
       "    </tr>\n",
       "    <tr>\n",
       "      <th>Angio pre</th>\n",
       "      <td>8</td>\n",
       "      <td>9</td>\n",
       "      <td>7</td>\n",
       "      <td>6</td>\n",
       "      <td>6</td>\n",
       "      <td>9</td>\n",
       "      <td>6</td>\n",
       "      <td>6</td>\n",
       "      <td>8</td>\n",
       "      <td>6</td>\n",
       "      <td>9</td>\n",
       "      <td>8</td>\n",
       "      <td>9</td>\n",
       "      <td>9</td>\n",
       "      <td>8</td>\n",
       "      <td>6</td>\n",
       "      <td>6</td>\n",
       "    </tr>\n",
       "    <tr>\n",
       "      <th>Angio post</th>\n",
       "      <td>12</td>\n",
       "      <td>12</td>\n",
       "      <td>11</td>\n",
       "      <td>9</td>\n",
       "      <td>9</td>\n",
       "      <td>13</td>\n",
       "      <td>10</td>\n",
       "      <td>11</td>\n",
       "      <td>12</td>\n",
       "      <td>11</td>\n",
       "      <td>12</td>\n",
       "      <td>12</td>\n",
       "      <td>16</td>\n",
       "      <td>13</td>\n",
       "      <td>12</td>\n",
       "      <td>9</td>\n",
       "      <td>10</td>\n",
       "    </tr>\n",
       "    <tr>\n",
       "      <th>Endorem DCE</th>\n",
       "      <td>11</td>\n",
       "      <td>11</td>\n",
       "      <td>10</td>\n",
       "      <td>8</td>\n",
       "      <td>8</td>\n",
       "      <td>12</td>\n",
       "      <td>9</td>\n",
       "      <td>10</td>\n",
       "      <td>10</td>\n",
       "      <td>10</td>\n",
       "      <td>11</td>\n",
       "      <td>11</td>\n",
       "      <td>15</td>\n",
       "      <td>12</td>\n",
       "      <td>11</td>\n",
       "      <td>8</td>\n",
       "      <td>9</td>\n",
       "    </tr>\n",
       "    <tr>\n",
       "      <th>Diamox</th>\n",
       "      <td>15</td>\n",
       "      <td>14</td>\n",
       "      <td>13</td>\n",
       "      <td>11</td>\n",
       "      <td>13</td>\n",
       "      <td>15</td>\n",
       "      <td>12</td>\n",
       "      <td>13</td>\n",
       "      <td>14</td>\n",
       "      <td>13</td>\n",
       "      <td>16</td>\n",
       "      <td>17</td>\n",
       "      <td>20</td>\n",
       "      <td>16</td>\n",
       "      <td>14</td>\n",
       "      <td>11</td>\n",
       "      <td>13</td>\n",
       "    </tr>\n",
       "    <tr>\n",
       "      <th>folder</th>\n",
       "      <td>/home/aic/BigHDD/MR_DATA/GLUT1/Rawdata/2018060...</td>\n",
       "      <td>/home/aic/BigHDD/MR_DATA/GLUT1/Rawdata/2018060...</td>\n",
       "      <td>/home/aic/BigHDD/MR_DATA/GLUT1/Rawdata/2018060...</td>\n",
       "      <td>/home/aic/BigHDD/MR_DATA/GLUT1/Rawdata/2018060...</td>\n",
       "      <td>/home/aic/BigHDD/MR_DATA/GLUT1/Rawdata/2018060...</td>\n",
       "      <td>/home/aic/BigHDD/MR_DATA/GLUT1/Rawdata/2018060...</td>\n",
       "      <td>/home/aic/BigHDD/MR_DATA/GLUT1/Rawdata/2018060...</td>\n",
       "      <td>/home/aic/BigHDD/MR_DATA/GLUT1/Rawdata/2018060...</td>\n",
       "      <td>/home/aic/BigHDD/MR_DATA/GLUT1/Rawdata/2018061...</td>\n",
       "      <td>/home/aic/BigHDD/MR_DATA/GLUT1/Rawdata/2018061...</td>\n",
       "      <td>/home/aic/BigHDD/MR_DATA/GLUT1/Rawdata/2018061...</td>\n",
       "      <td>/home/aic/BigHDD/MR_DATA/GLUT1/Rawdata/2018061...</td>\n",
       "      <td>/home/aic/BigHDD/MR_DATA/GLUT1/Rawdata/2018061...</td>\n",
       "      <td>/home/aic/BigHDD/MR_DATA/GLUT1/Rawdata/2018061...</td>\n",
       "      <td>/home/aic/BigHDD/MR_DATA/GLUT1/Rawdata/2018061...</td>\n",
       "      <td>/home/aic/BigHDD/MR_DATA/GLUT1/Rawdata/2018061...</td>\n",
       "      <td>/home/aic/BigHDD/MR_DATA/GLUT1/Rawdata/2018061...</td>\n",
       "    </tr>\n",
       "  </tbody>\n",
       "</table>\n",
       "</div>"
      ],
      "text/plain": [
       "                                                   glut1_male1  \\\n",
       "scan                                                             \n",
       "Gd DCE                                                       6   \n",
       "Angio pre                                                    8   \n",
       "Angio post                                                  12   \n",
       "Endorem DCE                                                 11   \n",
       "Diamox                                                      15   \n",
       "folder       /home/aic/BigHDD/MR_DATA/GLUT1/Rawdata/2018060...   \n",
       "\n",
       "                                                   glut1_male2  \\\n",
       "scan                                                             \n",
       "Gd DCE                                                       8   \n",
       "Angio pre                                                    9   \n",
       "Angio post                                                  12   \n",
       "Endorem DCE                                                 11   \n",
       "Diamox                                                      14   \n",
       "folder       /home/aic/BigHDD/MR_DATA/GLUT1/Rawdata/2018060...   \n",
       "\n",
       "                                                 glut1_f10wks1  \\\n",
       "scan                                                             \n",
       "Gd DCE                                                       6   \n",
       "Angio pre                                                    7   \n",
       "Angio post                                                  11   \n",
       "Endorem DCE                                                 10   \n",
       "Diamox                                                      13   \n",
       "folder       /home/aic/BigHDD/MR_DATA/GLUT1/Rawdata/2018060...   \n",
       "\n",
       "                                                 glut1_f10wks2  \\\n",
       "scan                                                             \n",
       "Gd DCE                                                       5   \n",
       "Angio pre                                                    6   \n",
       "Angio post                                                   9   \n",
       "Endorem DCE                                                  8   \n",
       "Diamox                                                      11   \n",
       "folder       /home/aic/BigHDD/MR_DATA/GLUT1/Rawdata/2018060...   \n",
       "\n",
       "                                                 glut1_f10wks3  \\\n",
       "scan                                                             \n",
       "Gd DCE                                                       5   \n",
       "Angio pre                                                    6   \n",
       "Angio post                                                   9   \n",
       "Endorem DCE                                                  8   \n",
       "Diamox                                                      13   \n",
       "folder       /home/aic/BigHDD/MR_DATA/GLUT1/Rawdata/2018060...   \n",
       "\n",
       "                                                 glut1_f10wks4  \\\n",
       "scan                                                             \n",
       "Gd DCE                                                       8   \n",
       "Angio pre                                                    9   \n",
       "Angio post                                                  13   \n",
       "Endorem DCE                                                 12   \n",
       "Diamox                                                      15   \n",
       "folder       /home/aic/BigHDD/MR_DATA/GLUT1/Rawdata/2018060...   \n",
       "\n",
       "                                                 glut1_f10wks5  \\\n",
       "scan                                                             \n",
       "Gd DCE                                                       5   \n",
       "Angio pre                                                    6   \n",
       "Angio post                                                  10   \n",
       "Endorem DCE                                                  9   \n",
       "Diamox                                                      12   \n",
       "folder       /home/aic/BigHDD/MR_DATA/GLUT1/Rawdata/2018060...   \n",
       "\n",
       "                                                 glut1_f10wks6  \\\n",
       "scan                                                             \n",
       "Gd DCE                                                       5   \n",
       "Angio pre                                                    6   \n",
       "Angio post                                                  11   \n",
       "Endorem DCE                                                 10   \n",
       "Diamox                                                      13   \n",
       "folder       /home/aic/BigHDD/MR_DATA/GLUT1/Rawdata/2018060...   \n",
       "\n",
       "                                                  glut1_f8wks1  \\\n",
       "scan                                                             \n",
       "Gd DCE                                                       7   \n",
       "Angio pre                                                    8   \n",
       "Angio post                                                  12   \n",
       "Endorem DCE                                                 10   \n",
       "Diamox                                                      14   \n",
       "folder       /home/aic/BigHDD/MR_DATA/GLUT1/Rawdata/2018061...   \n",
       "\n",
       "                                                  glut1_f8wks2  \\\n",
       "scan                                                             \n",
       "Gd DCE                                                       5   \n",
       "Angio pre                                                    6   \n",
       "Angio post                                                  11   \n",
       "Endorem DCE                                                 10   \n",
       "Diamox                                                      13   \n",
       "folder       /home/aic/BigHDD/MR_DATA/GLUT1/Rawdata/2018061...   \n",
       "\n",
       "                                                  glut1_f8wks3  \\\n",
       "scan                                                             \n",
       "Gd DCE                                                       6   \n",
       "Angio pre                                                    9   \n",
       "Angio post                                                  12   \n",
       "Endorem DCE                                                 11   \n",
       "Diamox                                                      16   \n",
       "folder       /home/aic/BigHDD/MR_DATA/GLUT1/Rawdata/2018061...   \n",
       "\n",
       "                                                  glut1_f8wks4  \\\n",
       "scan                                                             \n",
       "Gd DCE                                                       6   \n",
       "Angio pre                                                    8   \n",
       "Angio post                                                  12   \n",
       "Endorem DCE                                                 11   \n",
       "Diamox                                                      17   \n",
       "folder       /home/aic/BigHDD/MR_DATA/GLUT1/Rawdata/2018061...   \n",
       "\n",
       "                                                  glut1_f8wks5  \\\n",
       "scan                                                             \n",
       "Gd DCE                                                       8   \n",
       "Angio pre                                                    9   \n",
       "Angio post                                                  16   \n",
       "Endorem DCE                                                 15   \n",
       "Diamox                                                      20   \n",
       "folder       /home/aic/BigHDD/MR_DATA/GLUT1/Rawdata/2018061...   \n",
       "\n",
       "                                                  glut1_f8wks6  \\\n",
       "scan                                                             \n",
       "Gd DCE                                                       8   \n",
       "Angio pre                                                    9   \n",
       "Angio post                                                  13   \n",
       "Endorem DCE                                                 12   \n",
       "Diamox                                                      16   \n",
       "folder       /home/aic/BigHDD/MR_DATA/GLUT1/Rawdata/2018061...   \n",
       "\n",
       "                                                  glut1_f8wks7  \\\n",
       "scan                                                             \n",
       "Gd DCE                                                       6   \n",
       "Angio pre                                                    8   \n",
       "Angio post                                                  12   \n",
       "Endorem DCE                                                 11   \n",
       "Diamox                                                      14   \n",
       "folder       /home/aic/BigHDD/MR_DATA/GLUT1/Rawdata/2018061...   \n",
       "\n",
       "                                                  glut1_f6wks2  \\\n",
       "scan                                                             \n",
       "Gd DCE                                                       5   \n",
       "Angio pre                                                    6   \n",
       "Angio post                                                   9   \n",
       "Endorem DCE                                                  8   \n",
       "Diamox                                                      11   \n",
       "folder       /home/aic/BigHDD/MR_DATA/GLUT1/Rawdata/2018061...   \n",
       "\n",
       "                                                  glut1_f6wks1  \n",
       "scan                                                            \n",
       "Gd DCE                                                       5  \n",
       "Angio pre                                                    6  \n",
       "Angio post                                                  10  \n",
       "Endorem DCE                                                  9  \n",
       "Diamox                                                      13  \n",
       "folder       /home/aic/BigHDD/MR_DATA/GLUT1/Rawdata/2018061...  "
      ]
     },
     "execution_count": 2,
     "metadata": {},
     "output_type": "execute_result"
    }
   ],
   "source": [
    "# Default Parameters (to run script independently)\n",
    "folders = {}\n",
    "folders['raw'] = '/home/aic/BigHDD/MR_DATA/GLUT1/Rawdata'\n",
    "folders['main'] = os.path.dirname(folders['raw'])\n",
    "folders['analysis'] = '/home/aic/BigHDD/MR_DATA/GLUT1/Analysis'\n",
    "folders['animal'] = '/home/aic/BigHDD/MR_DATA/GLUT1/Rawdata/20180604_101508_Glut1_2_2'\n",
    "folders['excel'] = 'Animal_Scan_IDs.xlsx'\n",
    "\n",
    "\n",
    "animal = 'glut1_male1'\n",
    "\n",
    "\n",
    "info = h.getinfo(folders)\n",
    "info"
   ]
  },
  {
   "cell_type": "code",
   "execution_count": 3,
   "metadata": {},
   "outputs": [],
   "source": [
    "# additional Script specific parameters\n",
    "\n",
    "info = pd.read_json(info)  #<-- dont run this line in single animal mode\n",
    "\n",
    "folders['template'] = os.path.join(folders['main'], 'Templates', 'Angio_pre.nii' ) # from animal glut1_male1\n",
    "folders['out'] = os.path.join(folders['analysis'], animal, 'Angiography')\n"
   ]
  },
  {
   "cell_type": "markdown",
   "metadata": {},
   "source": [
    "## Convert and obtain the correct scans"
   ]
  },
  {
   "cell_type": "code",
   "execution_count": 4,
   "metadata": {},
   "outputs": [
    {
     "ename": "FileNotFoundError",
     "evalue": "No such file or no access: '/home/aic/BigHDD/MR_DATA/GLUT1/Analysis/glut1_male1/X8P1.nii'",
     "output_type": "error",
     "traceback": [
      "\u001b[0;31m---------------------------------------------------------------------------\u001b[0m",
      "\u001b[0;31mFileNotFoundError\u001b[0m                         Traceback (most recent call last)",
      "\u001b[0;32m~/anaconda3/lib/python3.6/site-packages/nibabel/loadsave.py\u001b[0m in \u001b[0;36mload\u001b[0;34m(filename, **kwargs)\u001b[0m\n\u001b[1;32m     39\u001b[0m     \u001b[0;32mtry\u001b[0m\u001b[0;34m:\u001b[0m\u001b[0;34m\u001b[0m\u001b[0m\n\u001b[0;32m---> 40\u001b[0;31m         \u001b[0mstat_result\u001b[0m \u001b[0;34m=\u001b[0m \u001b[0mos\u001b[0m\u001b[0;34m.\u001b[0m\u001b[0mstat\u001b[0m\u001b[0;34m(\u001b[0m\u001b[0mfilename\u001b[0m\u001b[0;34m)\u001b[0m\u001b[0;34m\u001b[0m\u001b[0m\n\u001b[0m\u001b[1;32m     41\u001b[0m     \u001b[0;32mexcept\u001b[0m \u001b[0mOSError\u001b[0m\u001b[0;34m:\u001b[0m\u001b[0;34m\u001b[0m\u001b[0m\n",
      "\u001b[0;31mFileNotFoundError\u001b[0m: [Errno 2] No such file or directory: '/home/aic/BigHDD/MR_DATA/GLUT1/Analysis/glut1_male1/X8P1.nii'",
      "\nDuring handling of the above exception, another exception occurred:\n",
      "\u001b[0;31mFileNotFoundError\u001b[0m                         Traceback (most recent call last)",
      "\u001b[0;32m<ipython-input-4-b3cc5ab8289f>\u001b[0m in \u001b[0;36m<module>\u001b[0;34m()\u001b[0m\n\u001b[1;32m     10\u001b[0m \u001b[0;34m\u001b[0m\u001b[0m\n\u001b[1;32m     11\u001b[0m \u001b[0;34m\u001b[0m\u001b[0m\n\u001b[0;32m---> 12\u001b[0;31m \u001b[0mpre\u001b[0m \u001b[0;34m=\u001b[0m \u001b[0mnib\u001b[0m\u001b[0;34m.\u001b[0m\u001b[0mload\u001b[0m\u001b[0;34m(\u001b[0m\u001b[0mscans\u001b[0m\u001b[0;34m[\u001b[0m\u001b[0;34m'pre'\u001b[0m\u001b[0;34m]\u001b[0m\u001b[0;34m)\u001b[0m\u001b[0;34m\u001b[0m\u001b[0m\n\u001b[0m\u001b[1;32m     13\u001b[0m \u001b[0mpost\u001b[0m \u001b[0;34m=\u001b[0m \u001b[0mnib\u001b[0m\u001b[0;34m.\u001b[0m\u001b[0mload\u001b[0m\u001b[0;34m(\u001b[0m\u001b[0mscans\u001b[0m\u001b[0;34m[\u001b[0m\u001b[0;34m'post'\u001b[0m\u001b[0;34m]\u001b[0m\u001b[0;34m)\u001b[0m\u001b[0;34m\u001b[0m\u001b[0m\n\u001b[1;32m     14\u001b[0m \u001b[0mprint\u001b[0m\u001b[0;34m(\u001b[0m\u001b[0;34mf'check if these dimensions make sense:  pre: {pre.shape}, post:  {post.shape}'\u001b[0m\u001b[0;34m)\u001b[0m\u001b[0;34m\u001b[0m\u001b[0m\n",
      "\u001b[0;32m~/anaconda3/lib/python3.6/site-packages/nibabel/loadsave.py\u001b[0m in \u001b[0;36mload\u001b[0;34m(filename, **kwargs)\u001b[0m\n\u001b[1;32m     40\u001b[0m         \u001b[0mstat_result\u001b[0m \u001b[0;34m=\u001b[0m \u001b[0mos\u001b[0m\u001b[0;34m.\u001b[0m\u001b[0mstat\u001b[0m\u001b[0;34m(\u001b[0m\u001b[0mfilename\u001b[0m\u001b[0;34m)\u001b[0m\u001b[0;34m\u001b[0m\u001b[0m\n\u001b[1;32m     41\u001b[0m     \u001b[0;32mexcept\u001b[0m \u001b[0mOSError\u001b[0m\u001b[0;34m:\u001b[0m\u001b[0;34m\u001b[0m\u001b[0m\n\u001b[0;32m---> 42\u001b[0;31m         \u001b[0;32mraise\u001b[0m \u001b[0mFileNotFoundError\u001b[0m\u001b[0;34m(\u001b[0m\u001b[0;34m\"No such file or no access: '%s'\"\u001b[0m \u001b[0;34m%\u001b[0m \u001b[0mfilename\u001b[0m\u001b[0;34m)\u001b[0m\u001b[0;34m\u001b[0m\u001b[0m\n\u001b[0m\u001b[1;32m     43\u001b[0m     \u001b[0;32mif\u001b[0m \u001b[0mstat_result\u001b[0m\u001b[0;34m.\u001b[0m\u001b[0mst_size\u001b[0m \u001b[0;34m<=\u001b[0m \u001b[0;36m0\u001b[0m\u001b[0;34m:\u001b[0m\u001b[0;34m\u001b[0m\u001b[0m\n\u001b[1;32m     44\u001b[0m         \u001b[0;32mraise\u001b[0m \u001b[0mImageFileError\u001b[0m\u001b[0;34m(\u001b[0m\u001b[0;34m\"Empty file: '%s'\"\u001b[0m \u001b[0;34m%\u001b[0m \u001b[0mfilename\u001b[0m\u001b[0;34m)\u001b[0m\u001b[0;34m\u001b[0m\u001b[0m\n",
      "\u001b[0;31mFileNotFoundError\u001b[0m: No such file or no access: '/home/aic/BigHDD/MR_DATA/GLUT1/Analysis/glut1_male1/X8P1.nii'"
     ]
    }
   ],
   "source": [
    "#todo: allow some fuzzy word matching\n",
    "scans={}\n",
    "scans['pre_nr'] = int(info.loc['Angio pre', animal])\n",
    "scans['post_nr'] = int(info.loc['Angio post', animal])\n",
    "\n",
    "h.check_and_convert(folders, animal)\n",
    "\n",
    "if not os.path.exists(folders['out']):\n",
    "    os.makedirs(folders['out'] )\n",
    "\n",
    "scans['pre'] = os.path.join(folders['analysis'], animal, f\"X{scans['pre_nr']}P1.nii\")\n",
    "scans['post'] = os.path.join(folders['analysis'], animal, f\"X{scans['post_nr']}P1.nii\")\n",
    "\n",
    "\n",
    "pre = nib.load(scans['pre'])\n",
    "post = nib.load(scans['post'])\n",
    "print(f'check if these dimensions make sense:  pre: {pre.shape}, post:  {post.shape}')"
   ]
  },
  {
   "cell_type": "markdown",
   "metadata": {},
   "source": [
    "## Coregistration to template"
   ]
  },
  {
   "cell_type": "code",
   "execution_count": 5,
   "metadata": {},
   "outputs": [],
   "source": [
    "# coregister to template\n",
    "scans['pre_coreg'], scans['post_coreg'] = h.simple_coreg(folders['template'], scans['pre'], scans['post'], folders['out'])"
   ]
  },
  {
   "cell_type": "markdown",
   "metadata": {},
   "source": [
    "## Signal Subtraction"
   ]
  },
  {
   "cell_type": "code",
   "execution_count": 81,
   "metadata": {},
   "outputs": [
    {
     "name": "stdout",
     "output_type": "stream",
     "text": [
      "3dcalc -a /home/aic/BigHDD/MR_DATA/GLUT1/Analysis/glut1_male1/Angiography/post_coreg+orig  -b /home/aic/BigHDD/MR_DATA/GLUT1/Analysis/glut1_male1/Angiography/pre_coreg+orig -expr '(a-b)*10000' -prefix /home/aic/BigHDD/MR_DATA/GLUT1/Analysis/glut1_male1/Angiography/Post_minus_Pre_glut1_male1.nii\n"
     ]
    }
   ],
   "source": [
    "# subtract post from pre\n",
    "scans['post_min_pre'] = f\"{folders['out']}/Post_minus_Pre_{animal}.nii\"\n",
    "factor = 10000  #<-- multiply values to prevent rounding errors (subtraction result is close to zero)\n",
    "h.runAFNI(f\"3dcalc -a {scans['post_coreg']}  -b {scans['pre_coreg']} -expr '(a-b)*{factor}' -prefix {scans['post_min_pre']}\")"
   ]
  },
  {
   "cell_type": "code",
   "execution_count": 85,
   "metadata": {},
   "outputs": [
    {
     "data": {
      "application/papermill.record+json": {
       "post_minus_pre": "/home/aic/BigHDD/MR_DATA/GLUT1/Analysis/glut1_male1/Angiography/Post_minus_Pre_glut1_male1.nii"
      }
     },
     "metadata": {},
     "output_type": "display_data"
    }
   ],
   "source": [
    "# storing data in notebook to be consumed by main notebook later\n",
    "\n",
    "pm.record(\"post_minus_pre\", scans['post_min_pre'])"
   ]
  },
  {
   "cell_type": "markdown",
   "metadata": {},
   "source": [
    "# Below some unfinished investigation tools\n",
    "\n",
    "To be implemented:\n",
    "- autmotacially detect number of vessels, determine size, length, etc.\n",
    "- Currently, manual count in AFNI or ImageJ necessary"
   ]
  },
  {
   "cell_type": "code",
   "execution_count": 82,
   "metadata": {},
   "outputs": [],
   "source": [
    "# load result and use header to calculate FOV, image cooridnates, etc.\n",
    "img = nib.load(scans['post_min_pre'])\n",
    "data = img.get_fdata()\n",
    "hdr = img.header\n",
    "\n",
    "dimensions = Settings()\n",
    "dimensions.res = [hdr['pixdim'][1], hdr['pixdim'][2], hdr['pixdim'][3]]\n",
    "dimensions.fov = [ dimensions.res[0]*(hdr['dim'][1]-1), dimensions.res[1]*(hdr['dim'][2]-1), dimensions.res[2]*(hdr['dim'][3]-1) ]\n",
    "dimensions.min = [ -hdr['qoffset_x'], -hdr['qoffset_y'], hdr['qoffset_z']-dimensions.fov[2] ]\n",
    "dimensions.max = [ -hdr['qoffset_x']+dimensions.fov[0], -hdr['qoffset_y']+dimensions.fov[1], float(hdr['qoffset_z']) ]\n"
   ]
  },
  {
   "cell_type": "markdown",
   "metadata": {},
   "source": [
    "## Interactive plot to check result"
   ]
  },
  {
   "cell_type": "code",
   "execution_count": 80,
   "metadata": {
    "scrolled": false
   },
   "outputs": [
    {
     "data": {
      "application/vnd.jupyter.widget-view+json": {
       "model_id": "3b899b7646d545d2ab708d4207540964",
       "version_major": 2,
       "version_minor": 0
      },
      "text/plain": [
       "interactive(children=(FloatSlider(value=0.14673669263720512, description='y', max=7.56181138381362, min=-7.208…"
      ]
     },
     "metadata": {},
     "output_type": "display_data"
    }
   ],
   "source": [
    "@interact(y=(dimensions.min[1],dimensions.max[1],dimensions.res[1]),\n",
    "          z=(dimensions.min[2],dimensions.max[2],dimensions.res[2]), continuous_update=False)\n",
    "def plot_result(y,z):\n",
    "    fig = plt.figure(figsize=(25,5))\n",
    "#     coord = (-3,4)\n",
    "    coord = (y,z)\n",
    "    nip.plot_img(img, display_mode='yz', figure=fig, cut_coords=coord, cmap='gray')"
   ]
  },
  {
   "cell_type": "code",
   "execution_count": 38,
   "metadata": {},
   "outputs": [
    {
     "data": {
      "image/png": "[encoded data removed]",
      "text/plain": [
       "<Figure size 432x288 with 1 Axes>"
      ]
     },
     "metadata": {
      "needs_background": "light"
     },
     "output_type": "display_data"
    }
   ],
   "source": [
    "#threshold and check values. Don't forget multiplication factor for quantification\n",
    "\n",
    "threshold = 10\n",
    "# data[data <= threshold] = 0\n",
    "\n",
    "plt.hist(data.flatten(), bins=80, color='c', range=(threshold, np.max(data)))\n",
    "plt.show()"
   ]
  },
  {
   "cell_type": "markdown",
   "metadata": {},
   "source": [
    "## Below just some unfinished experimental stuff"
   ]
  },
  {
   "cell_type": "markdown",
   "metadata": {},
   "source": [
    "fig, axes = plt.subplots(1, 3, figsize=(5, 10))\n",
    "for ii, ax in enumerate(axes):\n",
    "    ax.set_facecolor('black')\n",
    "    ax.tick_params(\n",
    "        axis='both', which='both', bottom='off', top='off',\n",
    "        labelbottom='off', right='off', left='off', labelleft='off'\n",
    "        )\n",
    "    # fix the axis limits\n",
    "    axis_limits = [limit for jj, limit in enumerate(img.shape[:3])\n",
    "                   if jj != ii]\n",
    "    ax.set_xlim(0, axis_limits[0])\n",
    "    ax.set_ylim(0, axis_limits[1])\n",
    "\n",
    "\n",
    "\n",
    "\n",
    "my_widget = NiftiWidget(scans.post_min_pre)\n",
    "\n",
    "\n",
    "# my_widget.nifti_plotter(figsize=(20,40))\n",
    "my_widget.nifti_plotter(plotting_func=nip.plot_img, colormap=None, figsize=(5, 10),\n",
    "                        figure=fig,\n",
    "                        axes = axes)"
   ]
  },
  {
   "cell_type": "markdown",
   "metadata": {},
   "source": [
    "from skimage import measure, morphology\n",
    "from mpl_toolkits.mplot3d.art3d import Poly3DCollection\n",
    "\n",
    "def plot_3d(image):\n",
    "    \n",
    "    # Position the scan upright, \n",
    "    # so the head of the patient would be at the top facing the camera\n",
    "#     p = image.transpose(2,1,0)\n",
    "    p=image\n",
    "    verts, faces, _, _  = measure.marching_cubes(p)\n",
    "\n",
    "    fig = plt.figure(figsize=(10, 10))\n",
    "    ax = fig.add_subplot(111, projection='3d')\n",
    "\n",
    "    # Fancy indexing: `verts[faces]` to generate a collection of triangles\n",
    "    mesh = Poly3DCollection(verts[faces], alpha=0.70)\n",
    "    face_color = [0.45, 0.45, 0.75]\n",
    "    mesh.set_facecolor(face_color)\n",
    "    ax.add_collection3d(mesh)\n",
    "\n",
    "    ax.set_xlim(0, p.shape[0])\n",
    "    ax.set_ylim(0, p.shape[1])\n",
    "    ax.set_zlim(0, p.shape[2])\n",
    "\n",
    "    plt.show()\n",
    "\n",
    "plot_3d(data)"
   ]
  }
 ],
 "metadata": {
  "kernelspec": {
   "display_name": "Python 3",
   "language": "python",
   "name": "python3"
  },
  "language_info": {
   "codemirror_mode": {
    "name": "ipython",
    "version": 3
   },
   "file_extension": ".py",
   "mimetype": "text/x-python",
   "name": "python",
   "nbconvert_exporter": "python",
   "pygments_lexer": "ipython3",
   "version": "3.6.6"
  }
 },
 "nbformat": 4,
 "nbformat_minor": 2
}
