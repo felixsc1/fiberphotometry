{
 "cells": [
  {
   "cell_type": "code",
   "execution_count": 1,
   "metadata": {},
   "outputs": [],
   "source": [
    "import os, sys, shutil\n",
    "import subprocess\n",
    "import fnmatch\n",
    "import numpy as np\n",
    "import glob\n",
    "import pandas as pd"
   ]
  },
  {
   "cell_type": "markdown",
   "metadata": {},
   "source": [
    "## Settings"
   ]
  },
  {
   "cell_type": "code",
   "execution_count": 2,
   "metadata": {},
   "outputs": [],
   "source": [
    "# animal folder\n",
    "\n",
    "# file_path = '/media/sf_MRIDATA/Gadospin2018/20180903/test/horizontal_scans'\n",
    "file_path = '/media/sf_MRIDATA/Gadospin2018/20180903/control/horizontal_scans'\n",
    "\n",
    "\n",
    "template = '/media/sf_MRIDATA/Gadospin2018/20180903/template/X12P1.nii'\n",
    "\n",
    "ROI = '/media/sf_MRIDATA/Gadospin2018/20180903/template/ROI_horizontal.nii'"
   ]
  },
  {
   "cell_type": "markdown",
   "metadata": {},
   "source": [
    "## Convert scans"
   ]
  },
  {
   "cell_type": "code",
   "execution_count": 3,
   "metadata": {},
   "outputs": [],
   "source": [
    "def runAFNI(inputstring):\n",
    "    print(inputstring)\n",
    "    subprocess.run(inputstring,shell=True, check=True)"
   ]
  },
  {
   "cell_type": "code",
   "execution_count": 4,
   "metadata": {},
   "outputs": [
    {
     "name": "stdout",
     "output_type": "stream",
     "text": [
      "Bru2 /media/sf_MRIDATA/Gadospin2018/20180903/test/subject\n"
     ]
    }
   ],
   "source": [
    "main_path = os.path.dirname(file_path)\n",
    "runAFNI(f'Bru2 {main_path}/subject')"
   ]
  },
  {
   "cell_type": "markdown",
   "metadata": {},
   "source": [
    "##  Extract ROIs"
   ]
  },
  {
   "cell_type": "code",
   "execution_count": null,
   "metadata": {},
   "outputs": [
    {
     "name": "stdout",
     "output_type": "stream",
     "text": [
      "X12\n",
      "3dAllineate -base /media/sf_MRIDATA/Gadospin2018/20180903/template/X12P1.nii -source /media/sf_MRIDATA/Gadospin2018/20180903/test/horizontal_scans/X12P1.nii -prefix /media/sf_MRIDATA/Gadospin2018/20180903/test/horizontal_scans/X12coreg -cost ls -twoblur 1 -final 'wsinc5'\n",
      "3dROIstats -mask /media/sf_MRIDATA/Gadospin2018/20180903/template/ROI_horizontal.nii -sigma /media/sf_MRIDATA/Gadospin2018/20180903/test/horizontal_scans/X12P1.nii > /media/sf_MRIDATA/Gadospin2018/20180903/test/horizontal_scans/ROIdata_X12.1D\n",
      "X14\n",
      "3dAllineate -base /media/sf_MRIDATA/Gadospin2018/20180903/template/X12P1.nii -source /media/sf_MRIDATA/Gadospin2018/20180903/test/horizontal_scans/X14P1.nii -prefix /media/sf_MRIDATA/Gadospin2018/20180903/test/horizontal_scans/X14coreg -cost ls -twoblur 1 -final 'wsinc5'\n",
      "3dROIstats -mask /media/sf_MRIDATA/Gadospin2018/20180903/template/ROI_horizontal.nii -sigma /media/sf_MRIDATA/Gadospin2018/20180903/test/horizontal_scans/X14P1.nii > /media/sf_MRIDATA/Gadospin2018/20180903/test/horizontal_scans/ROIdata_X14.1D\n",
      "X17\n",
      "3dAllineate -base /media/sf_MRIDATA/Gadospin2018/20180903/template/X12P1.nii -source /media/sf_MRIDATA/Gadospin2018/20180903/test/horizontal_scans/X17P1.nii -prefix /media/sf_MRIDATA/Gadospin2018/20180903/test/horizontal_scans/X17coreg -cost ls -twoblur 1 -final 'wsinc5'\n",
      "3dROIstats -mask /media/sf_MRIDATA/Gadospin2018/20180903/template/ROI_horizontal.nii -sigma /media/sf_MRIDATA/Gadospin2018/20180903/test/horizontal_scans/X17P1.nii > /media/sf_MRIDATA/Gadospin2018/20180903/test/horizontal_scans/ROIdata_X17.1D\n",
      "X19\n",
      "3dAllineate -base /media/sf_MRIDATA/Gadospin2018/20180903/template/X12P1.nii -source /media/sf_MRIDATA/Gadospin2018/20180903/test/horizontal_scans/X19P1.nii -prefix /media/sf_MRIDATA/Gadospin2018/20180903/test/horizontal_scans/X19coreg -cost ls -twoblur 1 -final 'wsinc5'\n"
     ]
    }
   ],
   "source": [
    "def splitall(path):\n",
    "    allparts = []\n",
    "    while 1:\n",
    "        parts = os.path.split(path)\n",
    "        if parts[0] == path:  # sentinel for absolute paths\n",
    "            allparts.insert(0, parts[0])\n",
    "            break\n",
    "        elif parts[1] == path: # sentinel for relative paths\n",
    "            allparts.insert(0, parts[1])\n",
    "            break\n",
    "        else:\n",
    "            path = parts[0]\n",
    "            allparts.insert(0, parts[1])\n",
    "    return allparts\n",
    "\n",
    "\n",
    "# for folderName, subfolders, filenames in os.walk(file_path):\n",
    "#     for file in filenames:\n",
    "#         if fnmatch.fnmatch(file, '*.nii'):\n",
    "#             file_path1 = glob.glob(os.path.join(folderName,file))\n",
    "#             file_path1 = file_path1[0]\n",
    "            \n",
    "#             for horizontal_scan in horizontal_scans:\n",
    "#                 if fnmatch.fnmatch(file_path1, f'*{horizontal_scan}P1.nii'):\n",
    "#                     print('horizontal scan')\n",
    "#                     print('extracting rois from: ', file_path1)\n",
    "#                     runAFNI(f'3dROIstats -mask {file_path}/{h_ROI} -sigma {file_path1} > {folderName}/ROIdata_h{horizontal_scan}.1D')\n",
    "#                 if fnmatch.fnmatch(file_path1, f'*{sagittal_scan}P1.nii'):\n",
    "#                     print('sagittal scan')\n",
    "#                     runAFNI(f'3dROIstats -mask {file_path}/{s_ROI} {file_path1} > {folderName}/ROIdata_s{horizontal_scan-1}.1D')\n",
    "\n",
    "for folderName, subfolders, filenames in os.walk(file_path):\n",
    "    for file in filenames:\n",
    "        if fnmatch.fnmatch(file, '*.nii'):\n",
    "            file_path1 = glob.glob(os.path.join(folderName,file))\n",
    "            file_path1 = file_path1[0] # filename\n",
    "            ID = splitall(file_path1)[-1][:-6] # scan number only\n",
    "            print(ID)\n",
    "#             print('extracting rois from: ', file_path1)\n",
    "            runAFNI(f\"3dAllineate -base {template} -source {file_path1} -prefix {file_path}/{ID}coreg -cost ls -twoblur 1 -final 'wsinc5'\")\n",
    "            runAFNI(f'3dROIstats -mask {ROI} -sigma {file_path1} > {folderName}/ROIdata_{ID}.1D')\n"
   ]
  },
  {
   "cell_type": "markdown",
   "metadata": {},
   "source": [
    "## Read all ROI files"
   ]
  },
  {
   "cell_type": "code",
   "execution_count": 103,
   "metadata": {},
   "outputs": [
    {
     "name": "stdout",
     "output_type": "stream",
     "text": [
      "/media/sf_MRIDATA/Gadospin2018/20180903/test/ROIdata_h12.1D\n",
      "/media/sf_MRIDATA/Gadospin2018/20180903/test/ROIdata_h14.1D\n",
      "/media/sf_MRIDATA/Gadospin2018/20180903/test/ROIdata_h17.1D\n",
      "/media/sf_MRIDATA/Gadospin2018/20180903/test/ROIdata_h19.1D\n",
      "/media/sf_MRIDATA/Gadospin2018/20180903/test/ROIdata_h21.1D\n"
     ]
    }
   ],
   "source": [
    "allfiles = glob.glob(f'{file_path}/*.1D')\n",
    "\n",
    "frame = pd.DataFrame()\n",
    "list_ = []\n",
    "for file_ in allfiles:\n",
    "    print(file_)\n",
    "    df = pd.read_table(file_)\n",
    "    list_.append(df)\n",
    "frame = pd.concat(list_)\n",
    "\n",
    "frame.columns"
   ]
  },
  {
   "cell_type": "code",
   "execution_count": 122,
   "metadata": {},
   "outputs": [
    {
     "data": {
      "text/html": [
       "<div>\n",
       "<style scoped>\n",
       "    .dataframe tbody tr th:only-of-type {\n",
       "        vertical-align: middle;\n",
       "    }\n",
       "\n",
       "    .dataframe tbody tr th {\n",
       "        vertical-align: top;\n",
       "    }\n",
       "\n",
       "    .dataframe thead th {\n",
       "        text-align: right;\n",
       "    }\n",
       "</style>\n",
       "<table border=\"1\" class=\"dataframe\">\n",
       "  <thead>\n",
       "    <tr style=\"text-align: right;\">\n",
       "      <th></th>\n",
       "      <th>File</th>\n",
       "      <th>Mean_noiseR</th>\n",
       "      <th>Sigma_noiseR</th>\n",
       "      <th>Mean_noiseL</th>\n",
       "      <th>Sigma_noiseL</th>\n",
       "      <th>Mean_signalR</th>\n",
       "      <th>Sigma_signalR</th>\n",
       "      <th>Mean_signalL</th>\n",
       "      <th>Sigma_signalL</th>\n",
       "      <th>SNR</th>\n",
       "    </tr>\n",
       "  </thead>\n",
       "  <tbody>\n",
       "    <tr>\n",
       "      <th>0</th>\n",
       "      <td>/media/sf_MRIDATA/Gadospin2018/20180903/test/X...</td>\n",
       "      <td>0.000078</td>\n",
       "      <td>0.000020</td>\n",
       "      <td>0.000079</td>\n",
       "      <td>0.000021</td>\n",
       "      <td>0.002109</td>\n",
       "      <td>0.001500</td>\n",
       "      <td>0.001961</td>\n",
       "      <td>0.001149</td>\n",
       "      <td>99.415476</td>\n",
       "    </tr>\n",
       "    <tr>\n",
       "      <th>0</th>\n",
       "      <td>/media/sf_MRIDATA/Gadospin2018/20180903/test/X...</td>\n",
       "      <td>0.000080</td>\n",
       "      <td>0.000020</td>\n",
       "      <td>0.000078</td>\n",
       "      <td>0.000020</td>\n",
       "      <td>0.002827</td>\n",
       "      <td>0.001517</td>\n",
       "      <td>0.002879</td>\n",
       "      <td>0.001409</td>\n",
       "      <td>142.650000</td>\n",
       "    </tr>\n",
       "    <tr>\n",
       "      <th>0</th>\n",
       "      <td>/media/sf_MRIDATA/Gadospin2018/20180903/test/X...</td>\n",
       "      <td>0.000078</td>\n",
       "      <td>0.000021</td>\n",
       "      <td>0.000078</td>\n",
       "      <td>0.000021</td>\n",
       "      <td>0.003195</td>\n",
       "      <td>0.001455</td>\n",
       "      <td>0.002935</td>\n",
       "      <td>0.001457</td>\n",
       "      <td>145.952381</td>\n",
       "    </tr>\n",
       "    <tr>\n",
       "      <th>0</th>\n",
       "      <td>/media/sf_MRIDATA/Gadospin2018/20180903/test/X...</td>\n",
       "      <td>0.000082</td>\n",
       "      <td>0.000021</td>\n",
       "      <td>0.000080</td>\n",
       "      <td>0.000022</td>\n",
       "      <td>0.003287</td>\n",
       "      <td>0.001542</td>\n",
       "      <td>0.002870</td>\n",
       "      <td>0.001422</td>\n",
       "      <td>143.489177</td>\n",
       "    </tr>\n",
       "    <tr>\n",
       "      <th>0</th>\n",
       "      <td>/media/sf_MRIDATA/Gadospin2018/20180903/test/X...</td>\n",
       "      <td>0.000085</td>\n",
       "      <td>0.000022</td>\n",
       "      <td>0.000081</td>\n",
       "      <td>0.000021</td>\n",
       "      <td>0.003218</td>\n",
       "      <td>0.001573</td>\n",
       "      <td>0.002592</td>\n",
       "      <td>0.001322</td>\n",
       "      <td>134.850649</td>\n",
       "    </tr>\n",
       "  </tbody>\n",
       "</table>\n",
       "</div>"
      ],
      "text/plain": [
       "                                                File  Mean_noiseR    \\\n",
       "0  /media/sf_MRIDATA/Gadospin2018/20180903/test/X...       0.000078   \n",
       "0  /media/sf_MRIDATA/Gadospin2018/20180903/test/X...       0.000080   \n",
       "0  /media/sf_MRIDATA/Gadospin2018/20180903/test/X...       0.000078   \n",
       "0  /media/sf_MRIDATA/Gadospin2018/20180903/test/X...       0.000082   \n",
       "0  /media/sf_MRIDATA/Gadospin2018/20180903/test/X...       0.000085   \n",
       "\n",
       "   Sigma_noiseR  Mean_noiseL    Sigma_noiseL  Mean_signalR    Sigma_signalR  \\\n",
       "0      0.000020       0.000079      0.000021        0.002109       0.001500   \n",
       "0      0.000020       0.000078      0.000020        0.002827       0.001517   \n",
       "0      0.000021       0.000078      0.000021        0.003195       0.001455   \n",
       "0      0.000021       0.000080      0.000022        0.003287       0.001542   \n",
       "0      0.000022       0.000081      0.000021        0.003218       0.001573   \n",
       "\n",
       "   Mean_signalL    Sigma_signalL         SNR  \n",
       "0        0.001961       0.001149   99.415476  \n",
       "0        0.002879       0.001409  142.650000  \n",
       "0        0.002935       0.001457  145.952381  \n",
       "0        0.002870       0.001422  143.489177  \n",
       "0        0.002592       0.001322  134.850649  "
      ]
     },
     "execution_count": 122,
     "metadata": {},
     "output_type": "execute_result"
    }
   ],
   "source": [
    "frame['SNR'] = ( frame['Mean_signalR  ']/frame['Sigma_noiseR'] + frame['Mean_signalL  ']/frame['Sigma_noiseL'] ) / 2\n",
    "\n",
    "del frame['Sub-brick']\n",
    "\n",
    "frame.to_excel(f'{file_path}/output.xlsx')\n",
    "frame"
   ]
  }
 ],
 "metadata": {
  "kernelspec": {
   "display_name": "Python 3",
   "language": "python",
   "name": "python3"
  },
  "language_info": {
   "codemirror_mode": {
    "name": "ipython",
    "version": 3
   },
   "file_extension": ".py",
   "mimetype": "text/x-python",
   "name": "python",
   "nbconvert_exporter": "python",
   "pygments_lexer": "ipython3",
   "version": "3.6.5"
  }
 },
 "nbformat": 4,
 "nbformat_minor": 2
}
