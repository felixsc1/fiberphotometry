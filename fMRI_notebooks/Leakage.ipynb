{
 "cells": [
  {
   "cell_type": "markdown",
   "metadata": {},
   "source": [
    "# Leakage - Gadolinium DCE"
   ]
  },
  {
   "cell_type": "markdown",
   "metadata": {},
   "source": [
    "Use this notebook for single animals, otherwise run it in batch from **GLUT1_Analysis**"
   ]
  },
  {
   "cell_type": "code",
   "execution_count": 1,
   "metadata": {},
   "outputs": [],
   "source": [
    "import os\n",
    "import subprocess\n",
    "import numpy as np\n",
    "import pandas as pd\n",
    "import MRIhelperfunctions as h\n",
    "import MRIhelperfunctions\n",
    "from MRIhelperfunctions import Settings\n",
    "from imp import importlib\n",
    "import fnmatch\n",
    "import papermill as pm\n",
    "\n",
    "import nibabel as nib\n",
    "import matplotlib.pyplot as plt\n",
    "%matplotlib inline  "
   ]
  },
  {
   "cell_type": "code",
   "execution_count": 23,
   "metadata": {},
   "outputs": [],
   "source": [
    "importlib.reload(h)\n",
    "import MRIhelperfunctions as h\n",
    "from MRIhelperfunctions import Settings"
   ]
  },
  {
   "cell_type": "code",
   "execution_count": 2,
   "metadata": {
    "tags": [
     "parameters"
    ]
   },
   "outputs": [],
   "source": [
    "# Default Parameters (to run script independently)\n",
    "folders = {}\n",
    "folders['raw'] = '/home/aic/BigHDD/MR_DATA/GLUT1/Rawdata'\n",
    "folders['main'] = os.path.dirname(folders['raw'])\n",
    "folders['analysis'] = '/home/aic/BigHDD/MR_DATA/GLUT1/Analysis'\n",
    "folders['animal'] = '/home/aic/BigHDD/MR_DATA/GLUT1/Rawdata/20180604_101508_Glut1_2_2'\n",
    "folders['excel'] = 'Animal_Scan_IDs.xlsx'\n",
    "\n",
    "\n",
    "animal = 'glut1_male1'\n",
    "\n",
    "\n",
    "info = h.getinfo(folders)\n",
    "info"
   ]
  },
  {
   "cell_type": "code",
   "execution_count": 13,
   "metadata": {},
   "outputs": [],
   "source": [
    "# additional Script specific parameters\n",
    "\n",
    "# info = pd.read_json(info)  #<-- dont run this line in single animal mode\n",
    "\n",
    "folders['template'] = os.path.join(folders['main'], 'Templates', 'Leakage_gd.nii' ) # from animal glut1_male1\n",
    "folders['in'] = os.path.join(folders['analysis'], animal)\n",
    "folders['out'] = os.path.join(folders['in'], 'Leakage')"
   ]
  },
  {
   "cell_type": "code",
   "execution_count": 10,
   "metadata": {},
   "outputs": [
    {
     "name": "stdout",
     "output_type": "stream",
     "text": [
      "check if these dimensions make sense:  pre: (80, 80, 300)\n"
     ]
    }
   ],
   "source": [
    "scans={}\n",
    "scans['number'] = int(info.loc['Gd DCE', animal])\n",
    "\n",
    "scans['raw'] = os.path.join(folders['in'], f\"X{scans['number']}P1.nii\")\n",
    "\n",
    "\n",
    "raw = nib.load(scans['raw'])\n",
    "print(f'check if these dimensions make sense:  pre: {raw.shape}')"
   ]
  },
  {
   "cell_type": "code",
   "execution_count": 60,
   "metadata": {},
   "outputs": [
    {
     "name": "stdout",
     "output_type": "stream",
     "text": [
      "3dTcat -prefix /home/aic/BigHDD/MR_DATA/GLUT1/Analysis/glut1_male1/Leakage/single_timepoint.nii /home/aic/BigHDD/MR_DATA/GLUT1/Analysis/glut1_male1/X6P1.nii'[0]'\n",
      "3dAllineate -base /home/aic/BigHDD/MR_DATA/GLUT1/Templates/Leakage_gd.nii -source /home/aic/BigHDD/MR_DATA/GLUT1/Analysis/glut1_male1/Leakage/single_timepoint.nii -prefix /home/aic/BigHDD/MR_DATA/GLUT1/Analysis/glut1_male1/Leakage/A_coreg.nii -cost ls -zclip -interp quintic -final wsinc5 -twopass -twoblur 2 -fineblur 0.5 -nmatch 80% -conv 0.01 -1Dparam_save /home/aic/BigHDD/MR_DATA/GLUT1/Analysis/glut1_male1/Leakage/1dparams.1D\n",
      "3dAllineate -1Dparam_apply /home/aic/BigHDD/MR_DATA/GLUT1/Analysis/glut1_male1/Leakage/1dparams.1D -source /home/aic/BigHDD/MR_DATA/GLUT1/Analysis/glut1_male1/X6P1.nii -prefix /home/aic/BigHDD/MR_DATA/GLUT1/Analysis/glut1_male1/Leakage/B_coreg.nii -cost ls -zclip -interp quintic -final wsinc5 -twopass -twoblur 2 -fineblur 0.5 -nmatch 80% -conv 0.01 -master /home/aic/BigHDD/MR_DATA/GLUT1/Templates/Leakage_gd.nii\n"
     ]
    }
   ],
   "source": [
    "# coregistration\n",
    "\n",
    "scans['single'] = f\"{folders['out']}/single_timepoint.nii\"\n",
    "\n",
    "# get single repetition\n",
    "h.runAFNI(f\"3dTcat -prefix {scans['single']} {scans['raw']}'[0]'\")\n",
    "\n",
    "scans['single_coreg'], scans['coreg'] = h.simple_coreg(folders['template'], scans['single'], scans['raw'], folders['out'])"
   ]
  },
  {
   "cell_type": "code",
   "execution_count": 115,
   "metadata": {},
   "outputs": [
    {
     "name": "stdout",
     "output_type": "stream",
     "text": [
      "<class 'nibabel.nifti1.Nifti1Header'> object, endian='<'\n",
      "sizeof_hdr      : 348\n",
      "data_type       : b''\n",
      "db_name         : b''\n",
      "extents         : 0\n",
      "session_error   : 0\n",
      "regular         : b'r'\n",
      "dim_info        : 0\n",
      "dim             : [  3  80  80 300   1   1   1   1]\n",
      "intent_p1       : 0.0\n",
      "intent_p2       : 0.0\n",
      "intent_p3       : 0.0\n",
      "intent_code     : none\n",
      "datatype        : float32\n",
      "bitpix          : 32\n",
      "slice_start     : 0\n",
      "pixdim          : [1.   0.25 0.25 2.   0.   0.   0.   0.  ]\n",
      "vox_offset      : 0.0\n",
      "scl_slope       : nan\n",
      "scl_inter       : nan\n",
      "slice_end       : 0\n",
      "slice_code      : unknown\n",
      "xyzt_units      : 2\n",
      "cal_max         : 0.0\n",
      "cal_min         : 0.0\n",
      "slice_duration  : 0.0\n",
      "toffset         : 0.0\n",
      "glmax           : 0\n",
      "glmin           : 0\n",
      "descrip         : b''\n",
      "aux_file        : b''\n",
      "qform_code      : scanner\n",
      "sform_code      : scanner\n",
      "quatern_b       : -0.70710677\n",
      "quatern_c       : 0.0\n",
      "quatern_d       : 0.0\n",
      "qoffset_x       : -9.721977\n",
      "qoffset_y       : -299.78116\n",
      "qoffset_z       : 6.2221427\n",
      "srow_x          : [ 0.25     -0.       -0.       -9.721977]\n",
      "srow_y          : [  -0.        -0.         2.      -299.78116]\n",
      "srow_z          : [ 0.        -0.25       0.         6.2221427]\n",
      "intent_name     : b''\n",
      "magic           : b'n+1'\n"
     ]
    }
   ],
   "source": [
    "img = nib.load(scans['coreg'])\n",
    "data = img.get_fdata()\n",
    "hdr = img.header\n",
    "print(hdr)\n",
    "\n",
    "dimensions = Settings()\n",
    "# dimensions.res = [hdr['pixdim'][1], hdr['pixdim'][2], hdr['pixdim'][3]]\n",
    "# dimensions.fov = [ dimensions.res[0]*(hdr['dim'][1]-1), dimensions.res[1]*(hdr['dim'][2]-1), dimensions.res[2]*(hdr['dim'][3]-1) ]\n",
    "# dimensions.min = [ -hdr['qoffset_x'], -hdr['qoffset_y'], hdr['qoffset_z']-dimensions.fov[2] ]\n",
    "# dimensions.max = [ -hdr['qoffset_x']+dimensions.fov[0], -hdr['qoffset_y']+dimensions.fov[1], float(hdr['qoffset_z'])]\n",
    "dimensions.time = hdr['pixdim'][3] # normally Z, here its time"
   ]
  },
  {
   "cell_type": "code",
   "execution_count": 42,
   "metadata": {},
   "outputs": [
    {
     "data": {
      "image/png": "[encoded data removed]",
      "text/plain": [
       "<Figure size 432x288 with 1 Axes>"
      ]
     },
     "metadata": {
      "needs_background": "light"
     },
     "output_type": "display_data"
    }
   ],
   "source": [
    "data_averaged = np.mean(data,axis=2)  # average time points\n",
    "\n",
    "threshold = 10\n",
    "# data[data <= threshold] = 0\n",
    "\n",
    "plt.hist(data_averaged.flatten(), bins=80, color='c', range=(threshold, np.max(data)))\n",
    "plt.show()"
   ]
  },
  {
   "cell_type": "code",
   "execution_count": 57,
   "metadata": {},
   "outputs": [],
   "source": [
    "threshold=35\n",
    "\n",
    "for columns in data:\n",
    "    for voxel in columns:\n",
    "        if np.mean(voxel) > threshold:\n",
    "            x=voxel"
   ]
  },
  {
   "cell_type": "code",
   "execution_count": 105,
   "metadata": {},
   "outputs": [],
   "source": [
    "# mean pre-injection\n",
    "cutoff = 2 #initial cutoff and some safety margin before dip\n",
    "bsl_end = 45\n",
    "\n",
    "mean_pre = np.mean(x[cutoff:bsl_end]) \n",
    "\n",
    "# start searching from the minimum\n",
    "min_point = np.argmin(x)\n",
    "max_point = np.argmax(x)\n",
    "max_val = np.max(x)\n",
    "\n",
    "x0 = np.argmax(x[min_point:] >= mean_pre) + min_point\n",
    "\n",
    "xend = int(np.argwhere(x[max_point:]<0.95*max_val)[0]) + max_point #first point where it drops below 95% of max"
   ]
  },
  {
   "cell_type": "code",
   "execution_count": 106,
   "metadata": {},
   "outputs": [
    {
     "data": {
      "text/plain": [
       "172"
      ]
     },
     "execution_count": 106,
     "metadata": {},
     "output_type": "execute_result"
    }
   ],
   "source": [
    "xend"
   ]
  },
  {
   "cell_type": "code",
   "execution_count": 93,
   "metadata": {},
   "outputs": [
    {
     "data": {
      "text/plain": [
       "[<matplotlib.lines.Line2D at 0x7f3920ba9e48>]"
      ]
     },
     "execution_count": 93,
     "metadata": {},
     "output_type": "execute_result"
    },
    {
     "data": {
      "image/png": "[encoded data removed]",
      "text/plain": [
       "<Figure size 1440x720 with 1 Axes>"
      ]
     },
     "metadata": {
      "needs_background": "light"
     },
     "output_type": "display_data"
    }
   ],
   "source": [
    "plt.figure(figsize=(20,10))\n",
    "plt.plot(x[0:],'o')"
   ]
  },
  {
   "cell_type": "code",
   "execution_count": 118,
   "metadata": {},
   "outputs": [
    {
     "data": {
      "text/plain": [
       "55"
      ]
     },
     "execution_count": 118,
     "metadata": {},
     "output_type": "execute_result"
    }
   ],
   "source": [
    "time.size"
   ]
  },
  {
   "cell_type": "code",
   "execution_count": 133,
   "metadata": {},
   "outputs": [
    {
     "name": "stdout",
     "output_type": "stream",
     "text": [
      "[[Model]]\n",
      "    Model(_eval)\n",
      "[[Fit Statistics]]\n",
      "    # fitting method   = leastsq\n",
      "    # function evals   = 15\n",
      "    # data points      = 109\n",
      "    # variables        = 2\n",
      "    chi-square         = 4032.88725\n",
      "    reduced chi-square = 37.6905351\n",
      "    Akaike info crit   = 397.587005\n",
      "    Bayesian info crit = 402.969701\n",
      "[[Variables]]\n",
      "    B:       41.5621434 (init = 1)\n",
      "    ktrans:  35.5183529 (init = 0.2)\n",
      "\n"
     ]
    },
    {
     "data": {
      "text/plain": [
       "[<matplotlib.lines.Line2D at 0x7f3909e746a0>]"
      ]
     },
     "execution_count": 133,
     "metadata": {},
     "output_type": "execute_result"
    },
    {
     "data": {
      "image/png": "[encoded data removed]",
      "text/plain": [
       "<Figure size 1440x720 with 1 Axes>"
      ]
     },
     "metadata": {
      "needs_background": "light"
     },
     "output_type": "display_data"
    }
   ],
   "source": [
    "from lmfit.models import ExpressionModel\n",
    "\n",
    "model = ExpressionModel('B*(1 - exp(-ktrans * (x)))')\n",
    "params = model.make_params()\n",
    "\n",
    "params = model.make_params()\n",
    "# params['A'].set(value=1, min=0.01, max=5)\n",
    "params['ktrans'].set(value=0.2, min=0.01, max=100)\n",
    "params['B'].set(value=1, min=0.01, max=100)\n",
    "\n",
    "\n",
    "\n",
    "signal = x[x0:xend]-x[x0]\n",
    "\n",
    "time = np.arange(0, signal.size, 1)*signal.size\n",
    "\n",
    "result = model.fit(signal, params, x=time)\n",
    "\n",
    "# mod = ExpressionModel('off + amp * exp(-x/x0) * sin(x*phase)')\n",
    "\n",
    "print(result.fit_report())\n",
    "plt.figure(figsize=[20,10])\n",
    "plt.plot(time, signal)\n",
    "plt.plot(time, result.best_fit)"
   ]
  },
  {
   "cell_type": "code",
   "execution_count": 66,
   "metadata": {},
   "outputs": [
    {
     "data": {
      "text/plain": [
       "0.0"
      ]
     },
     "execution_count": 66,
     "metadata": {},
     "output_type": "execute_result"
    }
   ],
   "source": [
    "1 - np.exp(-0.5 * 0)"
   ]
  }
 ],
 "metadata": {
  "kernelspec": {
   "display_name": "Python 3",
   "language": "python",
   "name": "python3"
  },
  "language_info": {
   "codemirror_mode": {
    "name": "ipython",
    "version": 3
   },
   "file_extension": ".py",
   "mimetype": "text/x-python",
   "name": "python",
   "nbconvert_exporter": "python",
   "pygments_lexer": "ipython3",
   "version": "3.6.6"
  }
 },
 "nbformat": 4,
 "nbformat_minor": 2
}
