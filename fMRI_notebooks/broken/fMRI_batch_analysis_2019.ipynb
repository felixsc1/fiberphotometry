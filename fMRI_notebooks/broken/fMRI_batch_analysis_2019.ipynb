{
 "cells": [
  {
   "cell_type": "markdown",
   "metadata": {},
   "source": [
    "- This notebook calls \"fMRI_Analysis_2019\"\n",
    "- can be used for fMRI-only or combined calcium/fMRI\n",
    "\n",
    "### Preparation:\n",
    "\n",
    "- probably do it like aileens stuff with excel sheet."
   ]
  },
  {
   "cell_type": "code",
   "execution_count": null,
   "metadata": {},
   "outputs": [],
   "source": []
  },
  {
   "cell_type": "code",
   "execution_count": null,
   "metadata": {},
   "outputs": [],
   "source": [
    "import os, sys, pathlib, shutil, glob\n",
    "mymodules = os.fspath(pathlib.Path.cwd().joinpath('../CustomModules'))\n",
    "if mymodules not in sys.path:\n",
    "    sys.path.append(mymodules)\n",
    "import numpy as np\n",
    "import pandas as pd\n",
    "import matplotlib.pyplot as plt\n",
    "import importlib\n",
    "import helperfunctionsfMRI as fh\n",
    "import MRIhelperfunctions as h\n",
    "import papermill"
   ]
  },
  {
   "cell_type": "markdown",
   "metadata": {},
   "source": [
    "## Settings"
   ]
  },
  {
   "cell_type": "code",
   "execution_count": null,
   "metadata": {},
   "outputs": [],
   "source": [
    "paradigm = {}\n",
    "folders = {}\n",
    "averaging = {}\n",
    "\n",
    "paradigm['TR'] = 1 # in seconds\n",
    "\n",
    "paradigm['initial_cutoff'] = 30 # number of volumes to remove (in absence of dummy scans).\n",
    "\n",
    "blurFWHM = 0.3 # In [mm]. Rule-of-thumb: 1.5x the voxel resolution.\n",
    "\n",
    "highpass = 180 # period [s]. Any signal slower than this will be removed. Should be at least 2x inter-stim. interval\n",
    "\n",
    "\n",
    "# --- For averaging of blocks:\n",
    "\n",
    "averaging['baseline'] = 20 # baseline to consider before each block\n",
    "\n",
    "averaging['time'] = 60 # how many seconds to display after end of stim_block\n",
    "\n",
    "\n",
    "#======================================================================\n",
    "folders['animal'] = 'media/sf_MRIDATA/20181214'\n",
    "folders['scanNumber'] = '8'\n",
    "#======================================================================\n",
    "\n",
    "\n",
    "# --- EPI Template for coregistration ---\n",
    "folders['template'] = '/home/felix/Desktop/examplescan/template/template.nii'\n",
    "\n",
    "\n",
    "# --- ROI file:\n",
    "folders['rois'] = '/home/felix/Desktop/examplescan/template/ROIs.nii'\n",
    "\n",
    "\n",
    "\n",
    "# --- Define the stimulation paradigm (all units in seconds):\n",
    "paradigm['baseline'] = 120\n",
    "paradigm['stim_duration'] = 8 \n",
    "paradigm['Nblocks'] = 10\n",
    "paradigm['ISI'] = 90  # Inter-stimulus interval (on+off period)\n",
    "paradigm['frequency'] = 4 \n",
    "\n",
    "\n",
    "paradigm['stim_times'], paradigm['stim_onsets'], paradigm['stim_times_all'], paradigm['singleblock'] = fh.CreateStimParadigm(paradigm)"
   ]
  },
  {
   "cell_type": "code",
   "execution_count": null,
   "metadata": {},
   "outputs": [],
   "source": []
  }
 ],
 "metadata": {
  "kernelspec": {
   "display_name": "Python 3",
   "language": "python",
   "name": "python3"
  },
  "language_info": {
   "codemirror_mode": {
    "name": "ipython",
    "version": 3
   },
   "file_extension": ".py",
   "mimetype": "text/x-python",
   "name": "python",
   "nbconvert_exporter": "python",
   "pygments_lexer": "ipython3",
   "version": "3.7.1"
  }
 },
 "nbformat": 4,
 "nbformat_minor": 2
}
