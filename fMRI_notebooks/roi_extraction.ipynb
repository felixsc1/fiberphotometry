{
 "cells": [
  {
   "cell_type": "code",
   "execution_count": 1,
   "metadata": {},
   "outputs": [],
   "source": [
    "import subprocess\n",
    "import os"
   ]
  },
  {
   "cell_type": "code",
   "execution_count": null,
   "metadata": {},
   "outputs": [],
   "source": [
    "def runAFNI(inputstring):\n",
    "    print(inputstring)\n",
    "    subprocess.run(inputstring,shell=True, check=True)"
   ]
  },
  {
   "cell_type": "code",
   "execution_count": null,
   "metadata": {},
   "outputs": [],
   "source": [
    "runAFNI(f'3dROIstats -mask /media/sf_MRIDATA/Template7T/LHP_RHP_kxROI+orig {folderName}/analyzed/CleanedData+orig > {folderName}/analyzed/ROIdataNew.1D')"
   ]
  },
  {
   "cell_type": "markdown",
   "metadata": {},
   "source": [
    "new experimental   get maximum of HRF instead of only component 1"
   ]
  },
  {
   "cell_type": "markdown",
   "metadata": {},
   "source": [
    "runAFNI(f\"3dTstat -prefix {folderName}/analyzed/amplitude_astro -overwrite -max {folderName}/analyzed/HRF_SPM_Astro+orig\") \n",
    "runAFNI(f\"3dTstat -prefix {folderName}/analyzed/amplitude_neuron -overwrite -max {folderName}/analyzed/HRF_SPM_Neuron+orig\") \n",
    "runAFNI(f\"3dTstat -prefix {folderName}/analyzed/amplitude_stim -overwrite -max {folderName}/analyzed/HRF_SPM_el+orig\") "
   ]
  },
  {
   "cell_type": "markdown",
   "metadata": {},
   "source": [
    "Get correlation (converted to z score) of each model with data"
   ]
  },
  {
   "cell_type": "code",
   "execution_count": null,
   "metadata": {},
   "outputs": [],
   "source": [
    "runAFNI(f'3dTcorrelate -Fisher -overwrite -prefix {folderName}/analyzed/Corr_stim {folderName}/analyzed/fittsSPM_el+orig {folderName}/analyzed/CleanedData+orig')\n",
    "runAFNI(f'3dTcorrelate -Fisher -overwrite -prefix {folderName}/analyzed/Corr_neuron {folderName}/analyzed/fitts_Neuron+orig {folderName}/analyzed/CleanedData+orig')\n",
    "runAFNI(f'3dTcorrelate -Fisher -overwrite -prefix {folderName}/analyzed/Corr_astro {folderName}/analyzed/fitts_Astro+orig {folderName}/analyzed/CleanedData+orig')"
   ]
  }
 ],
 "metadata": {
  "kernelspec": {
   "display_name": "Python 3",
   "language": "python",
   "name": "python3"
  },
  "language_info": {
   "codemirror_mode": {
    "name": "ipython",
    "version": 3
   },
   "file_extension": ".py",
   "mimetype": "text/x-python",
   "name": "python",
   "nbconvert_exporter": "python",
   "pygments_lexer": "ipython3",
   "version": "3.6.6"
  }
 },
 "nbformat": 4,
 "nbformat_minor": 2
}
