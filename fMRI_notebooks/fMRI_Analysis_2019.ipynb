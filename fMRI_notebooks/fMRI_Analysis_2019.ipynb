{
 "cells": [
  {
   "cell_type": "markdown",
   "metadata": {},
   "source": [
    "# fMRI BOLD analysis"
   ]
  },
  {
   "cell_type": "markdown",
   "metadata": {},
   "source": [
    "New default notebook for all single scan analyses, for both fMRI-only and simultaneous calcium/fMRI.\n",
    "\n",
    "**Preparation for calcium/fMRI:**\n",
    "\n",
    "- Copy the *regressorX_married.1D* files in the corresponding raw scan folder (e.g. subjectx/8/,  subjectx/9/  etc.). Will be recognized automatically.\n",
    "\n",
    "- If no .1D file is present, only stim-evoked GLM is performed."
   ]
  },
  {
   "cell_type": "code",
   "execution_count": 1,
   "metadata": {},
   "outputs": [],
   "source": [
    "import os, sys, pathlib, shutil, glob\n",
    "mymodules = os.fspath(pathlib.Path.cwd().joinpath('../CustomModules'))\n",
    "if mymodules not in sys.path:\n",
    "    sys.path.append(mymodules)\n",
    "import numpy as np\n",
    "import pandas as pd \n",
    "import matplotlib.pyplot as plt\n",
    "import importlib\n",
    "import helperfunctionsfMRI as fh\n",
    "import MRIhelperfunctions as h\n",
    "import calciumGroupFunctions as g"
   ]
  },
  {
   "cell_type": "markdown",
   "metadata": {},
   "source": [
    "fh = importlib.reload(fh)\n",
    "h = importlib.reload(h)\n",
    "g = importlib.reload(g)"
   ]
  },
  {
   "cell_type": "markdown",
   "metadata": {},
   "source": [
    "# Settings"
   ]
  },
  {
   "cell_type": "code",
   "execution_count": 2,
   "metadata": {},
   "outputs": [
    {
     "name": "stdout",
     "output_type": "stream",
     "text": [
      "stimulus times: [120, 210, 300, 390, 480, 570, 660, 750, 840, 930]\n"
     ]
    }
   ],
   "source": [
    "paradigm = {}\n",
    "folders = {}\n",
    "averaging = {}\n",
    "\n",
    "paradigm['TR'] = 1 # in seconds\n",
    "\n",
    "paradigm['initial_cutoff'] = 30 # number of volumes to remove (in absence of dummy scans).\n",
    "\n",
    "blurFWHM = 0.3 # In [mm]. Rule-of-thumb: 1.5x the voxel resolution.\n",
    "\n",
    "highpass = 240 # period [s]. Any signal slower than this will be removed. Should be at least 2x inter-stim. interval\n",
    "\n",
    "\n",
    "# --- For averaging of blocks:\n",
    "\n",
    "averaging['baseline'] = 20 # baseline to consider before each block\n",
    "\n",
    "averaging['time'] = 60 # how many seconds to display after end of stim_block\n",
    "\n",
    "\n",
    "#======================================================================\n",
    "folders['animal'] = '/media/aic/2/MRIDATA/Calciumanalysis/IsovsKetxyl_study/R_ketxyl/4Hz/6847_E13'\n",
    "\n",
    "folders['scanNumber'] = '13'\n",
    "#======================================================================\n",
    "\n",
    "\n",
    "# --- EPI Template for coregistration ---\n",
    "folders['template'] = '/media/aic/2/MRIDATA/Template7T/TEMPLATE.nii'\n",
    "\n",
    "#Use this scan as new Template (warning, will override old template):\n",
    "createNewTemplate = False\n",
    "\n",
    "\n",
    "# --- Optional: ROI file:\n",
    "folders['rois'] = '/media/aic/2/MRIDATA/Template7T/ROI3.nii'\n",
    "\n",
    "\n",
    "\n",
    "# --- Define the stimulation paradigm (all units in seconds):\n",
    "paradigm['baseline'] = 120\n",
    "paradigm['stim_duration'] = 8\n",
    "paradigm['Nblocks'] = 10\n",
    "paradigm['ISI'] = 90    #inter-stimulus interval (on+off period)\n",
    "paradigm['frequency'] = 4\n",
    "\n",
    "\n",
    "paradigm['stim_times'], paradigm['stim_onsets'], paradigm['stim_times_all'], paradigm['singleblock'] = fh.CreateStimParadigm(paradigm)"
   ]
  },
  {
   "cell_type": "code",
   "execution_count": 3,
   "metadata": {
    "scrolled": true
   },
   "outputs": [
    {
     "name": "stdout",
     "output_type": "stream",
     "text": [
      "Bru2 -a -o /media/aic/2/MRIDATA/Calciumanalysis/IsovsKetxyl_study/R_ketxyl/4Hz/6847_E13/analysis/13 /media/aic/2/MRIDATA/Calciumanalysis/IsovsKetxyl_study/R_ketxyl/4Hz/6847_E13/13/subject\n",
      "3dTcat -overwrite -prefix /media/aic/2/MRIDATA/Calciumanalysis/IsovsKetxyl_study/R_ketxyl/4Hz/6847_E13/analysis/13/single_timepoint.nii /media/aic/2/MRIDATA/Calciumanalysis/IsovsKetxyl_study/R_ketxyl/4Hz/6847_E13/analysis/13/X13P1.nii'[0]'\n"
     ]
    },
    {
     "ename": "CalledProcessError",
     "evalue": "Command '3dTcat -overwrite -prefix /media/aic/2/MRIDATA/Calciumanalysis/IsovsKetxyl_study/R_ketxyl/4Hz/6847_E13/analysis/13/single_timepoint.nii /media/aic/2/MRIDATA/Calciumanalysis/IsovsKetxyl_study/R_ketxyl/4Hz/6847_E13/analysis/13/X13P1.nii'[0]'' returned non-zero exit status 1.",
     "output_type": "error",
     "traceback": [
      "\u001b[0;31m---------------------------------------------------------------------------\u001b[0m",
      "\u001b[0;31mCalledProcessError\u001b[0m                        Traceback (most recent call last)",
      "\u001b[0;32m<ipython-input-3-5cf60d46d221>\u001b[0m in \u001b[0;36m<module>\u001b[0;34m\u001b[0m\n\u001b[1;32m      1\u001b[0m \u001b[0;31m# this creates also the 'analysis' and 'scan' folders\u001b[0m\u001b[0;34m\u001b[0m\u001b[0;34m\u001b[0m\u001b[0;34m\u001b[0m\u001b[0m\n\u001b[0;32m----> 2\u001b[0;31m \u001b[0mfolders\u001b[0m \u001b[0;34m=\u001b[0m \u001b[0mh\u001b[0m\u001b[0;34m.\u001b[0m\u001b[0mcheck_and_convert_single\u001b[0m\u001b[0;34m(\u001b[0m\u001b[0mfolders\u001b[0m\u001b[0;34m,\u001b[0m \u001b[0mcreateNewTemplate\u001b[0m\u001b[0;34m)\u001b[0m\u001b[0;34m\u001b[0m\u001b[0;34m\u001b[0m\u001b[0m\n\u001b[0m",
      "\u001b[0;32m/BigHDD/MR_DATA/GithubRepositories/CalciumfMRI/fMRI_notebooks/../CustomModules/MRIhelperfunctions.py\u001b[0m in \u001b[0;36mcheck_and_convert_single\u001b[0;34m(folders, createNewTemplate)\u001b[0m\n\u001b[1;32m    126\u001b[0m     \u001b[0;32mif\u001b[0m \u001b[0mcreateNewTemplate\u001b[0m\u001b[0;34m:\u001b[0m\u001b[0;34m\u001b[0m\u001b[0;34m\u001b[0m\u001b[0m\n\u001b[1;32m    127\u001b[0m         \u001b[0mget_single_timepoint\u001b[0m\u001b[0;34m(\u001b[0m\u001b[0mfolders\u001b[0m\u001b[0;34m[\u001b[0m\u001b[0;34m'raw'\u001b[0m\u001b[0;34m]\u001b[0m\u001b[0;34m,\u001b[0m \u001b[0mname\u001b[0m\u001b[0;34m=\u001b[0m\u001b[0mfolders\u001b[0m\u001b[0;34m[\u001b[0m\u001b[0;34m'template'\u001b[0m\u001b[0;34m]\u001b[0m\u001b[0;34m,\u001b[0m \u001b[0mcreateNewTemplate\u001b[0m\u001b[0;34m=\u001b[0m\u001b[0;32mTrue\u001b[0m\u001b[0;34m)\u001b[0m\u001b[0;34m\u001b[0m\u001b[0;34m\u001b[0m\u001b[0m\n\u001b[0;32m--> 128\u001b[0;31m     \u001b[0mget_single_timepoint\u001b[0m\u001b[0;34m(\u001b[0m\u001b[0mfolders\u001b[0m\u001b[0;34m[\u001b[0m\u001b[0;34m'raw'\u001b[0m\u001b[0;34m]\u001b[0m\u001b[0;34m)\u001b[0m\u001b[0;34m\u001b[0m\u001b[0;34m\u001b[0m\u001b[0m\n\u001b[0m\u001b[1;32m    129\u001b[0m     \u001b[0;32mreturn\u001b[0m \u001b[0mfolders\u001b[0m\u001b[0;34m\u001b[0m\u001b[0;34m\u001b[0m\u001b[0m\n\u001b[1;32m    130\u001b[0m \u001b[0;34m\u001b[0m\u001b[0m\n",
      "\u001b[0;32m/BigHDD/MR_DATA/GithubRepositories/CalciumfMRI/fMRI_notebooks/../CustomModules/MRIhelperfunctions.py\u001b[0m in \u001b[0;36mget_single_timepoint\u001b[0;34m(scan, name, createNewTemplate)\u001b[0m\n\u001b[1;32m    173\u001b[0m     \u001b[0;32melse\u001b[0m\u001b[0;34m:\u001b[0m\u001b[0;34m\u001b[0m\u001b[0;34m\u001b[0m\u001b[0m\n\u001b[1;32m    174\u001b[0m         \u001b[0moutfile\u001b[0m \u001b[0;34m=\u001b[0m \u001b[0mos\u001b[0m\u001b[0;34m.\u001b[0m\u001b[0mpath\u001b[0m\u001b[0;34m.\u001b[0m\u001b[0mjoin\u001b[0m\u001b[0;34m(\u001b[0m\u001b[0mos\u001b[0m\u001b[0;34m.\u001b[0m\u001b[0mpath\u001b[0m\u001b[0;34m.\u001b[0m\u001b[0mdirname\u001b[0m\u001b[0;34m(\u001b[0m\u001b[0mscan\u001b[0m\u001b[0;34m)\u001b[0m\u001b[0;34m,\u001b[0m \u001b[0mname\u001b[0m\u001b[0;34m)\u001b[0m\u001b[0;34m\u001b[0m\u001b[0;34m\u001b[0m\u001b[0m\n\u001b[0;32m--> 175\u001b[0;31m         \u001b[0mrunAFNI\u001b[0m\u001b[0;34m(\u001b[0m\u001b[0;34mf\"3dTcat -overwrite -prefix {outfile} {scan}'[0]'\"\u001b[0m\u001b[0;34m)\u001b[0m\u001b[0;34m\u001b[0m\u001b[0;34m\u001b[0m\u001b[0m\n\u001b[0m\u001b[1;32m    176\u001b[0m     \u001b[0;32mreturn\u001b[0m \u001b[0moutfile\u001b[0m\u001b[0;34m\u001b[0m\u001b[0;34m\u001b[0m\u001b[0m\n\u001b[1;32m    177\u001b[0m \u001b[0;34m\u001b[0m\u001b[0m\n",
      "\u001b[0;32m/BigHDD/MR_DATA/GithubRepositories/CalciumfMRI/fMRI_notebooks/../CustomModules/MRIhelperfunctions.py\u001b[0m in \u001b[0;36mrunAFNI\u001b[0;34m(inputstring, printout)\u001b[0m\n\u001b[1;32m     28\u001b[0m     \u001b[0;32mif\u001b[0m \u001b[0mprintout\u001b[0m\u001b[0;34m:\u001b[0m\u001b[0;34m\u001b[0m\u001b[0;34m\u001b[0m\u001b[0m\n\u001b[1;32m     29\u001b[0m         \u001b[0mprint\u001b[0m\u001b[0;34m(\u001b[0m\u001b[0minputstring\u001b[0m\u001b[0;34m)\u001b[0m\u001b[0;34m\u001b[0m\u001b[0;34m\u001b[0m\u001b[0m\n\u001b[0;32m---> 30\u001b[0;31m     \u001b[0msubprocess\u001b[0m\u001b[0;34m.\u001b[0m\u001b[0mrun\u001b[0m\u001b[0;34m(\u001b[0m\u001b[0minputstring\u001b[0m\u001b[0;34m,\u001b[0m\u001b[0mshell\u001b[0m\u001b[0;34m=\u001b[0m\u001b[0;32mTrue\u001b[0m\u001b[0;34m,\u001b[0m \u001b[0mcheck\u001b[0m\u001b[0;34m=\u001b[0m\u001b[0;32mTrue\u001b[0m\u001b[0;34m)\u001b[0m\u001b[0;34m\u001b[0m\u001b[0;34m\u001b[0m\u001b[0m\n\u001b[0m\u001b[1;32m     31\u001b[0m \u001b[0;34m\u001b[0m\u001b[0m\n\u001b[1;32m     32\u001b[0m \u001b[0;34m\u001b[0m\u001b[0m\n",
      "\u001b[0;32m~/anaconda3/lib/python3.6/subprocess.py\u001b[0m in \u001b[0;36mrun\u001b[0;34m(input, timeout, check, *popenargs, **kwargs)\u001b[0m\n\u001b[1;32m    436\u001b[0m         \u001b[0;32mif\u001b[0m \u001b[0mcheck\u001b[0m \u001b[0;32mand\u001b[0m \u001b[0mretcode\u001b[0m\u001b[0;34m:\u001b[0m\u001b[0;34m\u001b[0m\u001b[0;34m\u001b[0m\u001b[0m\n\u001b[1;32m    437\u001b[0m             raise CalledProcessError(retcode, process.args,\n\u001b[0;32m--> 438\u001b[0;31m                                      output=stdout, stderr=stderr)\n\u001b[0m\u001b[1;32m    439\u001b[0m     \u001b[0;32mreturn\u001b[0m \u001b[0mCompletedProcess\u001b[0m\u001b[0;34m(\u001b[0m\u001b[0mprocess\u001b[0m\u001b[0;34m.\u001b[0m\u001b[0margs\u001b[0m\u001b[0;34m,\u001b[0m \u001b[0mretcode\u001b[0m\u001b[0;34m,\u001b[0m \u001b[0mstdout\u001b[0m\u001b[0;34m,\u001b[0m \u001b[0mstderr\u001b[0m\u001b[0;34m)\u001b[0m\u001b[0;34m\u001b[0m\u001b[0;34m\u001b[0m\u001b[0m\n\u001b[1;32m    440\u001b[0m \u001b[0;34m\u001b[0m\u001b[0m\n",
      "\u001b[0;31mCalledProcessError\u001b[0m: Command '3dTcat -overwrite -prefix /media/aic/2/MRIDATA/Calciumanalysis/IsovsKetxyl_study/R_ketxyl/4Hz/6847_E13/analysis/13/single_timepoint.nii /media/aic/2/MRIDATA/Calciumanalysis/IsovsKetxyl_study/R_ketxyl/4Hz/6847_E13/analysis/13/X13P1.nii'[0]'' returned non-zero exit status 1."
     ]
    }
   ],
   "source": [
    "# this creates also the 'analysis' and 'scan' folders\n",
    "folders = h.check_and_convert_single(folders, createNewTemplate)"
   ]
  },
  {
   "cell_type": "markdown",
   "metadata": {},
   "source": [
    "# Data Preprocessing"
   ]
  },
  {
   "cell_type": "code",
   "execution_count": null,
   "metadata": {},
   "outputs": [],
   "source": [
    "folders['cut'] = fh.initial_cutoff(folders['raw'], paradigm['initial_cutoff'])"
   ]
  },
  {
   "cell_type": "code",
   "execution_count": null,
   "metadata": {},
   "outputs": [],
   "source": [
    "# takes several minutes\n",
    "folders['coreg'] = h.coreg_epi_to_template(folders['template'], folders['cut'])"
   ]
  },
  {
   "cell_type": "markdown",
   "metadata": {},
   "source": [
    "### Check for motion"
   ]
  },
  {
   "cell_type": "code",
   "execution_count": null,
   "metadata": {
    "scrolled": true
   },
   "outputs": [],
   "source": [
    "frame = pd.read_csv(os.path.join(folders['scan'],'dfile.1D'), sep=r'\\s{2,}', engine='python')\n",
    "\n",
    "%matplotlib qt\n",
    "# frame.plot(subplots=True, layout=(9,1))\n",
    "frame.iloc[:,1:7].plot(subplots=True, layout=(6,1))"
   ]
  },
  {
   "cell_type": "markdown",
   "metadata": {},
   "source": [
    "High-pass filter, smoothing"
   ]
  },
  {
   "cell_type": "code",
   "execution_count": null,
   "metadata": {},
   "outputs": [],
   "source": [
    "folders['cleaned'] = fh.filter_blur(folders['coreg'], highpass, blurFWHM)"
   ]
  },
  {
   "cell_type": "markdown",
   "metadata": {},
   "source": [
    "# GLM Analyses"
   ]
  },
  {
   "cell_type": "code",
   "execution_count": null,
   "metadata": {},
   "outputs": [],
   "source": [
    "# 1. Standard, using only stim. paradigm\n",
    "fh.Deconvolve(folders['cleaned'],paradigm) # standard stim_evoked\n",
    "\n",
    "\n",
    "# 2. Check if regressors present, use both in GLM f-test.\n",
    "calcium_regressors = g.get_filepaths(folders['raw_folder'], fileending='*married.1D', subfolders=False)\n",
    "if calcium_regressors:\n",
    "    fh.Deconvolve_calcium_2ch(folders['cleaned'], paradigm, calcium_regressors)"
   ]
  },
  {
   "cell_type": "markdown",
   "metadata": {},
   "source": [
    "# ROI Analysis\n",
    "\n",
    "Can be run separately on previously analyzed datasets, but first execute all cells under \"Settings\" above"
   ]
  },
  {
   "cell_type": "code",
   "execution_count": null,
   "metadata": {},
   "outputs": [],
   "source": [
    "folders['cleaned'] = fh.find_cleaned_data(folders)\n",
    "folders['roidata'] = h.extract_roi(folders['cleaned'],folders['rois'])\n",
    "\n",
    "roi_df = pd.read_csv(folders['roidata'], sep='\\t')\n",
    "del roi_df['File'], roi_df['Sub-brick']"
   ]
  },
  {
   "cell_type": "markdown",
   "metadata": {},
   "source": [
    "Plotting whole time course"
   ]
  },
  {
   "cell_type": "code",
   "execution_count": null,
   "metadata": {},
   "outputs": [],
   "source": [
    "%matplotlib qt\n",
    "\n",
    "plt.figure()\n",
    "for rois in roi_df.columns:\n",
    "    plt.plot(roi_df[rois])\n",
    "_ = [plt.axvline(_p, alpha=0.05, color='red') for _p in paradigm['stim_times_all']]\n",
    "_ = plt.legend(roi_df.columns)"
   ]
  },
  {
   "cell_type": "markdown",
   "metadata": {},
   "source": [
    "Plotting averages across stimulus blocks"
   ]
  },
  {
   "cell_type": "code",
   "execution_count": null,
   "metadata": {},
   "outputs": [],
   "source": [
    "%matplotlib qt\n",
    "\n",
    "roimeans = fh.averageblocks(roi_df, paradigm, averaging)\n",
    "\n",
    "plt.figure()\n",
    "_ = [plt.axvline(_p, alpha=0.05, color='red') for _p in paradigm['singleblock']]\n",
    "plt.axhline(0,color='k')\n",
    "plt.plot(roimeans)\n",
    "_ = plt.legend(roi_df.columns)"
   ]
  }
 ],
 "metadata": {
  "kernelspec": {
   "display_name": "Python 3",
   "language": "python",
   "name": "python3"
  },
  "language_info": {
   "codemirror_mode": {
    "name": "ipython",
    "version": 3
   },
   "file_extension": ".py",
   "mimetype": "text/x-python",
   "name": "python",
   "nbconvert_exporter": "python",
   "pygments_lexer": "ipython3",
   "version": "3.6.8"
  }
 },
 "nbformat": 4,
 "nbformat_minor": 2
}
