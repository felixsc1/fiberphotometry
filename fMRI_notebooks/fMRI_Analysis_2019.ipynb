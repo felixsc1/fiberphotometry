{
 "cells": [
  {
   "cell_type": "markdown",
   "metadata": {},
   "source": [
    "# fMRI BOLD analysis"
   ]
  },
  {
   "cell_type": "markdown",
   "metadata": {},
   "source": [
    "New default notebook for all single scan analyses, for both fMRI-only and simultaneous calcium/fMRI.\n",
    "\n",
    "**Preparation for calcium/fMRI:**\n",
    "\n",
    "- Copy the *regressorX_married.1D* files in the corresponding raw scan folder (e.g. subjectx/8/,  subjectx/9/  etc.). Will be recognized automatically.\n",
    "\n",
    "- If no .1D file is present, only stim-evoked GLM is performed."
   ]
  },
  {
   "cell_type": "code",
   "execution_count": 1,
   "metadata": {},
   "outputs": [],
   "source": [
    "import os, sys, pathlib, shutil, glob\n",
    "mymodules = os.fspath(pathlib.Path.cwd().joinpath('../CustomModules'))\n",
    "if mymodules not in sys.path:\n",
    "    sys.path.append(mymodules)\n",
    "import numpy as np\n",
    "import pandas as pd \n",
    "import matplotlib.pyplot as plt\n",
    "import importlib\n",
    "import helperfunctionsfMRI as fh\n",
    "import MRIhelperfunctions as h\n",
    "import calciumGroupFunctions as g"
   ]
  },
  {
   "cell_type": "code",
   "execution_count": 8,
   "metadata": {},
   "outputs": [],
   "source": [
    "fh = importlib.reload(fh)\n",
    "h = importlib.reload(h)\n",
    "g = importlib.reload(g)"
   ]
  },
  {
   "cell_type": "markdown",
   "metadata": {},
   "source": [
    "# Settings"
   ]
  },
  {
   "cell_type": "code",
   "execution_count": 2,
   "metadata": {},
   "outputs": [
    {
     "name": "stdout",
     "output_type": "stream",
     "text": [
      "stimulus times: [120, 210, 300, 390, 480, 570, 660, 750, 840, 930]\n"
     ]
    }
   ],
   "source": [
    "paradigm = {}\n",
    "folders = {}\n",
    "averaging = {}\n",
    "\n",
    "paradigm['TR'] = 1 # in seconds\n",
    "\n",
    "paradigm['initial_cutoff'] = 30 # number of volumes to remove (in absence of dummy scans).\n",
    "\n",
    "blurFWHM = 0.3 # In [mm]. Rule-of-thumb: 1.5x the voxel resolution.\n",
    "\n",
    "highpass = 240 # period [s]. Any signal slower than this will be removed. Should be at least 2x inter-stim. interval\n",
    "\n",
    "\n",
    "# --- For averaging of blocks:\n",
    "\n",
    "averaging['baseline'] = 20 # baseline to consider before each block\n",
    "\n",
    "averaging['time'] = 60 # how many seconds to display after end of stim_block\n",
    "\n",
    "\n",
    "#======================================================================\n",
    "folders['animal'] = '/mnt/c/Users/felix/Documents/exampledata_python/conversion_problems'\n",
    "\n",
    "folders['scanNumber'] = '6844_E15'\n",
    "#======================================================================\n",
    "# Data folder can contain either the original Bruker raw data, or BRIK file from earlier conversions.\n",
    "\n",
    "# --- EPI Template for coregistration ---\n",
    "folders['template'] = '/mnt/c/Users/felix/Documents/exampledata_python/conversion_problems/templates/TEMPLATE.nii'\n",
    "\n",
    "#Use this scan as new Template (warning, will override old template):\n",
    "createNewTemplate = False\n",
    "\n",
    "# --- Optional: ROI file:\n",
    "folders['rois'] = '/mnt/c/Users/felix/Documents/exampledata_python/conversion_problems/templates/ROI3.nii'\n",
    "\n",
    "\n",
    "\n",
    "# --- Define the stimulation paradigm (all units in seconds):\n",
    "paradigm['baseline'] = 120\n",
    "paradigm['stim_duration'] = 8\n",
    "paradigm['Nblocks'] = 10\n",
    "paradigm['ISI'] = 90    #inter-stimulus interval (on+off period)\n",
    "paradigm['frequency'] = 4\n",
    "\n",
    "\n",
    "paradigm['stim_times'], paradigm['stim_onsets'], paradigm['stim_times_all'], paradigm['singleblock'] = fh.CreateStimParadigm(paradigm)"
   ]
  },
  {
   "cell_type": "code",
   "execution_count": 3,
   "metadata": {
    "scrolled": true
   },
   "outputs": [
    {
     "name": "stdout",
     "output_type": "stream",
     "text": [
      "No 2dseq file found. Check if it was renamed or if /mnt/c/Users/felix/Documents/exampledata_python/conversion_problems/6844_E15 is really the main folder of that animal.\n",
      "using /mnt/c/Users/felix/Documents/exampledata_python/conversion_problems/6844_E15/E15+orig.BRIK.Z\n",
      "3dAFNItoNIFTI -prefix /mnt/c/Users/felix/Documents/exampledata_python/conversion_problems/analysis/6844_E15/X6844_E15P1.nii /mnt/c/Users/felix/Documents/exampledata_python/conversion_problems/6844_E15/E15+orig.BRIK.Z\n",
      "replaceHDR function ran through\n"
     ]
    }
   ],
   "source": [
    "# this creates also the 'analysis' and 'scan' folders\n",
    "folders = h.check_and_convert_single(folders)"
   ]
  },
  {
   "cell_type": "markdown",
   "metadata": {},
   "source": [
    "# Data Preprocessing"
   ]
  },
  {
   "cell_type": "code",
   "execution_count": 4,
   "metadata": {},
   "outputs": [
    {
     "name": "stdout",
     "output_type": "stream",
     "text": [
      "3dTcat -overwrite -prefix /mnt/c/Users/felix/Documents/exampledata_python/conversion_problems/analysis/6844_E15/single_timepoint.nii /mnt/c/Users/felix/Documents/exampledata_python/conversion_problems/analysis/6844_E15/data_cut.nii'[0]'\n",
      "python2.7 /home/felix/abin/align_epi_anat.py -dset2to1 -dset1 /mnt/c/Users/felix/Documents/exampledata_python/conversion_problems/templates/TEMPLATE.nii -dset2 /mnt/c/Users/felix/Documents/exampledata_python/conversion_problems/analysis/6844_E15/single_timepoint.nii -child_dset2 /mnt/c/Users/felix/Documents/exampledata_python/conversion_problems/analysis/6844_E15/data_cut.nii -dset1_strip None -dset2_strip None -overwrite -big_move -volreg on -volreg_method 3dvolreg -volreg_opts '-Fourier -zpad 1 -dfile dfile.1D' -Allineate_opts '-maxrot 10 -maxshf 3 -conv 0.005 -twofirst -twoblur 0.8 -source_automask+2 -final wsinc5' -tshift on -tshift_opts '-tzero 0 -quintic' -dset2_base 0 -volreg_base 0 -suffix .volreg -cost ls\n"
     ]
    }
   ],
   "source": [
    "folders['cut'] = fh.initial_cutoff(folders['raw'], paradigm['initial_cutoff'])\n",
    "\n",
    "# takes several minutes\n",
    "folders['coreg'] = h.coreg_epi_to_template(folders['template'], folders['cut'], createNewTemplate)"
   ]
  },
  {
   "cell_type": "markdown",
   "metadata": {},
   "source": [
    "### Check for motion"
   ]
  },
  {
   "cell_type": "code",
   "execution_count": 5,
   "metadata": {
    "scrolled": true
   },
   "outputs": [
    {
     "data": {
      "text/plain": [
       "array([[<matplotlib.axes._subplots.AxesSubplot object at 0x7f1e46c2bcf8>],\n",
       "       [<matplotlib.axes._subplots.AxesSubplot object at 0x7f1e59f96240>],\n",
       "       [<matplotlib.axes._subplots.AxesSubplot object at 0x7f1e59f3f6a0>],\n",
       "       [<matplotlib.axes._subplots.AxesSubplot object at 0x7f1e59f66b00>],\n",
       "       [<matplotlib.axes._subplots.AxesSubplot object at 0x7f1e59f0bf60>],\n",
       "       [<matplotlib.axes._subplots.AxesSubplot object at 0x7f1e59ec1400>]],\n",
       "      dtype=object)"
      ]
     },
     "execution_count": 5,
     "metadata": {},
     "output_type": "execute_result"
    }
   ],
   "source": [
    "frame = pd.read_csv(os.path.join(folders['scan'],'dfile.1D'), sep=r'\\s{2,}', engine='python')\n",
    "\n",
    "%matplotlib qt\n",
    "# frame.plot(subplots=True, layout=(9,1))\n",
    "frame.iloc[:,1:7].plot(subplots=True, layout=(6,1))"
   ]
  },
  {
   "cell_type": "markdown",
   "metadata": {},
   "source": [
    "High-pass filter, smoothing"
   ]
  },
  {
   "cell_type": "code",
   "execution_count": 6,
   "metadata": {},
   "outputs": [],
   "source": [
    "folders['cleaned'] = fh.filter_blur(folders['coreg'], highpass, blurFWHM)"
   ]
  },
  {
   "cell_type": "markdown",
   "metadata": {},
   "source": [
    "# GLM Analyses"
   ]
  },
  {
   "cell_type": "code",
   "execution_count": 9,
   "metadata": {},
   "outputs": [
    {
     "name": "stdout",
     "output_type": "stream",
     "text": [
      "3dDeconvolve -input /mnt/c/Users/felix/Documents/exampledata_python/conversion_problems/analysis/6844_E15/CleanedData.nii -polort 0 -nodmbase -overwrite -num_stimts 1 -stim_times 1 '1D: 120 210 300 390 480 570 660 750 840 930' 'SPMG3(8)' -stim_times_subtract 30 -stim_label 1 stim -iresp 1 HRF_SPM_el -fout -tout -x1D XSPM.xmat.1D -xjpeg XSPM.jpg -fitts fittsSPM_ -errts errtsSPM -bucket statsSPM_ -cbucket regcoeffsSPM\n",
      "files found: \n",
      " ['/mnt/c/Users/felix/Documents/exampledata_python/conversion_problems/6844_E15/regressor1_married.1D', '/mnt/c/Users/felix/Documents/exampledata_python/conversion_problems/6844_E15/regressor2_married.1D']\n",
      "3dDeconvolve -input /mnt/c/Users/felix/Documents/exampledata_python/conversion_problems/analysis/6844_E15/CleanedData.nii -polort 0 -nodmbase -overwrite -num_stimts 2 -stim_times_AM1 1 /mnt/c/Users/felix/Documents/exampledata_python/conversion_problems/6844_E15/regressor1_married.1D 'SPMG3(0.01)' -stim_times_AM1 2 /mnt/c/Users/felix/Documents/exampledata_python/conversion_problems/6844_E15/regressor2_married.1D 'SPMG3(0.01)' -stim_label 1 Neuro -stim_label 2 Astro -num_glt 2 -glt_label 1 NeuroMinusAstro  -glt_label 2 AstroMinusNEuro  -gltsym 'SYM: +Neuro -Astro' -gltsym 'SYM: +Astro -Neuro' -iresp 1 HRF_Neuro -iresp 2 HRF_Astro -fout -tout -x1D X.xmat.1D -xjpeg X.jpg -fitts fitts_BothCh -bucket stats_BothCh\n"
     ]
    }
   ],
   "source": [
    "# 1. Standard, using only stim. paradigm\n",
    "fh.Deconvolve(folders['cleaned'],paradigm) # standard stim_evoked\n",
    "\n",
    "\n",
    "# 2. Check if regressors present, use both in GLM f-test.\n",
    "calcium_regressors = g.get_filepaths(folders['raw_folder'], fileending='*married.1D', subfolders=False)\n",
    "if calcium_regressors:\n",
    "    fh.Deconvolve_calcium_2ch(folders['cleaned'], paradigm, calcium_regressors)"
   ]
  },
  {
   "cell_type": "markdown",
   "metadata": {},
   "source": [
    "# ROI Analysis\n",
    "\n",
    "Can be run separately on previously analyzed datasets, but first execute all cells under \"Settings\" above"
   ]
  },
  {
   "cell_type": "code",
   "execution_count": 10,
   "metadata": {},
   "outputs": [],
   "source": [
    "folders['cleaned'] = fh.find_cleaned_data(folders)\n",
    "folders['roidata'] = h.extract_roi(folders['cleaned'],folders['rois'])\n",
    "\n",
    "roi_df = pd.read_csv(folders['roidata'], sep='\\t')\n",
    "del roi_df['File'], roi_df['Sub-brick']"
   ]
  },
  {
   "cell_type": "markdown",
   "metadata": {},
   "source": [
    "Plotting whole time course"
   ]
  },
  {
   "cell_type": "code",
   "execution_count": 11,
   "metadata": {},
   "outputs": [],
   "source": [
    "%matplotlib qt\n",
    "\n",
    "plt.figure()\n",
    "for rois in roi_df.columns:\n",
    "    plt.plot(roi_df[rois])\n",
    "_ = [plt.axvline(_p, alpha=0.05, color='red') for _p in paradigm['stim_times_all']]\n",
    "_ = plt.legend(roi_df.columns)"
   ]
  },
  {
   "cell_type": "markdown",
   "metadata": {},
   "source": [
    "Plotting averages across stimulus blocks"
   ]
  },
  {
   "cell_type": "code",
   "execution_count": 12,
   "metadata": {},
   "outputs": [],
   "source": [
    "%matplotlib qt\n",
    "\n",
    "roimeans = fh.averageblocks(roi_df, paradigm, averaging)\n",
    "\n",
    "plt.figure()\n",
    "_ = [plt.axvline(_p, alpha=0.05, color='red') for _p in paradigm['singleblock']]\n",
    "plt.axhline(0,color='k')\n",
    "plt.plot(roimeans)\n",
    "_ = plt.legend(roi_df.columns)"
   ]
  }
 ],
 "metadata": {
  "kernelspec": {
   "display_name": "Python 3",
   "language": "python",
   "name": "python3"
  },
  "language_info": {
   "codemirror_mode": {
    "name": "ipython",
    "version": 3
   },
   "file_extension": ".py",
   "mimetype": "text/x-python",
   "name": "python",
   "nbconvert_exporter": "python",
   "pygments_lexer": "ipython3",
   "version": "3.6.7"
  }
 },
 "nbformat": 4,
 "nbformat_minor": 2
}
