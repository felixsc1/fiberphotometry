{
 "cells": [
  {
   "cell_type": "markdown",
   "metadata": {},
   "source": [
    "## Standard  stimulus evoked fMRI analysis"
   ]
  },
  {
   "cell_type": "code",
   "execution_count": 2,
   "metadata": {},
   "outputs": [],
   "source": [
    "import os, shutil, sys, glob\n",
    "import numpy as np\n",
    "import pandas as pd\n",
    "import matplotlib.pyplot as plt\n",
    "import importlib\n",
    "import helperfunctionsfMRI as fh\n",
    "import MRIhelperfunctions as h"
   ]
  },
  {
   "cell_type": "markdown",
   "metadata": {},
   "source": [
    "importlib.reload(fh)\n",
    "import helperfunctionsfMRI as fh\n",
    "importlib.reload(h)\n",
    "import MRIhelperfunctions as h"
   ]
  },
  {
   "cell_type": "markdown",
   "metadata": {},
   "source": [
    "# Settings"
   ]
  },
  {
   "cell_type": "code",
   "execution_count": 5,
   "metadata": {},
   "outputs": [
    {
     "name": "stdout",
     "output_type": "stream",
     "text": [
      "stimulus times: [120, 210, 300, 390, 480, 570, 660, 750, 840, 930]\n"
     ]
    }
   ],
   "source": [
    "paradigm = {}\n",
    "folders = {}\n",
    "averaging = {}\n",
    "\n",
    "paradigm['TR'] = 1 # in seconds\n",
    "\n",
    "paradigm['initial_cutoff'] = 30 # number of volumes to remove (in absence of dummy scans).\n",
    "\n",
    "blurFWHM = 0.3 # In [mm]. Rule-of-thumb: 1.5x the voxel resolution.\n",
    "\n",
    "highpass = 180 # period [s]. Any signal slower than this will be removed. Should be at least 2x inter-stim. interval\n",
    "\n",
    "\n",
    "# --- For averaging of blocks:\n",
    "\n",
    "averaging['baseline'] = 20 # baseline to consider before each block\n",
    "\n",
    "averaging['time'] = 60 # how many seconds to display after end of stim_block\n",
    "\n",
    "\n",
    "#======================================================================\n",
    "folders['animal'] = 'media/sf_MRIDATA/20181214'\n",
    "folders['scanNumber'] = '8'\n",
    "#======================================================================\n",
    "\n",
    "\n",
    "# --- EPI Template for coregistration ---\n",
    "folders['template'] = '/home/felix/Desktop/examplescan/template/template.nii'\n",
    "\n",
    "\n",
    "# --- Optional: ROI file:\n",
    "folders['rois'] = '/home/felix/Desktop/examplescan/template/ROIs.nii'\n",
    "\n",
    "\n",
    "\n",
    "# --- Define the stimulation paradigm (all units in seconds):\n",
    "paradigm['baseline'] = 120\n",
    "paradigm['stim_duration'] = 8 \n",
    "paradigm['Nblocks'] = 10\n",
    "paradigm['ISI'] = 90  # Inter-stimulus interval (on+off period)\n",
    "paradigm['frequency'] = 4 \n",
    "\n",
    "\n",
    "paradigm['stim_times'], paradigm['stim_onsets'], paradigm['stim_times_all'], paradigm['singleblock'] = fh.CreateStimParadigm(paradigm)"
   ]
  },
  {
   "cell_type": "code",
   "execution_count": 6,
   "metadata": {},
   "outputs": [
    {
     "name": "stdout",
     "output_type": "stream",
     "text": [
      "Bru2 -a -o media/sf_MRIDATA/20181214/analysis/8 media/sf_MRIDATA/20181214/8/subject\n"
     ]
    }
   ],
   "source": [
    "# this creates also the 'analysis' and 'scan' folders\n",
    "folders = h.check_and_convert_single(folders)"
   ]
  },
  {
   "cell_type": "markdown",
   "metadata": {},
   "source": [
    "# Data Preprocessing"
   ]
  },
  {
   "cell_type": "code",
   "execution_count": 4,
   "metadata": {},
   "outputs": [
    {
     "ename": "KeyError",
     "evalue": "'raw'",
     "output_type": "error",
     "traceback": [
      "\u001b[0;31m---------------------------------------------------------------------------\u001b[0m",
      "\u001b[0;31mKeyError\u001b[0m                                  Traceback (most recent call last)",
      "\u001b[0;32m<ipython-input-4-c31fda1f722c>\u001b[0m in \u001b[0;36m<module>\u001b[0;34m()\u001b[0m\n\u001b[0;32m----> 1\u001b[0;31m \u001b[0mfolders\u001b[0m\u001b[0;34m[\u001b[0m\u001b[0;34m'cut'\u001b[0m\u001b[0;34m]\u001b[0m \u001b[0;34m=\u001b[0m \u001b[0mfh\u001b[0m\u001b[0;34m.\u001b[0m\u001b[0minitial_cutoff\u001b[0m\u001b[0;34m(\u001b[0m\u001b[0mfolders\u001b[0m\u001b[0;34m[\u001b[0m\u001b[0;34m'raw'\u001b[0m\u001b[0;34m]\u001b[0m\u001b[0;34m,\u001b[0m \u001b[0mparadigm\u001b[0m\u001b[0;34m[\u001b[0m\u001b[0;34m'initial_cutoff'\u001b[0m\u001b[0;34m]\u001b[0m\u001b[0;34m)\u001b[0m\u001b[0;34m\u001b[0m\u001b[0m\n\u001b[0m",
      "\u001b[0;31mKeyError\u001b[0m: 'raw'"
     ]
    }
   ],
   "source": [
    "folders['cut'] = fh.initial_cutoff(folders['raw'], paradigm['initial_cutoff'])"
   ]
  },
  {
   "cell_type": "code",
   "execution_count": null,
   "metadata": {},
   "outputs": [],
   "source": [
    "# takes several minutes\n",
    "folders['coreg'] = h.coreg_epi_to_template(folders['template'], folders['cut'])"
   ]
  },
  {
   "cell_type": "markdown",
   "metadata": {},
   "source": [
    "### Check for motion"
   ]
  },
  {
   "cell_type": "code",
   "execution_count": null,
   "metadata": {
    "scrolled": true
   },
   "outputs": [],
   "source": [
    "frame = pd.read_csv(os.path.join(folders['scan'],'dfile.1D'), sep=r'\\s{2,}', engine='python')\n",
    "\n",
    "%matplotlib qt\n",
    "# frame.plot(subplots=True, layout=(9,1))\n",
    "frame.iloc[:,1:7].plot(subplots=True, layout=(6,1))"
   ]
  },
  {
   "cell_type": "markdown",
   "metadata": {},
   "source": [
    "High-pass filter, smoothing"
   ]
  },
  {
   "cell_type": "code",
   "execution_count": null,
   "metadata": {},
   "outputs": [],
   "source": [
    "folders['cleaned'] = fh.filter_blur(folders['coreg'], highpass, blurFWHM)"
   ]
  },
  {
   "cell_type": "markdown",
   "metadata": {},
   "source": [
    "# GLM Analysis"
   ]
  },
  {
   "cell_type": "code",
   "execution_count": null,
   "metadata": {},
   "outputs": [],
   "source": [
    "fh.Deconvolve(folders['cleaned'],paradigm)"
   ]
  },
  {
   "cell_type": "markdown",
   "metadata": {},
   "source": [
    "# ROI Analysis\n",
    "\n",
    "Can be run separately on previously analyzed datasets, but first execute all cells under \"Settings\" above"
   ]
  },
  {
   "cell_type": "code",
   "execution_count": null,
   "metadata": {},
   "outputs": [],
   "source": [
    "folders['cleaned'] = fh.find_cleaned_data(folders)\n",
    "folders['roidata'] = h.extract_roi(folders['cleaned'],folders['rois'])\n",
    "\n",
    "roi_df = pd.read_csv(folders['roidata'], sep='\\t')\n",
    "del roi_df['File'], roi_df['Sub-brick']"
   ]
  },
  {
   "cell_type": "markdown",
   "metadata": {},
   "source": [
    "Plotting whole time course"
   ]
  },
  {
   "cell_type": "code",
   "execution_count": null,
   "metadata": {},
   "outputs": [],
   "source": [
    "%matplotlib qt\n",
    "\n",
    "plt.figure()\n",
    "for rois in roi_df.columns:\n",
    "    plt.plot(roi_df[rois])\n",
    "_ = [plt.axvline(_p, alpha=0.05, color='red') for _p in paradigm['stim_times_all']]\n",
    "_ = plt.legend(roi_df.columns)"
   ]
  },
  {
   "cell_type": "markdown",
   "metadata": {},
   "source": [
    "Plotting averages across stimulus blocks"
   ]
  },
  {
   "cell_type": "code",
   "execution_count": null,
   "metadata": {},
   "outputs": [],
   "source": [
    "%matplotlib inline\n",
    "\n",
    "roimeans = fh.averageblocks(roi_df, paradigm, averaging)\n",
    "\n",
    "plt.figure()\n",
    "_ = [plt.axvline(_p, alpha=0.05, color='red') for _p in paradigm['singleblock']]\n",
    "plt.axhline(0,color='k')\n",
    "plt.plot(roimeans)\n",
    "_ = plt.legend(roi_df.columns)\n"
   ]
  }
 ],
 "metadata": {
  "kernelspec": {
   "display_name": "Python 3",
   "language": "python",
   "name": "python3"
  },
  "language_info": {
   "codemirror_mode": {
    "name": "ipython",
    "version": 3
   },
   "file_extension": ".py",
   "mimetype": "text/x-python",
   "name": "python",
   "nbconvert_exporter": "python",
   "pygments_lexer": "ipython3",
   "version": "3.7.0"
  }
 },
 "nbformat": 4,
 "nbformat_minor": 2
}
