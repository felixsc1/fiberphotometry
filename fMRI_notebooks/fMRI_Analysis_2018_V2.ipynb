{
 "cells": [
  {
   "cell_type": "markdown",
   "metadata": {},
   "source": [
    "## still under construction"
   ]
  },
  {
   "cell_type": "code",
   "execution_count": 3,
   "metadata": {},
   "outputs": [],
   "source": [
    "import os\n",
    "import subprocess\n",
    "import shutil\n",
    "import sys\n",
    "import numpy as np\n",
    "import glob\n",
    "from tkinter import Tk\n",
    "from tkinter.filedialog import askopenfilename\n",
    "\n",
    "import importlib\n",
    "import helperfunctionsfMRI as fh\n",
    "import MRIhelperfunctions as h"
   ]
  },
  {
   "cell_type": "code",
   "execution_count": 8,
   "metadata": {},
   "outputs": [],
   "source": [
    "importlib.reload(fh)\n",
    "import helperfunctionsfMRI as fh\n",
    "importlib.reload(h)\n",
    "import MRIhelperfunctions as h"
   ]
  },
  {
   "cell_type": "code",
   "execution_count": 12,
   "metadata": {},
   "outputs": [
    {
     "name": "stdout",
     "output_type": "stream",
     "text": [
      "stimulus times: [720, 780, 840, 900, 960, 1020, 1080, 1140, 1200, 1260]\n"
     ]
    }
   ],
   "source": [
    "TR = 1 # in seconds\n",
    "\n",
    "initial_cutoff = 30 # number of volumes to remove (in absence of dummy scans).\n",
    "\n",
    "blurFWHM = 0.3 # In [mm]. Rule-of-thumb: 1.5x the voxel resolution.\n",
    "\n",
    "highpass = 9999 # period [s]. Any signal slower than this will be removed. Should be at least 2x inter-stim. interval\n",
    "\n",
    "\n",
    "# --- For averaging of blocks:\n",
    "\n",
    "averaging_baseline = 20 # baseline to consider before each block\n",
    "\n",
    "_time = 60 # how many seconds to display after stim block ends\n",
    "\n",
    "\n",
    "folders = {}\n",
    "folders['main'] = '/media/sf_MRIDATA/20181015'\n",
    "folders['scanNumber'] = '7'\n",
    "\n",
    "\n",
    "\n",
    "# --- Optional: ROI file:\n",
    "roi_path = '/home/aic/BigHDD/MR_DATA/CSI2018/template/ROI+orig'\n",
    "\n",
    "\n",
    "\n",
    "# --- Define the stimulation paradigm (all units in seconds):\n",
    "paradigm = {}\n",
    "paradigm['baseline'] = 12*60\n",
    "paradigm['stim_duration'] = 40 \n",
    "paradigm['Nblocks'] = 10\n",
    "paradigm['ISI'] = 60  # Inter-stimulus interval (on+off period)\n",
    "\n",
    "paradigm['stim_times'] = fh.CreateStimParadigm(paradigm)"
   ]
  },
  {
   "cell_type": "code",
   "execution_count": null,
   "metadata": {},
   "outputs": [],
   "source": [
    "convertAll(folders['main'], folders['main']):\n",
    "\n",
    "    \n",
    "rawscan = f\"{folders['main']}/A_coreg.nii\"\n",
    "folders['rawscan'] = "
   ]
  },
  {
   "cell_type": "code",
   "execution_count": null,
   "metadata": {},
   "outputs": [],
   "source": []
  }
 ],
 "metadata": {
  "kernelspec": {
   "display_name": "Python 3",
   "language": "python",
   "name": "python3"
  },
  "language_info": {
   "codemirror_mode": {
    "name": "ipython",
    "version": 3
   },
   "file_extension": ".py",
   "mimetype": "text/x-python",
   "name": "python",
   "nbconvert_exporter": "python",
   "pygments_lexer": "ipython3",
   "version": "3.6.6"
  }
 },
 "nbformat": 4,
 "nbformat_minor": 2
}
