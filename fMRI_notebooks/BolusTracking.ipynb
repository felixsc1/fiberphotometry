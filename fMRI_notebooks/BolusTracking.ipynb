{
 "cells": [
  {
   "cell_type": "markdown",
   "metadata": {},
   "source": [
    "# Bolus Tracking"
   ]
  },
  {
   "cell_type": "markdown",
   "metadata": {},
   "source": [
    "Use this notebook for single animals, otherwise run it in batch from **GLUT1_Analysis**"
   ]
  },
  {
   "cell_type": "code",
   "execution_count": 1,
   "metadata": {},
   "outputs": [],
   "source": [
    "import os\n",
    "import subprocess\n",
    "import numpy as np\n",
    "import pandas as pd\n",
    "import MRIhelperfunctions as h\n",
    "import MRIhelperfunctions\n",
    "from MRIhelperfunctions import Settings\n",
    "from imp import importlib\n",
    "import fnmatch\n",
    "import papermill as pm\n",
    "\n",
    "import nibabel as nib\n",
    "import matplotlib.pyplot as plt\n",
    "%matplotlib inline  "
   ]
  },
  {
   "cell_type": "code",
   "execution_count": 18,
   "metadata": {},
   "outputs": [],
   "source": [
    "importlib.reload(h)\n",
    "import MRIhelperfunctions as h\n",
    "from MRIhelperfunctions import Settings"
   ]
  },
  {
   "cell_type": "code",
   "execution_count": 3,
   "metadata": {},
   "outputs": [
    {
     "data": {
      "text/html": [
       "<div>\n",
       "<style scoped>\n",
       "    .dataframe tbody tr th:only-of-type {\n",
       "        vertical-align: middle;\n",
       "    }\n",
       "\n",
       "    .dataframe tbody tr th {\n",
       "        vertical-align: top;\n",
       "    }\n",
       "\n",
       "    .dataframe thead th {\n",
       "        text-align: right;\n",
       "    }\n",
       "</style>\n",
       "<table border=\"1\" class=\"dataframe\">\n",
       "  <thead>\n",
       "    <tr style=\"text-align: right;\">\n",
       "      <th></th>\n",
       "      <th>glut1_male1</th>\n",
       "      <th>glut1_male2</th>\n",
       "      <th>glut1_f10wks1</th>\n",
       "      <th>glut1_f10wks2</th>\n",
       "      <th>glut1_f10wks3</th>\n",
       "      <th>glut1_f10wks4</th>\n",
       "      <th>glut1_f10wks5</th>\n",
       "      <th>glut1_f10wks6</th>\n",
       "      <th>glut1_f8wks1</th>\n",
       "      <th>glut1_f8wks2</th>\n",
       "      <th>glut1_f8wks3</th>\n",
       "      <th>glut1_f8wks4</th>\n",
       "      <th>glut1_f8wks5</th>\n",
       "      <th>glut1_f8wks6</th>\n",
       "      <th>glut1_f8wks7</th>\n",
       "      <th>glut1_f6wks2</th>\n",
       "      <th>glut1_f6wks1</th>\n",
       "    </tr>\n",
       "    <tr>\n",
       "      <th>scan</th>\n",
       "      <th></th>\n",
       "      <th></th>\n",
       "      <th></th>\n",
       "      <th></th>\n",
       "      <th></th>\n",
       "      <th></th>\n",
       "      <th></th>\n",
       "      <th></th>\n",
       "      <th></th>\n",
       "      <th></th>\n",
       "      <th></th>\n",
       "      <th></th>\n",
       "      <th></th>\n",
       "      <th></th>\n",
       "      <th></th>\n",
       "      <th></th>\n",
       "      <th></th>\n",
       "    </tr>\n",
       "  </thead>\n",
       "  <tbody>\n",
       "    <tr>\n",
       "      <th>Gd DCE</th>\n",
       "      <td>6</td>\n",
       "      <td>8</td>\n",
       "      <td>6</td>\n",
       "      <td>5</td>\n",
       "      <td>5</td>\n",
       "      <td>8</td>\n",
       "      <td>5</td>\n",
       "      <td>5</td>\n",
       "      <td>7</td>\n",
       "      <td>5</td>\n",
       "      <td>6</td>\n",
       "      <td>6</td>\n",
       "      <td>8</td>\n",
       "      <td>8</td>\n",
       "      <td>6</td>\n",
       "      <td>5</td>\n",
       "      <td>5</td>\n",
       "    </tr>\n",
       "    <tr>\n",
       "      <th>Angio pre</th>\n",
       "      <td>8</td>\n",
       "      <td>9</td>\n",
       "      <td>7</td>\n",
       "      <td>6</td>\n",
       "      <td>6</td>\n",
       "      <td>9</td>\n",
       "      <td>6</td>\n",
       "      <td>6</td>\n",
       "      <td>8</td>\n",
       "      <td>6</td>\n",
       "      <td>9</td>\n",
       "      <td>8</td>\n",
       "      <td>9</td>\n",
       "      <td>9</td>\n",
       "      <td>8</td>\n",
       "      <td>6</td>\n",
       "      <td>6</td>\n",
       "    </tr>\n",
       "    <tr>\n",
       "      <th>Angio post</th>\n",
       "      <td>12</td>\n",
       "      <td>12</td>\n",
       "      <td>11</td>\n",
       "      <td>9</td>\n",
       "      <td>9</td>\n",
       "      <td>13</td>\n",
       "      <td>10</td>\n",
       "      <td>11</td>\n",
       "      <td>12</td>\n",
       "      <td>11</td>\n",
       "      <td>12</td>\n",
       "      <td>12</td>\n",
       "      <td>16</td>\n",
       "      <td>13</td>\n",
       "      <td>12</td>\n",
       "      <td>9</td>\n",
       "      <td>10</td>\n",
       "    </tr>\n",
       "    <tr>\n",
       "      <th>Endorem DCE</th>\n",
       "      <td>11</td>\n",
       "      <td>11</td>\n",
       "      <td>10</td>\n",
       "      <td>8</td>\n",
       "      <td>8</td>\n",
       "      <td>12</td>\n",
       "      <td>9</td>\n",
       "      <td>10</td>\n",
       "      <td>10</td>\n",
       "      <td>10</td>\n",
       "      <td>11</td>\n",
       "      <td>11</td>\n",
       "      <td>15</td>\n",
       "      <td>12</td>\n",
       "      <td>11</td>\n",
       "      <td>8</td>\n",
       "      <td>9</td>\n",
       "    </tr>\n",
       "    <tr>\n",
       "      <th>Diamox</th>\n",
       "      <td>15</td>\n",
       "      <td>14</td>\n",
       "      <td>13</td>\n",
       "      <td>11</td>\n",
       "      <td>13</td>\n",
       "      <td>15</td>\n",
       "      <td>12</td>\n",
       "      <td>13</td>\n",
       "      <td>14</td>\n",
       "      <td>13</td>\n",
       "      <td>16</td>\n",
       "      <td>17</td>\n",
       "      <td>20</td>\n",
       "      <td>16</td>\n",
       "      <td>14</td>\n",
       "      <td>11</td>\n",
       "      <td>13</td>\n",
       "    </tr>\n",
       "    <tr>\n",
       "      <th>folder</th>\n",
       "      <td>/home/aic/BigHDD/MR_DATA/GLUT1/Rawdata/2018060...</td>\n",
       "      <td>/home/aic/BigHDD/MR_DATA/GLUT1/Rawdata/2018060...</td>\n",
       "      <td>/home/aic/BigHDD/MR_DATA/GLUT1/Rawdata/2018060...</td>\n",
       "      <td>/home/aic/BigHDD/MR_DATA/GLUT1/Rawdata/2018060...</td>\n",
       "      <td>/home/aic/BigHDD/MR_DATA/GLUT1/Rawdata/2018060...</td>\n",
       "      <td>/home/aic/BigHDD/MR_DATA/GLUT1/Rawdata/2018060...</td>\n",
       "      <td>/home/aic/BigHDD/MR_DATA/GLUT1/Rawdata/2018060...</td>\n",
       "      <td>/home/aic/BigHDD/MR_DATA/GLUT1/Rawdata/2018060...</td>\n",
       "      <td>/home/aic/BigHDD/MR_DATA/GLUT1/Rawdata/2018061...</td>\n",
       "      <td>/home/aic/BigHDD/MR_DATA/GLUT1/Rawdata/2018061...</td>\n",
       "      <td>/home/aic/BigHDD/MR_DATA/GLUT1/Rawdata/2018061...</td>\n",
       "      <td>/home/aic/BigHDD/MR_DATA/GLUT1/Rawdata/2018061...</td>\n",
       "      <td>/home/aic/BigHDD/MR_DATA/GLUT1/Rawdata/2018061...</td>\n",
       "      <td>/home/aic/BigHDD/MR_DATA/GLUT1/Rawdata/2018061...</td>\n",
       "      <td>/home/aic/BigHDD/MR_DATA/GLUT1/Rawdata/2018061...</td>\n",
       "      <td>/home/aic/BigHDD/MR_DATA/GLUT1/Rawdata/2018061...</td>\n",
       "      <td>/home/aic/BigHDD/MR_DATA/GLUT1/Rawdata/2018061...</td>\n",
       "    </tr>\n",
       "  </tbody>\n",
       "</table>\n",
       "</div>"
      ],
      "text/plain": [
       "                                                   glut1_male1  \\\n",
       "scan                                                             \n",
       "Gd DCE                                                       6   \n",
       "Angio pre                                                    8   \n",
       "Angio post                                                  12   \n",
       "Endorem DCE                                                 11   \n",
       "Diamox                                                      15   \n",
       "folder       /home/aic/BigHDD/MR_DATA/GLUT1/Rawdata/2018060...   \n",
       "\n",
       "                                                   glut1_male2  \\\n",
       "scan                                                             \n",
       "Gd DCE                                                       8   \n",
       "Angio pre                                                    9   \n",
       "Angio post                                                  12   \n",
       "Endorem DCE                                                 11   \n",
       "Diamox                                                      14   \n",
       "folder       /home/aic/BigHDD/MR_DATA/GLUT1/Rawdata/2018060...   \n",
       "\n",
       "                                                 glut1_f10wks1  \\\n",
       "scan                                                             \n",
       "Gd DCE                                                       6   \n",
       "Angio pre                                                    7   \n",
       "Angio post                                                  11   \n",
       "Endorem DCE                                                 10   \n",
       "Diamox                                                      13   \n",
       "folder       /home/aic/BigHDD/MR_DATA/GLUT1/Rawdata/2018060...   \n",
       "\n",
       "                                                 glut1_f10wks2  \\\n",
       "scan                                                             \n",
       "Gd DCE                                                       5   \n",
       "Angio pre                                                    6   \n",
       "Angio post                                                   9   \n",
       "Endorem DCE                                                  8   \n",
       "Diamox                                                      11   \n",
       "folder       /home/aic/BigHDD/MR_DATA/GLUT1/Rawdata/2018060...   \n",
       "\n",
       "                                                 glut1_f10wks3  \\\n",
       "scan                                                             \n",
       "Gd DCE                                                       5   \n",
       "Angio pre                                                    6   \n",
       "Angio post                                                   9   \n",
       "Endorem DCE                                                  8   \n",
       "Diamox                                                      13   \n",
       "folder       /home/aic/BigHDD/MR_DATA/GLUT1/Rawdata/2018060...   \n",
       "\n",
       "                                                 glut1_f10wks4  \\\n",
       "scan                                                             \n",
       "Gd DCE                                                       8   \n",
       "Angio pre                                                    9   \n",
       "Angio post                                                  13   \n",
       "Endorem DCE                                                 12   \n",
       "Diamox                                                      15   \n",
       "folder       /home/aic/BigHDD/MR_DATA/GLUT1/Rawdata/2018060...   \n",
       "\n",
       "                                                 glut1_f10wks5  \\\n",
       "scan                                                             \n",
       "Gd DCE                                                       5   \n",
       "Angio pre                                                    6   \n",
       "Angio post                                                  10   \n",
       "Endorem DCE                                                  9   \n",
       "Diamox                                                      12   \n",
       "folder       /home/aic/BigHDD/MR_DATA/GLUT1/Rawdata/2018060...   \n",
       "\n",
       "                                                 glut1_f10wks6  \\\n",
       "scan                                                             \n",
       "Gd DCE                                                       5   \n",
       "Angio pre                                                    6   \n",
       "Angio post                                                  11   \n",
       "Endorem DCE                                                 10   \n",
       "Diamox                                                      13   \n",
       "folder       /home/aic/BigHDD/MR_DATA/GLUT1/Rawdata/2018060...   \n",
       "\n",
       "                                                  glut1_f8wks1  \\\n",
       "scan                                                             \n",
       "Gd DCE                                                       7   \n",
       "Angio pre                                                    8   \n",
       "Angio post                                                  12   \n",
       "Endorem DCE                                                 10   \n",
       "Diamox                                                      14   \n",
       "folder       /home/aic/BigHDD/MR_DATA/GLUT1/Rawdata/2018061...   \n",
       "\n",
       "                                                  glut1_f8wks2  \\\n",
       "scan                                                             \n",
       "Gd DCE                                                       5   \n",
       "Angio pre                                                    6   \n",
       "Angio post                                                  11   \n",
       "Endorem DCE                                                 10   \n",
       "Diamox                                                      13   \n",
       "folder       /home/aic/BigHDD/MR_DATA/GLUT1/Rawdata/2018061...   \n",
       "\n",
       "                                                  glut1_f8wks3  \\\n",
       "scan                                                             \n",
       "Gd DCE                                                       6   \n",
       "Angio pre                                                    9   \n",
       "Angio post                                                  12   \n",
       "Endorem DCE                                                 11   \n",
       "Diamox                                                      16   \n",
       "folder       /home/aic/BigHDD/MR_DATA/GLUT1/Rawdata/2018061...   \n",
       "\n",
       "                                                  glut1_f8wks4  \\\n",
       "scan                                                             \n",
       "Gd DCE                                                       6   \n",
       "Angio pre                                                    8   \n",
       "Angio post                                                  12   \n",
       "Endorem DCE                                                 11   \n",
       "Diamox                                                      17   \n",
       "folder       /home/aic/BigHDD/MR_DATA/GLUT1/Rawdata/2018061...   \n",
       "\n",
       "                                                  glut1_f8wks5  \\\n",
       "scan                                                             \n",
       "Gd DCE                                                       8   \n",
       "Angio pre                                                    9   \n",
       "Angio post                                                  16   \n",
       "Endorem DCE                                                 15   \n",
       "Diamox                                                      20   \n",
       "folder       /home/aic/BigHDD/MR_DATA/GLUT1/Rawdata/2018061...   \n",
       "\n",
       "                                                  glut1_f8wks6  \\\n",
       "scan                                                             \n",
       "Gd DCE                                                       8   \n",
       "Angio pre                                                    9   \n",
       "Angio post                                                  13   \n",
       "Endorem DCE                                                 12   \n",
       "Diamox                                                      16   \n",
       "folder       /home/aic/BigHDD/MR_DATA/GLUT1/Rawdata/2018061...   \n",
       "\n",
       "                                                  glut1_f8wks7  \\\n",
       "scan                                                             \n",
       "Gd DCE                                                       6   \n",
       "Angio pre                                                    8   \n",
       "Angio post                                                  12   \n",
       "Endorem DCE                                                 11   \n",
       "Diamox                                                      14   \n",
       "folder       /home/aic/BigHDD/MR_DATA/GLUT1/Rawdata/2018061...   \n",
       "\n",
       "                                                  glut1_f6wks2  \\\n",
       "scan                                                             \n",
       "Gd DCE                                                       5   \n",
       "Angio pre                                                    6   \n",
       "Angio post                                                   9   \n",
       "Endorem DCE                                                  8   \n",
       "Diamox                                                      11   \n",
       "folder       /home/aic/BigHDD/MR_DATA/GLUT1/Rawdata/2018061...   \n",
       "\n",
       "                                                  glut1_f6wks1  \n",
       "scan                                                            \n",
       "Gd DCE                                                       5  \n",
       "Angio pre                                                    6  \n",
       "Angio post                                                  10  \n",
       "Endorem DCE                                                  9  \n",
       "Diamox                                                      13  \n",
       "folder       /home/aic/BigHDD/MR_DATA/GLUT1/Rawdata/2018061...  "
      ]
     },
     "execution_count": 3,
     "metadata": {},
     "output_type": "execute_result"
    }
   ],
   "source": [
    "# Default Parameters (to run script independently)\n",
    "folders = {}\n",
    "folders['raw'] = '/home/aic/BigHDD/MR_DATA/GLUT1/Rawdata'\n",
    "folders['main'] = os.path.dirname(folders['raw'])\n",
    "folders['analysis'] = '/home/aic/BigHDD/MR_DATA/GLUT1/Analysis'\n",
    "folders['animal'] = '/home/aic/BigHDD/MR_DATA/GLUT1/Rawdata/20180604_101508_Glut1_2_2'\n",
    "folders['excel'] = 'Animal_Scan_IDs.xlsx'\n",
    "\n",
    "\n",
    "animal = 'glut1_male1'\n",
    "\n",
    "\n",
    "info = h.getinfo(folders)\n",
    "info"
   ]
  },
  {
   "cell_type": "code",
   "execution_count": 16,
   "metadata": {},
   "outputs": [],
   "source": [
    "# additional Script specific parameters\n",
    "\n",
    "# info = pd.read_json(info)  #<-- dont run this line in single animal mode\n",
    "\n",
    "folders['template'] = os.path.join(folders['main'], 'Templates', 'BolusTracking.nii' ) # from animal glut1_male1\n",
    "folders['in'] = os.path.join(folders['analysis'], animal)\n",
    "folders['out'] = os.path.join(folders['in'], 'BolusTracking')\n",
    "\n",
    "if not os.path.exists(folders['out']):\n",
    "    os.makedirs(folders['out'] )"
   ]
  },
  {
   "cell_type": "code",
   "execution_count": 6,
   "metadata": {},
   "outputs": [
    {
     "name": "stdout",
     "output_type": "stream",
     "text": [
      "check if these dimensions make sense:  pre: (80, 35, 10, 1200)\n"
     ]
    }
   ],
   "source": [
    "scans={}\n",
    "scans['number'] = int(info.loc['Endorem DCE', animal])\n",
    "\n",
    "scans['raw'] = os.path.join(folders['in'], f\"X{scans['number']}P1.nii\")\n",
    "\n",
    "\n",
    "raw = nib.load(scans['raw'])\n",
    "print(f'check if these dimensions make sense:  pre: {raw.shape}')"
   ]
  },
  {
   "cell_type": "code",
   "execution_count": 21,
   "metadata": {},
   "outputs": [
    {
     "name": "stdout",
     "output_type": "stream",
     "text": [
      "3dTcat -prefix /home/aic/BigHDD/MR_DATA/GLUT1/Analysis/glut1_male1/BolusTracking/single_timepoint.nii /home/aic/BigHDD/MR_DATA/GLUT1/Analysis/glut1_male1/X11P1.nii'[0]'\n",
      "3dTcat -prefix /home/aic/BigHDD/MR_DATA/GLUT1/Analysis/glut1_male1/BolusTracking/11_cut.nii /home/aic/BigHDD/MR_DATA/GLUT1/Analysis/glut1_male1/X11P1.nii'[10..$]'\n",
      "3dAllineate -base /home/aic/BigHDD/MR_DATA/GLUT1/Templates/BolusTracking.nii -source /home/aic/BigHDD/MR_DATA/GLUT1/Analysis/glut1_male1/BolusTracking/single_timepoint.nii -prefix /home/aic/BigHDD/MR_DATA/GLUT1/Analysis/glut1_male1/BolusTracking/A_coreg.nii -cost ls -zclip -interp quintic -final wsinc5 -twopass -twoblur 2 -fineblur 0.5 -nmatch 80% -conv 0.01 -1Dparam_save /home/aic/BigHDD/MR_DATA/GLUT1/Analysis/glut1_male1/BolusTracking/1dparams.1D\n",
      "3dAllineate -1Dparam_apply /home/aic/BigHDD/MR_DATA/GLUT1/Analysis/glut1_male1/BolusTracking/1dparams.1D -source /home/aic/BigHDD/MR_DATA/GLUT1/Analysis/glut1_male1/BolusTracking/11_cut.nii -prefix /home/aic/BigHDD/MR_DATA/GLUT1/Analysis/glut1_male1/BolusTracking/B_coreg.nii -cost ls -zclip -interp quintic -final wsinc5 -twopass -twoblur 2 -fineblur 0.5 -nmatch 80% -conv 0.01 -master /home/aic/BigHDD/MR_DATA/GLUT1/Templates/BolusTracking.nii\n"
     ]
    }
   ],
   "source": [
    "# cut out a single repetition\n",
    "scans['single'] = f\"{folders['out']}/single_timepoint.nii\"\n",
    "h.runAFNI(f\"3dTcat -prefix {scans['single']} {scans['raw']}'[0]'\")\n",
    "\n",
    "# cut off first 10 points\n",
    "scans['cut'] = os.path.join(folders['out'], f\"{scans['number']}_cut.nii\")\n",
    "h.runAFNI(f\"3dTcat -prefix {scans['cut']} {scans['raw']}'[10..$]'\")\n",
    "\n",
    "# coregistration\n",
    "scans['single_coreg'], scans['coreg'] = h.simple_coreg(folders['template'], scans['single'], scans['cut'], folders['out'])"
   ]
  },
  {
   "cell_type": "code",
   "execution_count": 112,
   "metadata": {},
   "outputs": [
    {
     "name": "stdout",
     "output_type": "stream",
     "text": [
      "<class 'nibabel.nifti1.Nifti1Header'> object, endian='<'\n",
      "sizeof_hdr      : 348\n",
      "data_type       : b''\n",
      "db_name         : b''\n",
      "extents         : 0\n",
      "session_error   : 0\n",
      "regular         : b'r'\n",
      "dim_info        : 48\n",
      "dim             : [   4   80   35   10 1190    1    1    1]\n",
      "intent_p1       : 0.0\n",
      "intent_p2       : 0.0\n",
      "intent_p3       : 0.0\n",
      "intent_code     : none\n",
      "datatype        : float32\n",
      "bitpix          : 32\n",
      "slice_start     : 0\n",
      "pixdim          : [1.         0.2        0.2        0.50591666 0.4        0.\n",
      " 0.         0.        ]\n",
      "vox_offset      : 0.0\n",
      "scl_slope       : nan\n",
      "scl_inter       : nan\n",
      "slice_end       : 9\n",
      "slice_code      : unknown\n",
      "xyzt_units      : 10\n",
      "cal_max         : 0.0\n",
      "cal_min         : 0.0\n",
      "slice_duration  : 0.0\n",
      "toffset         : 0.0\n",
      "glmax           : 0\n",
      "glmin           : 0\n",
      "descrip         : b''\n",
      "aux_file        : b''\n",
      "qform_code      : scanner\n",
      "sform_code      : scanner\n",
      "quatern_b       : -0.70710677\n",
      "quatern_c       : 0.0\n",
      "quatern_d       : 0.0\n",
      "qoffset_x       : -8.455814\n",
      "qoffset_y       : -2.3159401\n",
      "qoffset_z       : 5.6112275\n",
      "srow_x          : [ 0.2      -0.       -0.       -8.455814]\n",
      "srow_y          : [-0.         -0.          0.50591666 -2.3159401 ]\n",
      "srow_z          : [ 0.        -0.2        0.         5.6112275]\n",
      "intent_name     : b''\n",
      "magic           : b'n+1'\n"
     ]
    }
   ],
   "source": [
    "img = nib.load(scans['coreg'])\n",
    "data = img.get_fdata()\n",
    "hdr = img.header\n",
    "print(hdr)\n",
    "\n",
    "\n",
    "dimensions = Settings()\n",
    "dimensions.t_res = hdr['pixdim'][4]"
   ]
  },
  {
   "cell_type": "code",
   "execution_count": 25,
   "metadata": {},
   "outputs": [
    {
     "data": {
      "image/png": "[encoded data removed]",
      "text/plain": [
       "<Figure size 432x288 with 1 Axes>"
      ]
     },
     "metadata": {
      "needs_background": "light"
     },
     "output_type": "display_data"
    }
   ],
   "source": [
    "data_averaged = np.mean(data,axis=3)  # average time points\n",
    "\n",
    "threshold = 2\n",
    "\n",
    "plt.hist(data_averaged.flatten(), bins=80, color='c', range=(threshold, np.max(data)))\n",
    "plt.show()"
   ]
  },
  {
   "cell_type": "code",
   "execution_count": 35,
   "metadata": {},
   "outputs": [],
   "source": [
    "data.shape\n",
    "\n",
    "data_reshaped = data.reshape(-1, data.shape[-1])"
   ]
  },
  {
   "cell_type": "code",
   "execution_count": 36,
   "metadata": {},
   "outputs": [
    {
     "data": {
      "text/plain": [
       "(28000, 1190)"
      ]
     },
     "execution_count": 36,
     "metadata": {},
     "output_type": "execute_result"
    }
   ],
   "source": [
    "data_reshaped.shape"
   ]
  },
  {
   "cell_type": "code",
   "execution_count": 104,
   "metadata": {},
   "outputs": [
    {
     "data": {
      "image/png": "[encoded data removed]",
      "text/plain": [
       "<Figure size 1440x720 with 1 Axes>"
      ]
     },
     "metadata": {
      "needs_background": "light"
     },
     "output_type": "display_data"
    }
   ],
   "source": [
    "threshold=7\n",
    "\n",
    "for voxel in data_reshaped:\n",
    "        if np.mean(voxel) > threshold:\n",
    "            x=voxel\n",
    "            \n",
    "plt.figure(figsize=(20,10))\n",
    "# plt.plot(x)\n",
    "plt.plot(y,'o')\n",
    "# plt.plot(x[0:],'o')\n",
    "plt.show()"
   ]
  },
  {
   "cell_type": "code",
   "execution_count": 102,
   "metadata": {},
   "outputs": [],
   "source": [
    "y = preparesignal(x, start_point)"
   ]
  },
  {
   "cell_type": "code",
   "execution_count": 93,
   "metadata": {},
   "outputs": [
    {
     "data": {
      "text/plain": [
       "439"
      ]
     },
     "execution_count": 93,
     "metadata": {},
     "output_type": "execute_result"
    }
   ],
   "source": [
    "end_point"
   ]
  },
  {
   "cell_type": "code",
   "execution_count": 92,
   "metadata": {},
   "outputs": [],
   "source": [
    "np.mean(x[:start_point])\n",
    "\n",
    "\n",
    "end_point = int(np.argwhere(x[np.argmin(x):] >= 0.9 * np.mean(x[np.argmin(x)+8:np.argmin(x)+100]))[0]) + np.argmin(x)"
   ]
  },
  {
   "cell_type": "code",
   "execution_count": 124,
   "metadata": {},
   "outputs": [],
   "source": [
    "def preparesignal(x,start_point):\n",
    "    bsl = np.mean(x[:start_point-2])\n",
    "    x[end_point+1:] = bsl\n",
    "    x = x-bsl\n",
    "    x = x/np.max(np.abs(x))\n",
    "    x[end_point:end_point+5]=np.nan\n",
    "    x = -x[start_point-5:end_point+15]\n",
    "    return x\n",
    "    \n",
    "start_point = np.argmin(x) - 5\n",
    "# end_point in words: first point after the absolute minimum that reaches 90% of post-injection baseline (first 100 points) level\n",
    "end_point = int(np.argwhere(x[np.argmin(x):] >= 0.9 * np.mean(x[np.argmin(x)+8:np.argmin(x)+100]))[0]) + np.argmin(x)"
   ]
  },
  {
   "cell_type": "code",
   "execution_count": 116,
   "metadata": {},
   "outputs": [
    {
     "data": {
      "text/plain": [
       "33"
      ]
     },
     "execution_count": 116,
     "metadata": {},
     "output_type": "execute_result"
    }
   ],
   "source": [
    "signal = preparesignal(x,start_point)\n",
    "\n",
    "signal.size"
   ]
  },
  {
   "cell_type": "code",
   "execution_count": 125,
   "metadata": {},
   "outputs": [],
   "source": [
    "from lmfit.models import ExpressionModel\n",
    "\n",
    "\n",
    "script = \"\"\"\n",
    "def gammavar(ymax, tmax, a, x, t0):\n",
    "    x_input = x * (x > t0) + (t0 + tmax) * (x <= t0)\n",
    "    return (exp(log(ymax)+a*(1+log((x_input-t0)/tmax)-(x_input-t0)/tmax))) * (x > t0)\n",
    "\"\"\"\n",
    "\n",
    "\n",
    "model = ExpressionModel(f'gammavar(ymax0, tmax0, a0, x, t0)',\n",
    "                        init_script=script,\n",
    "                        intependent_vars=['x'], nan_policy='propagate')\n",
    "    \n",
    "params = model.make_params()\n",
    "params['ymax0'].set(value=0.5, min=0, max=1)\n",
    "params['tmax0'].set(value=2, min=1, max=5)\n",
    "params['a0'].set(1, min=0.05, max=5)\n",
    "params['t0'].set(value=2, min=1, max=3)\n",
    "\n",
    "signal = preparesignal(x,start_point)\n",
    "time = np.arange(0,signal.size)/dimensions.t_res\n",
    "\n",
    "\n",
    "result = model.fit(signal, params, x=time)\n",
    "\n",
    "\n"
   ]
  },
  {
   "cell_type": "code",
   "execution_count": 126,
   "metadata": {},
   "outputs": [
    {
     "name": "stdout",
     "output_type": "stream",
     "text": [
      "[[Model]]\n",
      "    Model(_eval, intependent_vars='['x']')\n",
      "[[Fit Statistics]]\n",
      "    # fitting method   = leastsq\n",
      "    # function evals   = 5\n",
      "    # data points      = 33\n",
      "    # variables        = 4\n",
      "    chi-square         = nan\n",
      "    reduced chi-square = nan\n",
      "    Akaike info crit   = nan\n",
      "    Bayesian info crit = nan\n",
      "[[Variables]]\n",
      "    ymax0:  0.50000000 (init = 0.5)\n",
      "    tmax0:  2.00000000 (init = 2)\n",
      "    a0:     1.00000000 (init = 1)\n",
      "    t0:     2.00000001 (init = 2)\n",
      "\n"
     ]
    },
    {
     "data": {
      "text/plain": [
       "[<matplotlib.lines.Line2D at 0x7f66d06f37b8>]"
      ]
     },
     "execution_count": 126,
     "metadata": {},
     "output_type": "execute_result"
    },
    {
     "data": {
      "image/png": "[encoded data removed]",
      "text/plain": [
       "<Figure size 1440x720 with 1 Axes>"
      ]
     },
     "metadata": {
      "needs_background": "light"
     },
     "output_type": "display_data"
    }
   ],
   "source": [
    "print(result.fit_report())\n",
    "plt.figure(figsize=[20,10])\n",
    "plt.plot(time, signal)\n",
    "plt.plot(time, result.best_fit)"
   ]
  }
 ],
 "metadata": {
  "kernelspec": {
   "display_name": "Python 3",
   "language": "python",
   "name": "python3"
  },
  "language_info": {
   "codemirror_mode": {
    "name": "ipython",
    "version": 3
   },
   "file_extension": ".py",
   "mimetype": "text/x-python",
   "name": "python",
   "nbconvert_exporter": "python",
   "pygments_lexer": "ipython3",
   "version": "3.6.6"
  }
 },
 "nbformat": 4,
 "nbformat_minor": 2
}
