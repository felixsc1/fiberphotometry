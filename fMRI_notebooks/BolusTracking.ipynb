{
 "cells": [
  {
   "cell_type": "markdown",
   "metadata": {},
   "source": [
    "# Bolus Tracking"
   ]
  },
  {
   "cell_type": "markdown",
   "metadata": {},
   "source": [
    "Use this notebook for single animals, otherwise run it in batch from **GLUT1_Analysis**"
   ]
  },
  {
   "cell_type": "code",
   "execution_count": 1,
   "metadata": {},
   "outputs": [],
   "source": [
    "import os\n",
    "import subprocess\n",
    "import numpy as np\n",
    "import pandas as pd\n",
    "import MRIhelperfunctions as h\n",
    "import MRIhelperfunctions\n",
    "from MRIhelperfunctions import Settings\n",
    "from imp import importlib\n",
    "import fnmatch\n",
    "import papermill as pm\n",
    "\n",
    "import nibabel as nib\n",
    "import matplotlib.pyplot as plt\n",
    "%matplotlib inline  \n",
    "\n",
    "from lmfit.models import ExpressionModel"
   ]
  },
  {
   "cell_type": "code",
   "execution_count": 144,
   "metadata": {},
   "outputs": [],
   "source": [
    "importlib.reload(h)\n",
    "import MRIhelperfunctions as h\n",
    "from MRIhelperfunctions import Settings"
   ]
  },
  {
   "cell_type": "code",
   "execution_count": 2,
   "metadata": {
    "tags": [
     "parameters"
    ]
   },
   "outputs": [
    {
     "data": {
      "text/html": [
       "<div>\n",
       "<style scoped>\n",
       "    .dataframe tbody tr th:only-of-type {\n",
       "        vertical-align: middle;\n",
       "    }\n",
       "\n",
       "    .dataframe tbody tr th {\n",
       "        vertical-align: top;\n",
       "    }\n",
       "\n",
       "    .dataframe thead th {\n",
       "        text-align: right;\n",
       "    }\n",
       "</style>\n",
       "<table border=\"1\" class=\"dataframe\">\n",
       "  <thead>\n",
       "    <tr style=\"text-align: right;\">\n",
       "      <th></th>\n",
       "      <th>glut1_male1</th>\n",
       "      <th>glut1_male2</th>\n",
       "      <th>glut1_f10wks1</th>\n",
       "      <th>glut1_f10wks2</th>\n",
       "      <th>glut1_f10wks3</th>\n",
       "      <th>glut1_f10wks4</th>\n",
       "      <th>glut1_f10wks5</th>\n",
       "      <th>glut1_f10wks6</th>\n",
       "      <th>glut1_f8wks1</th>\n",
       "      <th>glut1_f8wks2</th>\n",
       "      <th>glut1_f8wks3</th>\n",
       "      <th>glut1_f8wks4</th>\n",
       "      <th>glut1_f8wks5</th>\n",
       "      <th>glut1_f8wks6</th>\n",
       "      <th>glut1_f8wks7</th>\n",
       "      <th>glut1_f6wks2</th>\n",
       "      <th>glut1_f6wks1</th>\n",
       "    </tr>\n",
       "    <tr>\n",
       "      <th>scan</th>\n",
       "      <th></th>\n",
       "      <th></th>\n",
       "      <th></th>\n",
       "      <th></th>\n",
       "      <th></th>\n",
       "      <th></th>\n",
       "      <th></th>\n",
       "      <th></th>\n",
       "      <th></th>\n",
       "      <th></th>\n",
       "      <th></th>\n",
       "      <th></th>\n",
       "      <th></th>\n",
       "      <th></th>\n",
       "      <th></th>\n",
       "      <th></th>\n",
       "      <th></th>\n",
       "    </tr>\n",
       "  </thead>\n",
       "  <tbody>\n",
       "    <tr>\n",
       "      <th>Gd DCE</th>\n",
       "      <td>6</td>\n",
       "      <td>8</td>\n",
       "      <td>6</td>\n",
       "      <td>5</td>\n",
       "      <td>5</td>\n",
       "      <td>8</td>\n",
       "      <td>5</td>\n",
       "      <td>5</td>\n",
       "      <td>7</td>\n",
       "      <td>5</td>\n",
       "      <td>6</td>\n",
       "      <td>6</td>\n",
       "      <td>8</td>\n",
       "      <td>8</td>\n",
       "      <td>6</td>\n",
       "      <td>5</td>\n",
       "      <td>5</td>\n",
       "    </tr>\n",
       "    <tr>\n",
       "      <th>Angio pre</th>\n",
       "      <td>8</td>\n",
       "      <td>9</td>\n",
       "      <td>7</td>\n",
       "      <td>6</td>\n",
       "      <td>6</td>\n",
       "      <td>9</td>\n",
       "      <td>6</td>\n",
       "      <td>6</td>\n",
       "      <td>8</td>\n",
       "      <td>6</td>\n",
       "      <td>9</td>\n",
       "      <td>8</td>\n",
       "      <td>9</td>\n",
       "      <td>9</td>\n",
       "      <td>8</td>\n",
       "      <td>6</td>\n",
       "      <td>6</td>\n",
       "    </tr>\n",
       "    <tr>\n",
       "      <th>Angio post</th>\n",
       "      <td>12</td>\n",
       "      <td>12</td>\n",
       "      <td>11</td>\n",
       "      <td>9</td>\n",
       "      <td>9</td>\n",
       "      <td>13</td>\n",
       "      <td>10</td>\n",
       "      <td>11</td>\n",
       "      <td>12</td>\n",
       "      <td>11</td>\n",
       "      <td>12</td>\n",
       "      <td>12</td>\n",
       "      <td>16</td>\n",
       "      <td>13</td>\n",
       "      <td>12</td>\n",
       "      <td>9</td>\n",
       "      <td>10</td>\n",
       "    </tr>\n",
       "    <tr>\n",
       "      <th>Endorem DCE</th>\n",
       "      <td>11</td>\n",
       "      <td>11</td>\n",
       "      <td>10</td>\n",
       "      <td>8</td>\n",
       "      <td>8</td>\n",
       "      <td>12</td>\n",
       "      <td>9</td>\n",
       "      <td>10</td>\n",
       "      <td>10</td>\n",
       "      <td>10</td>\n",
       "      <td>11</td>\n",
       "      <td>11</td>\n",
       "      <td>15</td>\n",
       "      <td>12</td>\n",
       "      <td>11</td>\n",
       "      <td>8</td>\n",
       "      <td>9</td>\n",
       "    </tr>\n",
       "    <tr>\n",
       "      <th>Diamox</th>\n",
       "      <td>15</td>\n",
       "      <td>14</td>\n",
       "      <td>13</td>\n",
       "      <td>11</td>\n",
       "      <td>13</td>\n",
       "      <td>15</td>\n",
       "      <td>12</td>\n",
       "      <td>13</td>\n",
       "      <td>14</td>\n",
       "      <td>13</td>\n",
       "      <td>16</td>\n",
       "      <td>17</td>\n",
       "      <td>20</td>\n",
       "      <td>16</td>\n",
       "      <td>14</td>\n",
       "      <td>11</td>\n",
       "      <td>13</td>\n",
       "    </tr>\n",
       "    <tr>\n",
       "      <th>folder</th>\n",
       "      <td>/home/aic/BigHDD/MR_DATA/GLUT1/Rawdata/2018060...</td>\n",
       "      <td>/home/aic/BigHDD/MR_DATA/GLUT1/Rawdata/2018060...</td>\n",
       "      <td>/home/aic/BigHDD/MR_DATA/GLUT1/Rawdata/2018060...</td>\n",
       "      <td>/home/aic/BigHDD/MR_DATA/GLUT1/Rawdata/2018060...</td>\n",
       "      <td>/home/aic/BigHDD/MR_DATA/GLUT1/Rawdata/2018060...</td>\n",
       "      <td>/home/aic/BigHDD/MR_DATA/GLUT1/Rawdata/2018060...</td>\n",
       "      <td>/home/aic/BigHDD/MR_DATA/GLUT1/Rawdata/2018060...</td>\n",
       "      <td>/home/aic/BigHDD/MR_DATA/GLUT1/Rawdata/2018060...</td>\n",
       "      <td>/home/aic/BigHDD/MR_DATA/GLUT1/Rawdata/2018061...</td>\n",
       "      <td>/home/aic/BigHDD/MR_DATA/GLUT1/Rawdata/2018061...</td>\n",
       "      <td>/home/aic/BigHDD/MR_DATA/GLUT1/Rawdata/2018061...</td>\n",
       "      <td>/home/aic/BigHDD/MR_DATA/GLUT1/Rawdata/2018061...</td>\n",
       "      <td>/home/aic/BigHDD/MR_DATA/GLUT1/Rawdata/2018061...</td>\n",
       "      <td>/home/aic/BigHDD/MR_DATA/GLUT1/Rawdata/2018061...</td>\n",
       "      <td>/home/aic/BigHDD/MR_DATA/GLUT1/Rawdata/2018061...</td>\n",
       "      <td>/home/aic/BigHDD/MR_DATA/GLUT1/Rawdata/2018061...</td>\n",
       "      <td>/home/aic/BigHDD/MR_DATA/GLUT1/Rawdata/2018061...</td>\n",
       "    </tr>\n",
       "  </tbody>\n",
       "</table>\n",
       "</div>"
      ],
      "text/plain": [
       "                                                   glut1_male1  \\\n",
       "scan                                                             \n",
       "Gd DCE                                                       6   \n",
       "Angio pre                                                    8   \n",
       "Angio post                                                  12   \n",
       "Endorem DCE                                                 11   \n",
       "Diamox                                                      15   \n",
       "folder       /home/aic/BigHDD/MR_DATA/GLUT1/Rawdata/2018060...   \n",
       "\n",
       "                                                   glut1_male2  \\\n",
       "scan                                                             \n",
       "Gd DCE                                                       8   \n",
       "Angio pre                                                    9   \n",
       "Angio post                                                  12   \n",
       "Endorem DCE                                                 11   \n",
       "Diamox                                                      14   \n",
       "folder       /home/aic/BigHDD/MR_DATA/GLUT1/Rawdata/2018060...   \n",
       "\n",
       "                                                 glut1_f10wks1  \\\n",
       "scan                                                             \n",
       "Gd DCE                                                       6   \n",
       "Angio pre                                                    7   \n",
       "Angio post                                                  11   \n",
       "Endorem DCE                                                 10   \n",
       "Diamox                                                      13   \n",
       "folder       /home/aic/BigHDD/MR_DATA/GLUT1/Rawdata/2018060...   \n",
       "\n",
       "                                                 glut1_f10wks2  \\\n",
       "scan                                                             \n",
       "Gd DCE                                                       5   \n",
       "Angio pre                                                    6   \n",
       "Angio post                                                   9   \n",
       "Endorem DCE                                                  8   \n",
       "Diamox                                                      11   \n",
       "folder       /home/aic/BigHDD/MR_DATA/GLUT1/Rawdata/2018060...   \n",
       "\n",
       "                                                 glut1_f10wks3  \\\n",
       "scan                                                             \n",
       "Gd DCE                                                       5   \n",
       "Angio pre                                                    6   \n",
       "Angio post                                                   9   \n",
       "Endorem DCE                                                  8   \n",
       "Diamox                                                      13   \n",
       "folder       /home/aic/BigHDD/MR_DATA/GLUT1/Rawdata/2018060...   \n",
       "\n",
       "                                                 glut1_f10wks4  \\\n",
       "scan                                                             \n",
       "Gd DCE                                                       8   \n",
       "Angio pre                                                    9   \n",
       "Angio post                                                  13   \n",
       "Endorem DCE                                                 12   \n",
       "Diamox                                                      15   \n",
       "folder       /home/aic/BigHDD/MR_DATA/GLUT1/Rawdata/2018060...   \n",
       "\n",
       "                                                 glut1_f10wks5  \\\n",
       "scan                                                             \n",
       "Gd DCE                                                       5   \n",
       "Angio pre                                                    6   \n",
       "Angio post                                                  10   \n",
       "Endorem DCE                                                  9   \n",
       "Diamox                                                      12   \n",
       "folder       /home/aic/BigHDD/MR_DATA/GLUT1/Rawdata/2018060...   \n",
       "\n",
       "                                                 glut1_f10wks6  \\\n",
       "scan                                                             \n",
       "Gd DCE                                                       5   \n",
       "Angio pre                                                    6   \n",
       "Angio post                                                  11   \n",
       "Endorem DCE                                                 10   \n",
       "Diamox                                                      13   \n",
       "folder       /home/aic/BigHDD/MR_DATA/GLUT1/Rawdata/2018060...   \n",
       "\n",
       "                                                  glut1_f8wks1  \\\n",
       "scan                                                             \n",
       "Gd DCE                                                       7   \n",
       "Angio pre                                                    8   \n",
       "Angio post                                                  12   \n",
       "Endorem DCE                                                 10   \n",
       "Diamox                                                      14   \n",
       "folder       /home/aic/BigHDD/MR_DATA/GLUT1/Rawdata/2018061...   \n",
       "\n",
       "                                                  glut1_f8wks2  \\\n",
       "scan                                                             \n",
       "Gd DCE                                                       5   \n",
       "Angio pre                                                    6   \n",
       "Angio post                                                  11   \n",
       "Endorem DCE                                                 10   \n",
       "Diamox                                                      13   \n",
       "folder       /home/aic/BigHDD/MR_DATA/GLUT1/Rawdata/2018061...   \n",
       "\n",
       "                                                  glut1_f8wks3  \\\n",
       "scan                                                             \n",
       "Gd DCE                                                       6   \n",
       "Angio pre                                                    9   \n",
       "Angio post                                                  12   \n",
       "Endorem DCE                                                 11   \n",
       "Diamox                                                      16   \n",
       "folder       /home/aic/BigHDD/MR_DATA/GLUT1/Rawdata/2018061...   \n",
       "\n",
       "                                                  glut1_f8wks4  \\\n",
       "scan                                                             \n",
       "Gd DCE                                                       6   \n",
       "Angio pre                                                    8   \n",
       "Angio post                                                  12   \n",
       "Endorem DCE                                                 11   \n",
       "Diamox                                                      17   \n",
       "folder       /home/aic/BigHDD/MR_DATA/GLUT1/Rawdata/2018061...   \n",
       "\n",
       "                                                  glut1_f8wks5  \\\n",
       "scan                                                             \n",
       "Gd DCE                                                       8   \n",
       "Angio pre                                                    9   \n",
       "Angio post                                                  16   \n",
       "Endorem DCE                                                 15   \n",
       "Diamox                                                      20   \n",
       "folder       /home/aic/BigHDD/MR_DATA/GLUT1/Rawdata/2018061...   \n",
       "\n",
       "                                                  glut1_f8wks6  \\\n",
       "scan                                                             \n",
       "Gd DCE                                                       8   \n",
       "Angio pre                                                    9   \n",
       "Angio post                                                  13   \n",
       "Endorem DCE                                                 12   \n",
       "Diamox                                                      16   \n",
       "folder       /home/aic/BigHDD/MR_DATA/GLUT1/Rawdata/2018061...   \n",
       "\n",
       "                                                  glut1_f8wks7  \\\n",
       "scan                                                             \n",
       "Gd DCE                                                       6   \n",
       "Angio pre                                                    8   \n",
       "Angio post                                                  12   \n",
       "Endorem DCE                                                 11   \n",
       "Diamox                                                      14   \n",
       "folder       /home/aic/BigHDD/MR_DATA/GLUT1/Rawdata/2018061...   \n",
       "\n",
       "                                                  glut1_f6wks2  \\\n",
       "scan                                                             \n",
       "Gd DCE                                                       5   \n",
       "Angio pre                                                    6   \n",
       "Angio post                                                   9   \n",
       "Endorem DCE                                                  8   \n",
       "Diamox                                                      11   \n",
       "folder       /home/aic/BigHDD/MR_DATA/GLUT1/Rawdata/2018061...   \n",
       "\n",
       "                                                  glut1_f6wks1  \n",
       "scan                                                            \n",
       "Gd DCE                                                       5  \n",
       "Angio pre                                                    6  \n",
       "Angio post                                                  10  \n",
       "Endorem DCE                                                  9  \n",
       "Diamox                                                      13  \n",
       "folder       /home/aic/BigHDD/MR_DATA/GLUT1/Rawdata/2018061...  "
      ]
     },
     "execution_count": 2,
     "metadata": {},
     "output_type": "execute_result"
    }
   ],
   "source": [
    "# Default Parameters (to run script independently)\n",
    "folders = {}\n",
    "folders['raw'] = '/home/aic/BigHDD/MR_DATA/GLUT1/Rawdata'\n",
    "folders['main'] = os.path.dirname(folders['raw'])\n",
    "folders['analysis'] = '/home/aic/BigHDD/MR_DATA/GLUT1/Analysis'\n",
    "folders['animal'] = '/home/aic/BigHDD/MR_DATA/GLUT1/Rawdata/20180604_101508_Glut1_2_2'\n",
    "folders['excel'] = 'Animal_Scan_IDs.xlsx'\n",
    "\n",
    "\n",
    "animal = 'glut1_male1'\n",
    "\n",
    "\n",
    "info = h.getinfo(folders)\n",
    "info"
   ]
  },
  {
   "cell_type": "code",
   "execution_count": 3,
   "metadata": {},
   "outputs": [],
   "source": [
    "# additional Script specific parameters\n",
    "\n",
    "info = pd.read_json(info)  #<-- dont run this line in single animal mode\n",
    "\n",
    "folders['template'] = os.path.join(folders['main'], 'Templates', 'BolusTracking.nii' ) # from animal glut1_male1\n",
    "folders['in'] = os.path.join(folders['analysis'], animal)\n",
    "folders['out'] = os.path.join(folders['in'], 'BolusTracking')\n",
    "\n",
    "if not os.path.exists(folders['out']):\n",
    "    os.makedirs(folders['out'] )"
   ]
  },
  {
   "cell_type": "code",
   "execution_count": 4,
   "metadata": {},
   "outputs": [
    {
     "name": "stdout",
     "output_type": "stream",
     "text": [
      "check if these dimensions make sense:  pre: (80, 35, 10, 1200)\n"
     ]
    }
   ],
   "source": [
    "scans={}\n",
    "scans['number'] = int(info.loc['Endorem DCE', animal])\n",
    "\n",
    "scans['raw'] = os.path.join(folders['in'], f\"X{scans['number']}P1.nii\")\n",
    "\n",
    "\n",
    "raw = nib.load(scans['raw'])\n",
    "print(f'check if these dimensions make sense:  pre: {raw.shape}')"
   ]
  },
  {
   "cell_type": "markdown",
   "metadata": {},
   "source": [
    "## Coregistration \n",
    "No motion correction"
   ]
  },
  {
   "cell_type": "code",
   "execution_count": 5,
   "metadata": {},
   "outputs": [
    {
     "name": "stdout",
     "output_type": "stream",
     "text": [
      "3dTcat -prefix /home/aic/BigHDD/MR_DATA/GLUT1/Analysis/glut1_male1/BolusTracking/single_timepoint.nii /home/aic/BigHDD/MR_DATA/GLUT1/Analysis/glut1_male1/X11P1.nii'[0]'\n",
      "3dTcat -prefix /home/aic/BigHDD/MR_DATA/GLUT1/Analysis/glut1_male1/BolusTracking/11_cut.nii /home/aic/BigHDD/MR_DATA/GLUT1/Analysis/glut1_male1/X11P1.nii'[10..$]'\n",
      "3dAllineate -base /home/aic/BigHDD/MR_DATA/GLUT1/Templates/BolusTracking.nii -source /home/aic/BigHDD/MR_DATA/GLUT1/Analysis/glut1_male1/BolusTracking/single_timepoint.nii -prefix /home/aic/BigHDD/MR_DATA/GLUT1/Analysis/glut1_male1/BolusTracking/A_coreg.nii -cost ls -zclip -interp quintic -final wsinc5 -twopass -twoblur 2 -fineblur 0.5 -nmatch 80% -conv 0.01 -1Dparam_save /home/aic/BigHDD/MR_DATA/GLUT1/Analysis/glut1_male1/BolusTracking/1dparams.1D\n",
      "3dAllineate -1Dparam_apply /home/aic/BigHDD/MR_DATA/GLUT1/Analysis/glut1_male1/BolusTracking/1dparams.1D -source /home/aic/BigHDD/MR_DATA/GLUT1/Analysis/glut1_male1/BolusTracking/11_cut.nii -prefix /home/aic/BigHDD/MR_DATA/GLUT1/Analysis/glut1_male1/BolusTracking/B_coreg.nii -cost ls -zclip -interp quintic -final wsinc5 -twopass -twoblur 2 -fineblur 0.5 -nmatch 80% -conv 0.01 -master /home/aic/BigHDD/MR_DATA/GLUT1/Templates/BolusTracking.nii\n"
     ]
    }
   ],
   "source": [
    "# cut out a single repetition\n",
    "scans['single'] = f\"{folders['out']}/single_timepoint.nii\"\n",
    "h.runAFNI(f\"3dTcat -prefix {scans['single']} {scans['raw']}'[0]'\")\n",
    "\n",
    "# cut off first 10 points\n",
    "scans['cut'] = os.path.join(folders['out'], f\"{scans['number']}_cut.nii\")\n",
    "h.runAFNI(f\"3dTcat -prefix {scans['cut']} {scans['raw']}'[10..$]'\")\n",
    "\n",
    "# coregistration\n",
    "scans['single_coreg'], scans['coreg'] = h.simple_coreg(folders['template'], scans['single'], scans['cut'], folders['out'])"
   ]
  },
  {
   "cell_type": "markdown",
   "metadata": {},
   "source": [
    "## Data Preparations "
   ]
  },
  {
   "cell_type": "code",
   "execution_count": 7,
   "metadata": {},
   "outputs": [
    {
     "name": "stdout",
     "output_type": "stream",
     "text": [
      "<class 'nibabel.nifti1.Nifti1Header'> object, endian='<'\n",
      "sizeof_hdr      : 348\n",
      "data_type       : b''\n",
      "db_name         : b''\n",
      "extents         : 0\n",
      "session_error   : 0\n",
      "regular         : b'r'\n",
      "dim_info        : 48\n",
      "dim             : [   4   80   35   10 1190    1    1    1]\n",
      "intent_p1       : 0.0\n",
      "intent_p2       : 0.0\n",
      "intent_p3       : 0.0\n",
      "intent_code     : none\n",
      "datatype        : float32\n",
      "bitpix          : 32\n",
      "slice_start     : 0\n",
      "pixdim          : [1.         0.2        0.2        0.50591666 0.4        0.\n",
      " 0.         0.        ]\n",
      "vox_offset      : 0.0\n",
      "scl_slope       : nan\n",
      "scl_inter       : nan\n",
      "slice_end       : 9\n",
      "slice_code      : unknown\n",
      "xyzt_units      : 10\n",
      "cal_max         : 0.0\n",
      "cal_min         : 0.0\n",
      "slice_duration  : 0.0\n",
      "toffset         : 0.0\n",
      "glmax           : 0\n",
      "glmin           : 0\n",
      "descrip         : b''\n",
      "aux_file        : b''\n",
      "qform_code      : scanner\n",
      "sform_code      : scanner\n",
      "quatern_b       : -0.70710677\n",
      "quatern_c       : 0.0\n",
      "quatern_d       : 0.0\n",
      "qoffset_x       : -8.455814\n",
      "qoffset_y       : -2.3159401\n",
      "qoffset_z       : 5.6112275\n",
      "srow_x          : [ 0.2      -0.       -0.       -8.455814]\n",
      "srow_y          : [-0.         -0.          0.50591666 -2.3159401 ]\n",
      "srow_z          : [ 0.        -0.2        0.         5.6112275]\n",
      "intent_name     : b''\n",
      "magic           : b'n+1'\n"
     ]
    }
   ],
   "source": [
    "# scans['coreg'] = '/home/aic/BigHDD/MR_DATA/GLUT1/Analysis/glut1_male1/BolusTracking/B_coreg.nii'\n",
    "\n",
    "\n",
    "img = nib.load(scans['coreg'])\n",
    "data = img.get_fdata()\n",
    "hdr = img.header\n",
    "print(hdr)\n",
    "\n",
    "\n",
    "dimensions = Settings()\n",
    "dimensions.t_res = hdr['pixdim'][4]\n",
    "\n",
    "dimensions.x = hdr['dim'][1]\n",
    "dimensions.y = hdr['dim'][2]\n",
    "dimensions.z = hdr['dim'][3]\n",
    "\n",
    "dimensions.affine=np.zeros((4,4))\n",
    "dimensions.affine[0,:] = hdr['srow_x']\n",
    "dimensions.affine[1,:] = hdr['srow_y']\n",
    "dimensions.affine[2,:] = hdr['srow_z']\n",
    "\n",
    "data_reshaped = data.reshape(-1, data.shape[-1]) # we keep the 1190 time points, but put flatten all voxels in 1D."
   ]
  },
  {
   "cell_type": "code",
   "execution_count": 7,
   "metadata": {},
   "outputs": [
    {
     "data": {
      "image/png": "[encoded data removed]",
      "text/plain": [
       "<Figure size 432x288 with 1 Axes>"
      ]
     },
     "metadata": {
      "needs_background": "light"
     },
     "output_type": "display_data"
    }
   ],
   "source": [
    "data_averaged = np.mean(data,axis=3)  # average time points\n",
    "\n",
    "threshold = 2\n",
    "\n",
    "plt.hist(data_averaged.flatten(), bins=80, color='c', range=(threshold, np.max(data)))\n",
    "plt.show()"
   ]
  },
  {
   "cell_type": "code",
   "execution_count": 13,
   "metadata": {},
   "outputs": [
    {
     "data": {
      "image/png": "[encoded data removed]",
      "text/plain": [
       "<Figure size 1440x720 with 1 Axes>"
      ]
     },
     "metadata": {
      "needs_background": "light"
     },
     "output_type": "display_data"
    }
   ],
   "source": [
    "threshold=7\n",
    "\n",
    "for voxel in data_reshaped:\n",
    "        if np.mean(voxel) > threshold:\n",
    "            x=voxel\n",
    "            \n",
    "plt.figure(figsize=(20,10))\n",
    "plt.plot(x)\n",
    "# plt.plot(y,'o')\n",
    "# plt.plot(x[0:],'o')\n",
    "plt.show()"
   ]
  },
  {
   "cell_type": "markdown",
   "metadata": {},
   "source": [
    "## Defining important functions"
   ]
  },
  {
   "cell_type": "raw",
   "metadata": {},
   "source": [
    "# old code, probably obsolete:\n",
    "\n",
    "def preparesignal(x):\n",
    "    min_point = np.argmin(x)\n",
    "    \n",
    "    # sanity check: if signal is just noise, minimum could be anywhere and ruin fit\n",
    "    # ensure that minimum is within reasonable range, otherwise just return an empty array\n",
    "    if ( min_point < 10 or min_point > (x.size - 100) ): \n",
    "        return np.zeros_like(x), np.zeros_like(x)\n",
    "    \n",
    "    start_point = min_point - 5\n",
    "    \n",
    "    # end_point in words: first point after the absolute minimum that reaches 90% of post-injection baseline (first 100 points) level\n",
    "    end_point = int(np.argwhere(x[min_point:] >= 0.9 * np.mean(x[min_point+8:min_point+100]))[0]) + min_point\n",
    "    \n",
    "    bsl = np.mean(x[:start_point-2])\n",
    "    x[end_point+1:] = bsl\n",
    "    x = x-bsl\n",
    "#     x = x/np.max(np.abs(x))\n",
    "    x[end_point:end_point+5]=0\n",
    "\n",
    "    weights=np.ones_like(x)\n",
    "    weights[end_point:end_point+5]=0\n",
    "\n",
    "    x = -x[start_point-5:end_point+15]\n",
    "    weights = weights[start_point-5:end_point+15]\n",
    "    \n",
    "    return x, weights"
   ]
  },
  {
   "cell_type": "code",
   "execution_count": 64,
   "metadata": {},
   "outputs": [],
   "source": [
    "# V2: convert to concentration\n",
    "\n",
    "def preparesignal(raw_input):\n",
    "        \n",
    "    min_point = np.argmin(raw_input)\n",
    "    \n",
    "    # sanity check: if signal is just noise, minimum could be anywhere and ruin fit\n",
    "    # ensure that minimum is within reasonable range, otherwise just return an empty array\n",
    "    if ( min_point < 10 or min_point > (raw_input.size - 100) ): \n",
    "        return np.zeros_like(raw_input), np.zeros_like(raw_input), 0\n",
    "    \n",
    "    start_point = min_point - 5    \n",
    "    \n",
    "    # end_point in words: first point after the absolute minimum that reaches 90% of post-injection baseline (first 100 points) level\n",
    "    end_point = int(np.argwhere(raw_input[min_point:] >= 0.9 * np.mean(raw_input[min_point+8:min_point+100]))[0]) + min_point\n",
    "\n",
    "    # continue with concentration  - K * ln( S(t) / S(0) )  (we ignore K)\n",
    "    c = -np.log(raw_input / np.mean(raw_input[:start_point-2]))\n",
    "    CBV_steady = np.mean(c[end_point+2:end_point+200]) / np.mean(c[:start_point-2])\n",
    "    # another sanity check, only in noise voxels can be negative values\n",
    "    if CBV_steady <= 0: \n",
    "        return np.zeros_like(raw_input), np.zeros_like(raw_input), 0\n",
    "    \n",
    "    bsl = np.mean(c[:start_point-2])\n",
    "    c[end_point+1:] = bsl\n",
    "#     raw_input = raw_input-bsl\n",
    "#     x = x/np.max(np.abs(x))\n",
    "#     c[end_point:end_point+5]=0\n",
    "\n",
    "    weights=np.ones_like(c)\n",
    "    weights[end_point:end_point+5]=0\n",
    "\n",
    "    output = c[start_point-5:end_point+15]\n",
    "    weights = weights[start_point-5:end_point+15]\n",
    "    \n",
    "    return output, weights, CBV_steady"
   ]
  },
  {
   "cell_type": "code",
   "execution_count": 47,
   "metadata": {},
   "outputs": [],
   "source": [
    "script = \"\"\"\n",
    "def gammavar(ymax, tmax, a, x, t0):\n",
    "    x_input = x * (x > t0) + (t0 + tmax) * (x <= t0)\n",
    "    return (exp(log(ymax)+a*(1+log((x_input-t0)/tmax)-(x_input-t0)/tmax))) * (x > t0)\n",
    "\"\"\"\n",
    "\n",
    "\n",
    "def run_fit(x):\n",
    "    \"\"\"\n",
    "    Does a couple of things:\n",
    "    1. prepare the gamma variate fit model, define starting values and boundaries.\n",
    "    2. runs the function preparesignal() that (among other processing) cuts out the area around the bolus to speed up fitting.\n",
    "    3. runs the fit and calculates the hemodynamic parameters from it.\n",
    "    \"\"\"\n",
    "    \n",
    "    model = ExpressionModel(f'gammavar(ymax0, tmax0, a0, x, t0)',\n",
    "                    init_script=script,\n",
    "                    intependent_vars=['x'], nan_policy='propagate')\n",
    "\n",
    "    params = model.make_params()\n",
    "    params['ymax0'].set(value=0.5, min=0, max=20)\n",
    "    params['tmax0'].set(value=2, min=1, max=10)\n",
    "    params['a0'].set(2, min=0.1, max=5)\n",
    "    params['t0'].set(value=2.1, min=1, max=4)\n",
    "    \n",
    "    curves ={}\n",
    "    curves['signal'], curves['weights'], cbv_steady = preparesignal(x)\n",
    "    curves['time'] = np.arange(0,curves['signal'].size)*dimensions.t_res\n",
    "\n",
    "    if np.sum(curves['signal']) > 0:\n",
    "        curves['result'] = model.fit(curves['signal'], params, x=curves['time'], weights=curves['weights'])\n",
    "        integral = np.sum(curves['result'].best_fit)\n",
    "        maximum  = np.max(curves['result'].best_fit)\n",
    "    else:\n",
    "        integral = 0\n",
    "        maximum = 0\n",
    "   \n",
    "    return integral, maximum, curves, cbv_steady\n",
    "\n"
   ]
  },
  {
   "cell_type": "code",
   "execution_count": 45,
   "metadata": {},
   "outputs": [
    {
     "data": {
      "text/plain": [
       "[<matplotlib.lines.Line2D at 0x7f388d71f550>]"
      ]
     },
     "execution_count": 45,
     "metadata": {},
     "output_type": "execute_result"
    },
    {
     "data": {
      "image/png": "[encoded data removed]",
      "text/plain": [
       "<Figure size 432x288 with 1 Axes>"
      ]
     },
     "metadata": {
      "needs_background": "light"
     },
     "output_type": "display_data"
    }
   ],
   "source": [
    "# Debugging 1: turn raw signal into corrected concentration time-curve\n",
    "\n",
    "mrslice=80*35*5\n",
    "voxelonslice = 1593\n",
    "x = data_reshaped[mrslice+voxelonslice,:]\n",
    "\n",
    "y, weights, CBV_steady = preparesignal(x)\n",
    "\n",
    "plt.plot(x)  # raw signal of that voxel\n",
    "# plt.plot(y)   # concentration"
   ]
  },
  {
   "cell_type": "code",
   "execution_count": 72,
   "metadata": {},
   "outputs": [
    {
     "name": "stdout",
     "output_type": "stream",
     "text": [
      "CBV (bolus): 13.73975933224476\n",
      "CBV (steady state): 1290.9892615195604\n",
      "MTT: 6.014598289536596\n",
      "CBF: 2.2844018288216157\n",
      "[[Model]]\n",
      "    Model(_eval, intependent_vars='['x']')\n",
      "[[Fit Statistics]]\n",
      "    # fitting method   = leastsq\n",
      "    # function evals   = 56\n",
      "    # data points      = 29\n",
      "    # variables        = 4\n",
      "    chi-square         = 0.20397441\n",
      "    reduced chi-square = 0.00815898\n",
      "    Akaike info crit   = -135.754640\n",
      "    Bayesian info crit = -130.285457\n",
      "[[Variables]]\n",
      "    ymax0:  2.28441925 +/- 0.05873732 (2.57%) (init = 0.5)\n",
      "    tmax0:  1.73494920 +/- 0.27193857 (15.67%) (init = 2)\n",
      "    a0:     3.42896678 +/- 1.19984808 (34.99%) (init = 2)\n",
      "    t0:     2.26138944 +/- 0.24109918 (10.66%) (init = 2.1)\n",
      "[[Correlations]] (unreported correlations are < 0.100)\n",
      "    C(tmax0, t0)    = -0.994\n",
      "    C(a0, t0)       = -0.974\n",
      "    C(tmax0, a0)    =  0.970\n",
      "    C(ymax0, a0)    =  0.303\n",
      "    C(ymax0, t0)    = -0.176\n",
      "    C(ymax0, tmax0) =  0.159\n",
      "\n"
     ]
    },
    {
     "data": {
      "text/plain": [
       "[<matplotlib.lines.Line2D at 0x7f38654fc4e0>]"
      ]
     },
     "execution_count": 72,
     "metadata": {},
     "output_type": "execute_result"
    },
    {
     "data": {
      "image/png": "[encoded data removed]",
      "text/plain": [
       "<Figure size 1440x720 with 1 Axes>"
      ]
     },
     "metadata": {
      "needs_background": "light"
     },
     "output_type": "display_data"
    }
   ],
   "source": [
    "# Debugging 2: running fit and showing results for a single voxel\n",
    "\n",
    "mrslice=80*35*6\n",
    "voxelonslice = 2379\n",
    "\n",
    "integral, maximum, curves, cbv_steady = run_fit(data_reshaped[mrslice+voxelonslice,:])\n",
    "\n",
    "\n",
    "CBV_val = integral\n",
    "MTT_val = CBV_val / maximum\n",
    "CBF_val = CBV_val / MTT_val\n",
    "print(f'CBV (bolus): {CBV_val}')\n",
    "print(f'CBV (steady state): {cbv_steady}')\n",
    "print(f'MTT: {MTT_val}')\n",
    "print(f'CBF: {CBF_val}')\n",
    "print(curves['result'].fit_report())\n",
    "plt.figure(figsize=[20,10])\n",
    "plt.plot(curves['time'], curves['signal'])\n",
    "plt.plot(curves['time'], curves['result'].best_fit)\n",
    "plt.plot(curves['time'], curves['weights'],'x')"
   ]
  },
  {
   "cell_type": "markdown",
   "metadata": {},
   "source": [
    "## Run the fit over the whole brain\n",
    "Might take around **30 mins!**"
   ]
  },
  {
   "cell_type": "code",
   "execution_count": 74,
   "metadata": {
    "scrolled": true
   },
   "outputs": [
    {
     "name": "stdout",
     "output_type": "stream",
     "text": [
      "0.00 % done\n",
      "1.07 % done\n",
      "2.14 % done\n",
      "3.21 % done\n",
      "4.29 % done\n",
      "5.36 % done\n",
      "6.43 % done\n",
      "7.50 % done\n",
      "8.57 % done\n",
      "9.64 % done\n",
      "10.71 % done\n",
      "11.79 % done\n",
      "12.86 % done\n",
      "13.93 % done\n",
      "15.00 % done\n",
      "16.07 % done\n",
      "17.14 % done\n",
      "18.21 % done\n",
      "19.29 % done\n",
      "20.36 % done\n",
      "21.43 % done\n",
      "22.50 % done\n",
      "23.57 % done\n",
      "24.64 % done\n",
      "25.71 % done\n",
      "26.79 % done\n",
      "27.86 % done\n",
      "28.93 % done\n",
      "30.00 % done\n",
      "31.07 % done\n",
      "32.14 % done\n",
      "33.21 % done\n",
      "34.29 % done\n",
      "35.36 % done\n",
      "36.43 % done\n",
      "37.50 % done\n",
      "38.57 % done\n",
      "39.64 % done\n",
      "40.71 % done\n",
      "41.79 % done\n",
      "42.86 % done\n",
      "43.93 % done\n",
      "45.00 % done\n",
      "46.07 % done\n",
      "47.14 % done\n",
      "48.21 % done\n",
      "49.29 % done\n",
      "50.36 % done\n",
      "51.43 % done\n",
      "52.50 % done\n",
      "53.57 % done\n",
      "54.64 % done\n",
      "55.71 % done\n",
      "56.79 % done\n",
      "57.86 % done\n",
      "58.93 % done\n",
      "60.00 % done\n",
      "61.07 % done\n",
      "62.14 % done\n",
      "63.21 % done\n",
      "64.29 % done\n",
      "65.36 % done\n",
      "66.43 % done\n",
      "67.50 % done\n",
      "68.57 % done\n",
      "69.64 % done\n",
      "70.71 % done\n",
      "71.79 % done\n",
      "72.86 % done\n",
      "73.93 % done\n",
      "75.00 % done\n",
      "76.07 % done\n",
      "77.14 % done\n",
      "78.21 % done\n",
      "79.29 % done\n",
      "80.36 % done\n",
      "81.43 % done\n",
      "82.50 % done\n",
      "83.57 % done\n",
      "84.64 % done\n",
      "85.71 % done\n",
      "86.79 % done\n",
      "87.86 % done\n",
      "88.93 % done\n",
      "90.00 % done\n",
      "91.07 % done\n",
      "92.14 % done\n",
      "93.21 % done\n",
      "94.29 % done\n",
      "95.36 % done\n",
      "96.43 % done\n",
      "97.50 % done\n",
      "98.57 % done\n",
      "99.64 % done\n"
     ]
    }
   ],
   "source": [
    "n_voxel = data_reshaped.shape[0]\n",
    "integral = np.zeros(n_voxel)\n",
    "maximum = np.zeros(n_voxel)\n",
    "cbv_steady = np.zeros(n_voxel)\n",
    "\n",
    "for voxel in range(n_voxel):\n",
    "#     result, CBV_map[voxel], MTT_map[voxel], CBF_map[voxel] = run_fit(data_reshaped[voxel,:])\n",
    "    integral[voxel], maximum[voxel], curves, cbv_steady[voxel] = run_fit(data_reshaped[voxel,:])\n",
    "    if voxel % 300 == 0:\n",
    "        percent = (voxel+0.01) / n_voxel * 100\n",
    "        print(f\"{percent:.2f} % done\")"
   ]
  },
  {
   "cell_type": "markdown",
   "metadata": {},
   "source": [
    "## Store the results"
   ]
  },
  {
   "cell_type": "code",
   "execution_count": 76,
   "metadata": {},
   "outputs": [
    {
     "name": "stderr",
     "output_type": "stream",
     "text": [
      "/home/aic/anaconda3/lib/python3.6/site-packages/ipykernel_launcher.py:5: RuntimeWarning: invalid value encountered in true_divide\n",
      "  \"\"\"\n"
     ]
    },
    {
     "data": {
      "application/papermill.record+json": {
       "CBV_steady": "/home/aic/BigHDD/MR_DATA/GLUT1/Analysis/glut1_male1/BolusTracking/CBV_steadystate_map_glut1_male1.nii"
      }
     },
     "metadata": {},
     "output_type": "display_data"
    },
    {
     "data": {
      "application/papermill.record+json": {
       "CBV_bolus": "/home/aic/BigHDD/MR_DATA/GLUT1/Analysis/glut1_male1/BolusTracking/CBV_bolus_map_glut1_male1.nii"
      }
     },
     "metadata": {},
     "output_type": "display_data"
    },
    {
     "data": {
      "application/papermill.record+json": {
       "MTT": "/home/aic/BigHDD/MR_DATA/GLUT1/Analysis/glut1_male1/BolusTracking/MTT_map_glut1_male1.nii"
      }
     },
     "metadata": {},
     "output_type": "display_data"
    },
    {
     "data": {
      "application/papermill.record+json": {
       "CBF": "/home/aic/BigHDD/MR_DATA/GLUT1/Analysis/glut1_male1/BolusTracking/CBF_map_glut1_male1.nii"
      }
     },
     "metadata": {},
     "output_type": "display_data"
    }
   ],
   "source": [
    "# calculate parameter maps from fit\n",
    "\n",
    "# for formulas see: https://onlinelibrary.wiley.com/doi/full/10.1002/1522-2586%28200009%2912%3A3%3C400%3A%3AAID-JMRI5%3E3.0.CO%3B2-C\n",
    "CBV_map = integral\n",
    "MTT_map = CBV_map / maximum\n",
    "CBF_map = CBV_map / MTT_map\n",
    "\n",
    "# save Nifti Files\n",
    "scans={}\n",
    "scans['CBV_steady'] = h.save_nifti(cbv_steady, dimensions, folders, animal, 'CBV_steadystate_map')\n",
    "scans['CBV_bolus'] = h.save_nifti(CBV_map, dimensions, folders, animal, 'CBV_bolus_map')\n",
    "scans['MTT'] = h.save_nifti(MTT_map, dimensions, folders, animal, 'MTT_map')\n",
    "scans['CBF'] = h.save_nifti(CBF_map, dimensions, folders, animal, 'CBF_map')\n",
    "\n",
    "# save directories papermill for the main notebook:\n",
    "pm.record(\"CBV_steady\", scans['CBV_steady'])\n",
    "pm.record(\"CBV_bolus\", scans['CBV_bolus'])\n",
    "pm.record(\"MTT\", scans['MTT'])\n",
    "pm.record(\"CBF\", scans['CBF'])"
   ]
  }
 ],
 "metadata": {
  "kernelspec": {
   "display_name": "Python 3",
   "language": "python",
   "name": "python3"
  },
  "language_info": {
   "codemirror_mode": {
    "name": "ipython",
    "version": 3
   },
   "file_extension": ".py",
   "mimetype": "text/x-python",
   "name": "python",
   "nbconvert_exporter": "python",
   "pygments_lexer": "ipython3",
   "version": "3.6.6"
  }
 },
 "nbformat": 4,
 "nbformat_minor": 2
}
