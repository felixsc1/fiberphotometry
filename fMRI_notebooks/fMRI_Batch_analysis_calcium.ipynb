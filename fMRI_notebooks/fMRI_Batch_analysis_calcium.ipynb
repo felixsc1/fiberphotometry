{
 "cells": [
  {
   "cell_type": "code",
   "execution_count": 1,
   "metadata": {},
   "outputs": [],
   "source": [
    "#modified: july 24"
   ]
  },
  {
   "cell_type": "code",
   "execution_count": 2,
   "metadata": {},
   "outputs": [],
   "source": [
    "import glob\n",
    "import os, sys, shutil\n",
    "from nbrun import run_notebook #downloaded from https://github.com/tritemio/nbrun/blob/master/example-master-notebook.ipynb\n",
    "import fnmatch\n",
    "import numpy as np"
   ]
  },
  {
   "cell_type": "code",
   "execution_count": 3,
   "metadata": {},
   "outputs": [],
   "source": [
    "nb_name = 'fMRI_Calcium_analysis.ipynb'"
   ]
  },
  {
   "cell_type": "code",
   "execution_count": 4,
   "metadata": {},
   "outputs": [],
   "source": [
    "# directory with all scans:\n",
    "file_path = '/media/sf_MRIDATA/Calciumanalysis/GRCaMP/1Hz'\n",
    "\n",
    "# the single-subject script must be modified to accept the variables\n",
    "# 'file_path' and 'ID' as input\n",
    "\n",
    "\n",
    "# Group results folder:\n",
    "groupstatsfolder = os.path.join(file_path,'groupstats')\n",
    "\n",
    "os.mkdir(groupstatsfolder)"
   ]
  },
  {
   "cell_type": "code",
   "execution_count": 5,
   "metadata": {},
   "outputs": [
    {
     "name": "stdout",
     "output_type": "stream",
     "text": [
      "6756_E6\n",
      "running analysis for... /media/sf_MRIDATA/Calciumanalysis/GRCaMP/1Hz/6756_E6/6756_E6+orig.BRIK\n"
     ]
    },
    {
     "data": {
      "text/html": [
       "<a href='fMRI_Calcium_analysis.ipynb' target='_blank'>fMRI_Calcium_analysis.ipynb</a><br>"
      ],
      "text/plain": [
       "/media/sf_GithubRepositories/Calcium/fMRI_notebooks/fMRI_Calcium_analysis.ipynb"
      ]
     },
     "metadata": {},
     "output_type": "display_data"
    },
    {
     "name": "stdout",
     "output_type": "stream",
     "text": [
      "6757_E6\n",
      "running analysis for... /media/sf_MRIDATA/Calciumanalysis/GRCaMP/1Hz/6757_E6/6757_E6+orig.BRIK\n"
     ]
    },
    {
     "data": {
      "text/html": [
       "<a href='fMRI_Calcium_analysis.ipynb' target='_blank'>fMRI_Calcium_analysis.ipynb</a><br>"
      ],
      "text/plain": [
       "/media/sf_GithubRepositories/Calcium/fMRI_notebooks/fMRI_Calcium_analysis.ipynb"
      ]
     },
     "metadata": {},
     "output_type": "display_data"
    },
    {
     "name": "stdout",
     "output_type": "stream",
     "text": [
      "6758_E7\n",
      "running analysis for... /media/sf_MRIDATA/Calciumanalysis/GRCaMP/1Hz/6758_E7/6758_E7+orig.BRIK\n"
     ]
    },
    {
     "data": {
      "text/html": [
       "<a href='fMRI_Calcium_analysis.ipynb' target='_blank'>fMRI_Calcium_analysis.ipynb</a><br>"
      ],
      "text/plain": [
       "/media/sf_GithubRepositories/Calcium/fMRI_notebooks/fMRI_Calcium_analysis.ipynb"
      ]
     },
     "metadata": {},
     "output_type": "display_data"
    },
    {
     "name": "stdout",
     "output_type": "stream",
     "text": [
      "6759_E5\n",
      "running analysis for... /media/sf_MRIDATA/Calciumanalysis/GRCaMP/1Hz/6759_E5/6759_E5+orig.BRIK\n"
     ]
    },
    {
     "data": {
      "text/html": [
       "<a href='fMRI_Calcium_analysis.ipynb' target='_blank'>fMRI_Calcium_analysis.ipynb</a><br>"
      ],
      "text/plain": [
       "/media/sf_GithubRepositories/Calcium/fMRI_notebooks/fMRI_Calcium_analysis.ipynb"
      ]
     },
     "metadata": {},
     "output_type": "display_data"
    },
    {
     "name": "stdout",
     "output_type": "stream",
     "text": [
      "6760_E8\n",
      "running analysis for... /media/sf_MRIDATA/Calciumanalysis/GRCaMP/1Hz/6760_E8/6760_E8+orig.BRIK\n"
     ]
    },
    {
     "data": {
      "text/html": [
       "<a href='fMRI_Calcium_analysis.ipynb' target='_blank'>fMRI_Calcium_analysis.ipynb</a><br>"
      ],
      "text/plain": [
       "/media/sf_GithubRepositories/Calcium/fMRI_notebooks/fMRI_Calcium_analysis.ipynb"
      ]
     },
     "metadata": {},
     "output_type": "display_data"
    },
    {
     "name": "stdout",
     "output_type": "stream",
     "text": [
      "6761_E6\n",
      "running analysis for... /media/sf_MRIDATA/Calciumanalysis/GRCaMP/1Hz/6761_E6/6761_E6+orig.BRIK\n"
     ]
    },
    {
     "data": {
      "text/html": [
       "<a href='fMRI_Calcium_analysis.ipynb' target='_blank'>fMRI_Calcium_analysis.ipynb</a><br>"
      ],
      "text/plain": [
       "/media/sf_GithubRepositories/Calcium/fMRI_notebooks/fMRI_Calcium_analysis.ipynb"
      ]
     },
     "metadata": {},
     "output_type": "display_data"
    },
    {
     "name": "stdout",
     "output_type": "stream",
     "text": [
      "groupstats\n",
      "running analysis for... /media/sf_MRIDATA/Calciumanalysis/GRCaMP/1Hz/groupstats/6756_E6statsSPM_el+orig.BRIK.Z\n"
     ]
    },
    {
     "data": {
      "text/html": [
       "<a href='fMRI_Calcium_analysis.ipynb' target='_blank'>fMRI_Calcium_analysis.ipynb</a><br>"
      ],
      "text/plain": [
       "/media/sf_GithubRepositories/Calcium/fMRI_notebooks/fMRI_Calcium_analysis.ipynb"
      ]
     },
     "metadata": {},
     "output_type": "display_data"
    },
    {
     "name": "stdout",
     "output_type": "stream",
     "text": [
      "Error executing the notebook \"fMRI_Calcium_analysis.ipynb\".\n",
      "Notebook arguments: {'file_path': '/media/sf_MRIDATA/Calciumanalysis/GRCaMP/1Hz/groupstats/6756_E6statsSPM_el+orig.BRIK.Z'}\n",
      "\n",
      "See notebook \"fMRI_Calcium_analysis-out.ipynb\" for the traceback.\n"
     ]
    },
    {
     "ename": "CellExecutionError",
     "evalue": "An error occurred while executing the following cell:\n------------------\nrunAFNI('3dTcat -prefix '+ newfolder + '/' + scanname + ' ' + scanname + \"+orig'[\"+ str(initial_cutoff) + \"..$]'\")\nrunAFNI('3dTcat -prefix '+ newfolder + '/single_timepoint' + ' ' + scanname + \"+orig'[0]'\")\n\nos.chdir(newfolder)\n\nrunAFNI(\"python2.7 /home/virtualfelix/abin/align_epi_anat.py -dset2to1 -dset1 \" + template_path + \" -dset2 single_timepoint+orig\" \\\n                                \" -child_dset2 \" + scanname + '+orig ' \\\n                                \" -dset1_strip None -dset2_strip None\"  \\\n                                \" -overwrite\" \\\n                                \" -big_move\" \\\n                                \" -volreg on -volreg_method 3dvolreg\" \\\n                                \" -volreg_opts '-Fourier -zpad 1'\" \\\n                                \" -Allineate_opts '-maxrot 10 -maxshf 3 -conv 0.005 -twofirst -twoblur 0.8 -source_automask+2 -final wsinc5'\" \\\n                                \" -tshift on -tshift_opts '-tzero 0 -quintic'\" \\\n                                \" -dset2_base 0\" \\\n                                \" -volreg_base 0\" \\\n                                \" -suffix .volreg\" \\\n                                \" -cost ls\")\n    \nrunAFNI('3dTstat -prefix rm.mean' + ' ' + scanname + '.volreg+orig')\nrunAFNI('3dcalc -a ' + scanname + '.volreg+orig -b rm.mean+orig'\\\n                    \" -expr 'min(200, a/b*100)*step(a)*step(b)' -prefix r\" + scanname + '.scale')\n------------------\n\n\u001b[0;31m---------------------------------------------------------------------------\u001b[0m\n\u001b[0;31mCalledProcessError\u001b[0m                        Traceback (most recent call last)\n\u001b[0;32m<ipython-input-8-a8e1fb484723>\u001b[0m in \u001b[0;36m<module>\u001b[0;34m()\u001b[0m\n\u001b[0;32m----> 1\u001b[0;31m \u001b[0mrunAFNI\u001b[0m\u001b[0;34m(\u001b[0m\u001b[0;34m'3dTcat -prefix '\u001b[0m\u001b[0;34m+\u001b[0m \u001b[0mnewfolder\u001b[0m \u001b[0;34m+\u001b[0m \u001b[0;34m'/'\u001b[0m \u001b[0;34m+\u001b[0m \u001b[0mscanname\u001b[0m \u001b[0;34m+\u001b[0m \u001b[0;34m' '\u001b[0m \u001b[0;34m+\u001b[0m \u001b[0mscanname\u001b[0m \u001b[0;34m+\u001b[0m \u001b[0;34m\"+orig'[\"\u001b[0m\u001b[0;34m+\u001b[0m \u001b[0mstr\u001b[0m\u001b[0;34m(\u001b[0m\u001b[0minitial_cutoff\u001b[0m\u001b[0;34m)\u001b[0m \u001b[0;34m+\u001b[0m \u001b[0;34m\"..$]'\"\u001b[0m\u001b[0;34m)\u001b[0m\u001b[0;34m\u001b[0m\u001b[0m\n\u001b[0m\u001b[1;32m      2\u001b[0m \u001b[0mrunAFNI\u001b[0m\u001b[0;34m(\u001b[0m\u001b[0;34m'3dTcat -prefix '\u001b[0m\u001b[0;34m+\u001b[0m \u001b[0mnewfolder\u001b[0m \u001b[0;34m+\u001b[0m \u001b[0;34m'/single_timepoint'\u001b[0m \u001b[0;34m+\u001b[0m \u001b[0;34m' '\u001b[0m \u001b[0;34m+\u001b[0m \u001b[0mscanname\u001b[0m \u001b[0;34m+\u001b[0m \u001b[0;34m\"+orig'[0]'\"\u001b[0m\u001b[0;34m)\u001b[0m\u001b[0;34m\u001b[0m\u001b[0m\n\u001b[1;32m      3\u001b[0m \u001b[0;34m\u001b[0m\u001b[0m\n\u001b[1;32m      4\u001b[0m \u001b[0mos\u001b[0m\u001b[0;34m.\u001b[0m\u001b[0mchdir\u001b[0m\u001b[0;34m(\u001b[0m\u001b[0mnewfolder\u001b[0m\u001b[0;34m)\u001b[0m\u001b[0;34m\u001b[0m\u001b[0m\n\u001b[1;32m      5\u001b[0m \u001b[0;34m\u001b[0m\u001b[0m\n\n\u001b[0;32m<ipython-input-7-bcfa7f465ddd>\u001b[0m in \u001b[0;36mrunAFNI\u001b[0;34m(inputstring)\u001b[0m\n\u001b[1;32m      1\u001b[0m \u001b[0;32mdef\u001b[0m \u001b[0mrunAFNI\u001b[0m\u001b[0;34m(\u001b[0m\u001b[0minputstring\u001b[0m\u001b[0;34m)\u001b[0m\u001b[0;34m:\u001b[0m\u001b[0;34m\u001b[0m\u001b[0m\n\u001b[1;32m      2\u001b[0m     \u001b[0mprint\u001b[0m\u001b[0;34m(\u001b[0m\u001b[0minputstring\u001b[0m\u001b[0;34m)\u001b[0m\u001b[0;34m\u001b[0m\u001b[0m\n\u001b[0;32m----> 3\u001b[0;31m     \u001b[0msubprocess\u001b[0m\u001b[0;34m.\u001b[0m\u001b[0mrun\u001b[0m\u001b[0;34m(\u001b[0m\u001b[0minputstring\u001b[0m\u001b[0;34m,\u001b[0m\u001b[0mshell\u001b[0m\u001b[0;34m=\u001b[0m\u001b[0;32mTrue\u001b[0m\u001b[0;34m,\u001b[0m \u001b[0mcheck\u001b[0m\u001b[0;34m=\u001b[0m\u001b[0;32mTrue\u001b[0m\u001b[0;34m)\u001b[0m\u001b[0;34m\u001b[0m\u001b[0m\n\u001b[0m\n\u001b[0;32m~/anaconda3/lib/python3.6/subprocess.py\u001b[0m in \u001b[0;36mrun\u001b[0;34m(input, timeout, check, *popenargs, **kwargs)\u001b[0m\n\u001b[1;32m    416\u001b[0m         \u001b[0;32mif\u001b[0m \u001b[0mcheck\u001b[0m \u001b[0;32mand\u001b[0m \u001b[0mretcode\u001b[0m\u001b[0;34m:\u001b[0m\u001b[0;34m\u001b[0m\u001b[0m\n\u001b[1;32m    417\u001b[0m             raise CalledProcessError(retcode, process.args,\n\u001b[0;32m--> 418\u001b[0;31m                                      output=stdout, stderr=stderr)\n\u001b[0m\u001b[1;32m    419\u001b[0m     \u001b[0;32mreturn\u001b[0m \u001b[0mCompletedProcess\u001b[0m\u001b[0;34m(\u001b[0m\u001b[0mprocess\u001b[0m\u001b[0;34m.\u001b[0m\u001b[0margs\u001b[0m\u001b[0;34m,\u001b[0m \u001b[0mretcode\u001b[0m\u001b[0;34m,\u001b[0m \u001b[0mstdout\u001b[0m\u001b[0;34m,\u001b[0m \u001b[0mstderr\u001b[0m\u001b[0;34m)\u001b[0m\u001b[0;34m\u001b[0m\u001b[0m\n\u001b[1;32m    420\u001b[0m \u001b[0;34m\u001b[0m\u001b[0m\n\n\u001b[0;31mCalledProcessError\u001b[0m: Command '3dTcat -prefix /media/sf_MRIDATA/Calciumanalysis/GRCaMP/1Hz/groupstats/analyzed/6756_E6statsSPM_el+orig 6756_E6statsSPM_el+orig+orig'[10..$]'' returned non-zero exit status 1.\nCalledProcessError: Command '3dTcat -prefix /media/sf_MRIDATA/Calciumanalysis/GRCaMP/1Hz/groupstats/analyzed/6756_E6statsSPM_el+orig 6756_E6statsSPM_el+orig+orig'[10..$]'' returned non-zero exit status 1.\n",
     "output_type": "error",
     "traceback": [
      "\u001b[0;31m---------------------------------------------------------------------------\u001b[0m",
      "\u001b[0;31mCellExecutionError\u001b[0m                        Traceback (most recent call last)",
      "\u001b[0;32m<ipython-input-5-8f923d8694f7>\u001b[0m in \u001b[0;36m<module>\u001b[0;34m()\u001b[0m\n\u001b[1;32m     25\u001b[0m             \u001b[0mprint\u001b[0m\u001b[0;34m(\u001b[0m\u001b[0;34m'running analysis for...'\u001b[0m\u001b[0;34m,\u001b[0m \u001b[0mfile_path1\u001b[0m\u001b[0;34m[\u001b[0m\u001b[0;36m0\u001b[0m\u001b[0;34m]\u001b[0m\u001b[0;34m)\u001b[0m\u001b[0;34m\u001b[0m\u001b[0m\n\u001b[1;32m     26\u001b[0m \u001b[0;34m\u001b[0m\u001b[0m\n\u001b[0;32m---> 27\u001b[0;31m             \u001b[0mrun_notebook\u001b[0m\u001b[0;34m(\u001b[0m\u001b[0mnb_name\u001b[0m\u001b[0;34m,\u001b[0m \u001b[0msave_ipynb\u001b[0m\u001b[0;34m=\u001b[0m\u001b[0;32mFalse\u001b[0m\u001b[0;34m,\u001b[0m \u001b[0mnb_kwargs\u001b[0m\u001b[0;34m=\u001b[0m\u001b[0mnb_kwargs\u001b[0m\u001b[0;34m)\u001b[0m\u001b[0;34m\u001b[0m\u001b[0m\n\u001b[0m\u001b[1;32m     28\u001b[0m \u001b[0;34m\u001b[0m\u001b[0m\n\u001b[1;32m     29\u001b[0m             \u001b[0;31m# then copy the stats and ROI files in one result folder\u001b[0m\u001b[0;34m\u001b[0m\u001b[0;34m\u001b[0m\u001b[0m\n",
      "\u001b[0;32m/media/sf_GithubRepositories/Calcium/fMRI_notebooks/nbrun.py\u001b[0m in \u001b[0;36mrun_notebook\u001b[0;34m(notebook_path, nb_kwargs, suffix, out_path_ipynb, out_path_html, kernel_name, working_dir, timeout, execute_kwargs, save_ipynb, save_html, insert_pos, hide_input, display_links, return_nb, add_timestamp)\u001b[0m\n\u001b[1;32m    159\u001b[0m     \u001b[0;32mtry\u001b[0m\u001b[0;34m:\u001b[0m\u001b[0;34m\u001b[0m\u001b[0m\n\u001b[1;32m    160\u001b[0m         \u001b[0;31m# Execute the notebook\u001b[0m\u001b[0;34m\u001b[0m\u001b[0;34m\u001b[0m\u001b[0m\n\u001b[0;32m--> 161\u001b[0;31m         \u001b[0mep\u001b[0m\u001b[0;34m.\u001b[0m\u001b[0mpreprocess\u001b[0m\u001b[0;34m(\u001b[0m\u001b[0mnb\u001b[0m\u001b[0;34m,\u001b[0m \u001b[0;34m{\u001b[0m\u001b[0;34m'metadata'\u001b[0m\u001b[0;34m:\u001b[0m \u001b[0;34m{\u001b[0m\u001b[0;34m'path'\u001b[0m\u001b[0;34m:\u001b[0m \u001b[0mworking_dir\u001b[0m\u001b[0;34m}\u001b[0m\u001b[0;34m}\u001b[0m\u001b[0;34m)\u001b[0m\u001b[0;34m\u001b[0m\u001b[0m\n\u001b[0m\u001b[1;32m    162\u001b[0m     \u001b[0;32mexcept\u001b[0m\u001b[0;34m:\u001b[0m\u001b[0;34m\u001b[0m\u001b[0m\n\u001b[1;32m    163\u001b[0m         \u001b[0;31m# Execution failed, print a message then raise.\u001b[0m\u001b[0;34m\u001b[0m\u001b[0;34m\u001b[0m\u001b[0m\n",
      "\u001b[0;32m~/anaconda3/lib/python3.6/site-packages/nbconvert/preprocessors/execute.py\u001b[0m in \u001b[0;36mpreprocess\u001b[0;34m(self, nb, resources)\u001b[0m\n\u001b[1;32m    260\u001b[0m \u001b[0;34m\u001b[0m\u001b[0m\n\u001b[1;32m    261\u001b[0m         \u001b[0;32mtry\u001b[0m\u001b[0;34m:\u001b[0m\u001b[0;34m\u001b[0m\u001b[0m\n\u001b[0;32m--> 262\u001b[0;31m             \u001b[0mnb\u001b[0m\u001b[0;34m,\u001b[0m \u001b[0mresources\u001b[0m \u001b[0;34m=\u001b[0m \u001b[0msuper\u001b[0m\u001b[0;34m(\u001b[0m\u001b[0mExecutePreprocessor\u001b[0m\u001b[0;34m,\u001b[0m \u001b[0mself\u001b[0m\u001b[0;34m)\u001b[0m\u001b[0;34m.\u001b[0m\u001b[0mpreprocess\u001b[0m\u001b[0;34m(\u001b[0m\u001b[0mnb\u001b[0m\u001b[0;34m,\u001b[0m \u001b[0mresources\u001b[0m\u001b[0;34m)\u001b[0m\u001b[0;34m\u001b[0m\u001b[0m\n\u001b[0m\u001b[1;32m    263\u001b[0m         \u001b[0;32mfinally\u001b[0m\u001b[0;34m:\u001b[0m\u001b[0;34m\u001b[0m\u001b[0m\n\u001b[1;32m    264\u001b[0m             \u001b[0mself\u001b[0m\u001b[0;34m.\u001b[0m\u001b[0mkc\u001b[0m\u001b[0;34m.\u001b[0m\u001b[0mstop_channels\u001b[0m\u001b[0;34m(\u001b[0m\u001b[0;34m)\u001b[0m\u001b[0;34m\u001b[0m\u001b[0m\n",
      "\u001b[0;32m~/anaconda3/lib/python3.6/site-packages/nbconvert/preprocessors/base.py\u001b[0m in \u001b[0;36mpreprocess\u001b[0;34m(self, nb, resources)\u001b[0m\n\u001b[1;32m     67\u001b[0m         \"\"\"\n\u001b[1;32m     68\u001b[0m         \u001b[0;32mfor\u001b[0m \u001b[0mindex\u001b[0m\u001b[0;34m,\u001b[0m \u001b[0mcell\u001b[0m \u001b[0;32min\u001b[0m \u001b[0menumerate\u001b[0m\u001b[0;34m(\u001b[0m\u001b[0mnb\u001b[0m\u001b[0;34m.\u001b[0m\u001b[0mcells\u001b[0m\u001b[0;34m)\u001b[0m\u001b[0;34m:\u001b[0m\u001b[0;34m\u001b[0m\u001b[0m\n\u001b[0;32m---> 69\u001b[0;31m             \u001b[0mnb\u001b[0m\u001b[0;34m.\u001b[0m\u001b[0mcells\u001b[0m\u001b[0;34m[\u001b[0m\u001b[0mindex\u001b[0m\u001b[0;34m]\u001b[0m\u001b[0;34m,\u001b[0m \u001b[0mresources\u001b[0m \u001b[0;34m=\u001b[0m \u001b[0mself\u001b[0m\u001b[0;34m.\u001b[0m\u001b[0mpreprocess_cell\u001b[0m\u001b[0;34m(\u001b[0m\u001b[0mcell\u001b[0m\u001b[0;34m,\u001b[0m \u001b[0mresources\u001b[0m\u001b[0;34m,\u001b[0m \u001b[0mindex\u001b[0m\u001b[0;34m)\u001b[0m\u001b[0;34m\u001b[0m\u001b[0m\n\u001b[0m\u001b[1;32m     70\u001b[0m         \u001b[0;32mreturn\u001b[0m \u001b[0mnb\u001b[0m\u001b[0;34m,\u001b[0m \u001b[0mresources\u001b[0m\u001b[0;34m\u001b[0m\u001b[0m\n\u001b[1;32m     71\u001b[0m \u001b[0;34m\u001b[0m\u001b[0m\n",
      "\u001b[0;32m~/anaconda3/lib/python3.6/site-packages/nbconvert/preprocessors/execute.py\u001b[0m in \u001b[0;36mpreprocess_cell\u001b[0;34m(self, cell, resources, cell_index)\u001b[0m\n\u001b[1;32m    284\u001b[0m             \u001b[0;32mfor\u001b[0m \u001b[0mout\u001b[0m \u001b[0;32min\u001b[0m \u001b[0moutputs\u001b[0m\u001b[0;34m:\u001b[0m\u001b[0;34m\u001b[0m\u001b[0m\n\u001b[1;32m    285\u001b[0m                 \u001b[0;32mif\u001b[0m \u001b[0mout\u001b[0m\u001b[0;34m.\u001b[0m\u001b[0moutput_type\u001b[0m \u001b[0;34m==\u001b[0m \u001b[0;34m'error'\u001b[0m\u001b[0;34m:\u001b[0m\u001b[0;34m\u001b[0m\u001b[0m\n\u001b[0;32m--> 286\u001b[0;31m                     \u001b[0;32mraise\u001b[0m \u001b[0mCellExecutionError\u001b[0m\u001b[0;34m.\u001b[0m\u001b[0mfrom_cell_and_msg\u001b[0m\u001b[0;34m(\u001b[0m\u001b[0mcell\u001b[0m\u001b[0;34m,\u001b[0m \u001b[0mout\u001b[0m\u001b[0;34m)\u001b[0m\u001b[0;34m\u001b[0m\u001b[0m\n\u001b[0m\u001b[1;32m    287\u001b[0m             \u001b[0;32mif\u001b[0m \u001b[0;34m(\u001b[0m\u001b[0mreply\u001b[0m \u001b[0;32mis\u001b[0m \u001b[0;32mnot\u001b[0m \u001b[0;32mNone\u001b[0m\u001b[0;34m)\u001b[0m \u001b[0;32mand\u001b[0m \u001b[0mreply\u001b[0m\u001b[0;34m[\u001b[0m\u001b[0;34m'content'\u001b[0m\u001b[0;34m]\u001b[0m\u001b[0;34m[\u001b[0m\u001b[0;34m'status'\u001b[0m\u001b[0;34m]\u001b[0m \u001b[0;34m==\u001b[0m \u001b[0;34m'error'\u001b[0m\u001b[0;34m:\u001b[0m\u001b[0;34m\u001b[0m\u001b[0m\n\u001b[1;32m    288\u001b[0m                 \u001b[0;32mraise\u001b[0m \u001b[0mCellExecutionError\u001b[0m\u001b[0;34m.\u001b[0m\u001b[0mfrom_cell_and_msg\u001b[0m\u001b[0;34m(\u001b[0m\u001b[0mcell\u001b[0m\u001b[0;34m,\u001b[0m \u001b[0mreply\u001b[0m\u001b[0;34m[\u001b[0m\u001b[0;34m'content'\u001b[0m\u001b[0;34m]\u001b[0m\u001b[0;34m)\u001b[0m\u001b[0;34m\u001b[0m\u001b[0m\n",
      "\u001b[0;31mCellExecutionError\u001b[0m: An error occurred while executing the following cell:\n------------------\nrunAFNI('3dTcat -prefix '+ newfolder + '/' + scanname + ' ' + scanname + \"+orig'[\"+ str(initial_cutoff) + \"..$]'\")\nrunAFNI('3dTcat -prefix '+ newfolder + '/single_timepoint' + ' ' + scanname + \"+orig'[0]'\")\n\nos.chdir(newfolder)\n\nrunAFNI(\"python2.7 /home/virtualfelix/abin/align_epi_anat.py -dset2to1 -dset1 \" + template_path + \" -dset2 single_timepoint+orig\" \\\n                                \" -child_dset2 \" + scanname + '+orig ' \\\n                                \" -dset1_strip None -dset2_strip None\"  \\\n                                \" -overwrite\" \\\n                                \" -big_move\" \\\n                                \" -volreg on -volreg_method 3dvolreg\" \\\n                                \" -volreg_opts '-Fourier -zpad 1'\" \\\n                                \" -Allineate_opts '-maxrot 10 -maxshf 3 -conv 0.005 -twofirst -twoblur 0.8 -source_automask+2 -final wsinc5'\" \\\n                                \" -tshift on -tshift_opts '-tzero 0 -quintic'\" \\\n                                \" -dset2_base 0\" \\\n                                \" -volreg_base 0\" \\\n                                \" -suffix .volreg\" \\\n                                \" -cost ls\")\n    \nrunAFNI('3dTstat -prefix rm.mean' + ' ' + scanname + '.volreg+orig')\nrunAFNI('3dcalc -a ' + scanname + '.volreg+orig -b rm.mean+orig'\\\n                    \" -expr 'min(200, a/b*100)*step(a)*step(b)' -prefix r\" + scanname + '.scale')\n------------------\n\n\u001b[0;31m---------------------------------------------------------------------------\u001b[0m\n\u001b[0;31mCalledProcessError\u001b[0m                        Traceback (most recent call last)\n\u001b[0;32m<ipython-input-8-a8e1fb484723>\u001b[0m in \u001b[0;36m<module>\u001b[0;34m()\u001b[0m\n\u001b[0;32m----> 1\u001b[0;31m \u001b[0mrunAFNI\u001b[0m\u001b[0;34m(\u001b[0m\u001b[0;34m'3dTcat -prefix '\u001b[0m\u001b[0;34m+\u001b[0m \u001b[0mnewfolder\u001b[0m \u001b[0;34m+\u001b[0m \u001b[0;34m'/'\u001b[0m \u001b[0;34m+\u001b[0m \u001b[0mscanname\u001b[0m \u001b[0;34m+\u001b[0m \u001b[0;34m' '\u001b[0m \u001b[0;34m+\u001b[0m \u001b[0mscanname\u001b[0m \u001b[0;34m+\u001b[0m \u001b[0;34m\"+orig'[\"\u001b[0m\u001b[0;34m+\u001b[0m \u001b[0mstr\u001b[0m\u001b[0;34m(\u001b[0m\u001b[0minitial_cutoff\u001b[0m\u001b[0;34m)\u001b[0m \u001b[0;34m+\u001b[0m \u001b[0;34m\"..$]'\"\u001b[0m\u001b[0;34m)\u001b[0m\u001b[0;34m\u001b[0m\u001b[0m\n\u001b[0m\u001b[1;32m      2\u001b[0m \u001b[0mrunAFNI\u001b[0m\u001b[0;34m(\u001b[0m\u001b[0;34m'3dTcat -prefix '\u001b[0m\u001b[0;34m+\u001b[0m \u001b[0mnewfolder\u001b[0m \u001b[0;34m+\u001b[0m \u001b[0;34m'/single_timepoint'\u001b[0m \u001b[0;34m+\u001b[0m \u001b[0;34m' '\u001b[0m \u001b[0;34m+\u001b[0m \u001b[0mscanname\u001b[0m \u001b[0;34m+\u001b[0m \u001b[0;34m\"+orig'[0]'\"\u001b[0m\u001b[0;34m)\u001b[0m\u001b[0;34m\u001b[0m\u001b[0m\n\u001b[1;32m      3\u001b[0m \u001b[0;34m\u001b[0m\u001b[0m\n\u001b[1;32m      4\u001b[0m \u001b[0mos\u001b[0m\u001b[0;34m.\u001b[0m\u001b[0mchdir\u001b[0m\u001b[0;34m(\u001b[0m\u001b[0mnewfolder\u001b[0m\u001b[0;34m)\u001b[0m\u001b[0;34m\u001b[0m\u001b[0m\n\u001b[1;32m      5\u001b[0m \u001b[0;34m\u001b[0m\u001b[0m\n\n\u001b[0;32m<ipython-input-7-bcfa7f465ddd>\u001b[0m in \u001b[0;36mrunAFNI\u001b[0;34m(inputstring)\u001b[0m\n\u001b[1;32m      1\u001b[0m \u001b[0;32mdef\u001b[0m \u001b[0mrunAFNI\u001b[0m\u001b[0;34m(\u001b[0m\u001b[0minputstring\u001b[0m\u001b[0;34m)\u001b[0m\u001b[0;34m:\u001b[0m\u001b[0;34m\u001b[0m\u001b[0m\n\u001b[1;32m      2\u001b[0m     \u001b[0mprint\u001b[0m\u001b[0;34m(\u001b[0m\u001b[0minputstring\u001b[0m\u001b[0;34m)\u001b[0m\u001b[0;34m\u001b[0m\u001b[0m\n\u001b[0;32m----> 3\u001b[0;31m     \u001b[0msubprocess\u001b[0m\u001b[0;34m.\u001b[0m\u001b[0mrun\u001b[0m\u001b[0;34m(\u001b[0m\u001b[0minputstring\u001b[0m\u001b[0;34m,\u001b[0m\u001b[0mshell\u001b[0m\u001b[0;34m=\u001b[0m\u001b[0;32mTrue\u001b[0m\u001b[0;34m,\u001b[0m \u001b[0mcheck\u001b[0m\u001b[0;34m=\u001b[0m\u001b[0;32mTrue\u001b[0m\u001b[0;34m)\u001b[0m\u001b[0;34m\u001b[0m\u001b[0m\n\u001b[0m\n\u001b[0;32m~/anaconda3/lib/python3.6/subprocess.py\u001b[0m in \u001b[0;36mrun\u001b[0;34m(input, timeout, check, *popenargs, **kwargs)\u001b[0m\n\u001b[1;32m    416\u001b[0m         \u001b[0;32mif\u001b[0m \u001b[0mcheck\u001b[0m \u001b[0;32mand\u001b[0m \u001b[0mretcode\u001b[0m\u001b[0;34m:\u001b[0m\u001b[0;34m\u001b[0m\u001b[0m\n\u001b[1;32m    417\u001b[0m             raise CalledProcessError(retcode, process.args,\n\u001b[0;32m--> 418\u001b[0;31m                                      output=stdout, stderr=stderr)\n\u001b[0m\u001b[1;32m    419\u001b[0m     \u001b[0;32mreturn\u001b[0m \u001b[0mCompletedProcess\u001b[0m\u001b[0;34m(\u001b[0m\u001b[0mprocess\u001b[0m\u001b[0;34m.\u001b[0m\u001b[0margs\u001b[0m\u001b[0;34m,\u001b[0m \u001b[0mretcode\u001b[0m\u001b[0;34m,\u001b[0m \u001b[0mstdout\u001b[0m\u001b[0;34m,\u001b[0m \u001b[0mstderr\u001b[0m\u001b[0;34m)\u001b[0m\u001b[0;34m\u001b[0m\u001b[0m\n\u001b[1;32m    420\u001b[0m \u001b[0;34m\u001b[0m\u001b[0m\n\n\u001b[0;31mCalledProcessError\u001b[0m: Command '3dTcat -prefix /media/sf_MRIDATA/Calciumanalysis/GRCaMP/1Hz/groupstats/analyzed/6756_E6statsSPM_el+orig 6756_E6statsSPM_el+orig+orig'[10..$]'' returned non-zero exit status 1.\nCalledProcessError: Command '3dTcat -prefix /media/sf_MRIDATA/Calciumanalysis/GRCaMP/1Hz/groupstats/analyzed/6756_E6statsSPM_el+orig 6756_E6statsSPM_el+orig+orig'[10..$]'' returned non-zero exit status 1.\n"
     ]
    }
   ],
   "source": [
    "# splitall function from: https://www.safaribooksonline.com/library/view/python-cookbook/0596001673/ch04s16.html\n",
    "def splitall(path):\n",
    "    allparts = []\n",
    "    while 1:\n",
    "        parts = os.path.split(path)\n",
    "        if parts[0] == path:  # sentinel for absolute paths\n",
    "            allparts.insert(0, parts[0])\n",
    "            break\n",
    "        elif parts[1] == path: # sentinel for relative paths\n",
    "            allparts.insert(0, parts[1])\n",
    "            break\n",
    "        else:\n",
    "            path = parts[0]\n",
    "            allparts.insert(0, parts[1])\n",
    "    return allparts\n",
    "\n",
    "\n",
    "for folderName, subfolders, filenames in os.walk(file_path):\n",
    "    for file in filenames:\n",
    "        if (fnmatch.fnmatch(file, '*+orig.BRIK*') and 'analyzed' not in folderName):\n",
    "            ID = splitall(folderName)[-1]\n",
    "            print(ID)\n",
    "            file_path1 = glob.glob(os.path.join(folderName,file))\n",
    "            nb_kwargs = {'file_path': file_path1[0]}\n",
    "            print('running analysis for...', file_path1[0])\n",
    "\n",
    "            run_notebook(nb_name, save_ipynb=False, nb_kwargs=nb_kwargs)\n",
    "\n",
    "            # then copy the stats and ROI files in one result folder\n",
    "            for resultfiles in glob.glob(os.path.join(folderName,'analyzed','*stats*BRIK*')):\n",
    "                shutil.copy(resultfiles, os.path.join(groupstatsfolder,ID+os.path.basename(resultfiles)))\n",
    "            for resultfiles in glob.glob(os.path.join(folderName,'analyzed','*stats*HEAD')):\n",
    "                shutil.copy(resultfiles, os.path.join(groupstatsfolder,ID+os.path.basename(resultfiles)))\n",
    "            for resultfiles in glob.glob(os.path.join(folderName,'analyzed','ROIdata*')):\n",
    "                shutil.copy(resultfiles, os.path.join(groupstatsfolder,ID+os.path.basename(resultfiles)))"
   ]
  }
 ],
 "metadata": {
  "kernelspec": {
   "display_name": "Python 3",
   "language": "python",
   "name": "python3"
  },
  "language_info": {
   "codemirror_mode": {
    "name": "ipython",
    "version": 3
   },
   "file_extension": ".py",
   "mimetype": "text/x-python",
   "name": "python",
   "nbconvert_exporter": "python",
   "pygments_lexer": "ipython3",
   "version": "3.6.5"
  }
 },
 "nbformat": 4,
 "nbformat_minor": 2
}
