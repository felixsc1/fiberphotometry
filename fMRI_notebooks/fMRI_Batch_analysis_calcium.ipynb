{
 "cells": [
  {
   "cell_type": "code",
   "execution_count": null,
   "metadata": {},
   "outputs": [],
   "source": [
    "modified: july 16"
   ]
  },
  {
   "cell_type": "code",
   "execution_count": null,
   "metadata": {},
   "outputs": [],
   "source": [
    "import glob\n",
    "import os, sys, shutil\n",
    "from nbrun import run_notebook #downloaded from https://github.com/tritemio/nbrun/blob/master/example-master-notebook.ipynb\n",
    "from tkinter import Tk\n",
    "from tkinter.filedialog import askdirectory\n",
    "import fnmatch\n",
    "import numpy as np"
   ]
  },
  {
   "cell_type": "code",
   "execution_count": null,
   "metadata": {},
   "outputs": [],
   "source": [
    "nb_name = 'fMRI_Calcium_analysis.ipynb'"
   ]
  },
  {
   "cell_type": "code",
   "execution_count": null,
   "metadata": {},
   "outputs": [],
   "source": [
    "# directory with all scans:\n",
    "\n",
    "file_path = '/home/aic/BigHDD/MR_DATA/CSI2018'\n",
    "\n",
    "# the single-subject script must be modified to accept the variables\n",
    "# 'file_path' and 'ID' as input"
   ]
  },
  {
   "cell_type": "code",
   "execution_count": null,
   "metadata": {},
   "outputs": [],
   "source": [
    "# splitall function from: https://www.safaribooksonline.com/library/view/python-cookbook/0596001673/ch04s16.html\n",
    "def splitall(path):\n",
    "    allparts = []\n",
    "    while 1:\n",
    "        parts = os.path.split(path)\n",
    "        if parts[0] == path:  # sentinel for absolute paths\n",
    "            allparts.insert(0, parts[0])\n",
    "            break\n",
    "        elif parts[1] == path: # sentinel for relative paths\n",
    "            allparts.insert(0, parts[1])\n",
    "            break\n",
    "        else:\n",
    "            path = parts[0]\n",
    "            allparts.insert(0, parts[1])\n",
    "    return allparts\n",
    "\n",
    "\n",
    "for folderName, subfolders, filenames in os.walk(file_path):\n",
    "    for file in filenames:\n",
    "        if (fnmatch.fnmatch(file, '*+orig.BRIK*') and 'analyze' not in folderName):\n",
    "#             ID = splitall(folderName)[4]+'_scan'+splitall(folderName)[5]\n",
    "            file_path1 = glob.glob(os.path.join(folderName,file))\n",
    "            nb_kwargs = {'file_path': file_path1[0]}\n",
    "            print('running analysis for...', file_path1[0])\n",
    "#             print(ID)\n",
    "            run_notebook(nb_name, save_ipynb=False, nb_kwargs=nb_kwargs)"
   ]
  }
 ],
 "metadata": {
  "kernelspec": {
   "display_name": "Python 3",
   "language": "python",
   "name": "python3"
  },
  "language_info": {
   "codemirror_mode": {
    "name": "ipython",
    "version": 3
   },
   "file_extension": ".py",
   "mimetype": "text/x-python",
   "name": "python",
   "nbconvert_exporter": "python",
   "pygments_lexer": "ipython3",
   "version": "3.6.5"
  }
 },
 "nbformat": 4,
 "nbformat_minor": 2
}
