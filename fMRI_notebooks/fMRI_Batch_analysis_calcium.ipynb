{
 "cells": [
  {
   "cell_type": "code",
   "execution_count": 1,
   "metadata": {},
   "outputs": [],
   "source": [
    "#modified: july 25"
   ]
  },
  {
   "cell_type": "code",
   "execution_count": 2,
   "metadata": {},
   "outputs": [],
   "source": [
    "import os, sys, shutil\n",
    "from nbrun import run_notebook #downloaded from https://github.com/tritemio/nbrun/blob/master/example-master-notebook.ipynb\n",
    "import fnmatch\n",
    "import numpy as np\n",
    "import glob\n",
    "import pandas as pd\n",
    "import subprocess"
   ]
  },
  {
   "cell_type": "code",
   "execution_count": 3,
   "metadata": {},
   "outputs": [],
   "source": [
    "fullanalysis = 'fMRI_Calcium_analysis.ipynb'\n",
    "onlyROIs = 'roi extraction.ipynb'"
   ]
  },
  {
   "cell_type": "code",
   "execution_count": 4,
   "metadata": {},
   "outputs": [],
   "source": [
    "# directory with all scans:\n",
    "file_path = '/media/sf_MRIDATA/Calciumanalysis/LckGRCaMP/3Hz'\n",
    "\n",
    "# the single-subject script must be modified to accept the variables\n",
    "# 'file_path' and 'ID' as input\n",
    "\n",
    "\n",
    "# Group results folder:\n",
    "groupstatsfolder = os.path.join(file_path,'groupstats')\n",
    "\n",
    "if not os.path.exists(groupstatsfolder):\n",
    "    os.makedirs(groupstatsfolder)"
   ]
  },
  {
   "cell_type": "code",
   "execution_count": 5,
   "metadata": {
    "scrolled": true
   },
   "outputs": [
    {
     "name": "stdout",
     "output_type": "stream",
     "text": [
      "6790_E16\n",
      "running analysis for... /media/sf_MRIDATA/Calciumanalysis/LckGRCaMP/3Hz/6790_E16/6790_E16+orig.BRIK\n"
     ]
    },
    {
     "data": {
      "text/html": [
       "<a href='roi extraction.ipynb' target='_blank'>roi extraction.ipynb</a><br>"
      ],
      "text/plain": [
       "/media/sf_GithubRepositories/Calcium/fMRI_notebooks/roi extraction.ipynb"
      ]
     },
     "metadata": {},
     "output_type": "display_data"
    },
    {
     "name": "stdout",
     "output_type": "stream",
     "text": [
      "6792_E7\n",
      "running analysis for... /media/sf_MRIDATA/Calciumanalysis/LckGRCaMP/3Hz/6792_E7/6792_E7+orig.BRIK\n"
     ]
    },
    {
     "data": {
      "text/html": [
       "<a href='roi extraction.ipynb' target='_blank'>roi extraction.ipynb</a><br>"
      ],
      "text/plain": [
       "/media/sf_GithubRepositories/Calcium/fMRI_notebooks/roi extraction.ipynb"
      ]
     },
     "metadata": {},
     "output_type": "display_data"
    },
    {
     "name": "stdout",
     "output_type": "stream",
     "text": [
      "6793_E8\n",
      "running analysis for... /media/sf_MRIDATA/Calciumanalysis/LckGRCaMP/3Hz/6793_E8/6793_E8+orig.BRIK\n"
     ]
    },
    {
     "data": {
      "text/html": [
       "<a href='roi extraction.ipynb' target='_blank'>roi extraction.ipynb</a><br>"
      ],
      "text/plain": [
       "/media/sf_GithubRepositories/Calcium/fMRI_notebooks/roi extraction.ipynb"
      ]
     },
     "metadata": {},
     "output_type": "display_data"
    },
    {
     "name": "stdout",
     "output_type": "stream",
     "text": [
      "groupstats\n",
      "running analysis for... /media/sf_MRIDATA/Calciumanalysis/LckGRCaMP/3Hz/groupstats/6790_E16statsSPM_el+orig.BRIK.Z\n"
     ]
    },
    {
     "data": {
      "text/html": [
       "<a href='roi extraction.ipynb' target='_blank'>roi extraction.ipynb</a><br>"
      ],
      "text/plain": [
       "/media/sf_GithubRepositories/Calcium/fMRI_notebooks/roi extraction.ipynb"
      ]
     },
     "metadata": {},
     "output_type": "display_data"
    },
    {
     "name": "stdout",
     "output_type": "stream",
     "text": [
      "Error executing the notebook \"roi extraction.ipynb\".\n",
      "Notebook arguments: {'file_path': '/media/sf_MRIDATA/Calciumanalysis/LckGRCaMP/3Hz/groupstats/6790_E16statsSPM_el+orig.BRIK.Z', 'folderName': '/media/sf_MRIDATA/Calciumanalysis/LckGRCaMP/3Hz/groupstats'}\n",
      "\n",
      "See notebook \"roi extraction-out.ipynb\" for the traceback.\n"
     ]
    },
    {
     "ename": "CellExecutionError",
     "evalue": "An error occurred while executing the following cell:\n------------------\nrunAFNI(f'3dROIstats -mask /media/sf_MRIDATA/Template7T/ROI+orig {folderName}/analyzed/CleanedData+orig > {folderName}/analyzed/ROIdataNew.1D')\n------------------\n\n\u001b[0;31m---------------------------------------------------------------------------\u001b[0m\n\u001b[0;31mCalledProcessError\u001b[0m                        Traceback (most recent call last)\n\u001b[0;32m<ipython-input-4-0bec35f8c587>\u001b[0m in \u001b[0;36m<module>\u001b[0;34m()\u001b[0m\n\u001b[0;32m----> 1\u001b[0;31m \u001b[0mrunAFNI\u001b[0m\u001b[0;34m(\u001b[0m\u001b[0;34mf'3dROIstats -mask /media/sf_MRIDATA/Template7T/ROI+orig {folderName}/analyzed/CleanedData+orig > {folderName}/analyzed/ROIdataNew.1D'\u001b[0m\u001b[0;34m)\u001b[0m\u001b[0;34m\u001b[0m\u001b[0m\n\u001b[0m\n\u001b[0;32m<ipython-input-3-a1d6abf18749>\u001b[0m in \u001b[0;36mrunAFNI\u001b[0;34m(inputstring)\u001b[0m\n\u001b[1;32m      1\u001b[0m \u001b[0;32mdef\u001b[0m \u001b[0mrunAFNI\u001b[0m\u001b[0;34m(\u001b[0m\u001b[0minputstring\u001b[0m\u001b[0;34m)\u001b[0m\u001b[0;34m:\u001b[0m\u001b[0;34m\u001b[0m\u001b[0m\n\u001b[1;32m      2\u001b[0m     \u001b[0mprint\u001b[0m\u001b[0;34m(\u001b[0m\u001b[0minputstring\u001b[0m\u001b[0;34m)\u001b[0m\u001b[0;34m\u001b[0m\u001b[0m\n\u001b[0;32m----> 3\u001b[0;31m     \u001b[0msubprocess\u001b[0m\u001b[0;34m.\u001b[0m\u001b[0mrun\u001b[0m\u001b[0;34m(\u001b[0m\u001b[0minputstring\u001b[0m\u001b[0;34m,\u001b[0m\u001b[0mshell\u001b[0m\u001b[0;34m=\u001b[0m\u001b[0;32mTrue\u001b[0m\u001b[0;34m,\u001b[0m \u001b[0mcheck\u001b[0m\u001b[0;34m=\u001b[0m\u001b[0;32mTrue\u001b[0m\u001b[0;34m)\u001b[0m\u001b[0;34m\u001b[0m\u001b[0m\n\u001b[0m\u001b[1;32m      4\u001b[0m \u001b[0;34m\u001b[0m\u001b[0m\n\u001b[1;32m      5\u001b[0m \u001b[0;34m\u001b[0m\u001b[0m\n\n\u001b[0;32m~/anaconda3/lib/python3.6/subprocess.py\u001b[0m in \u001b[0;36mrun\u001b[0;34m(input, timeout, check, *popenargs, **kwargs)\u001b[0m\n\u001b[1;32m    416\u001b[0m         \u001b[0;32mif\u001b[0m \u001b[0mcheck\u001b[0m \u001b[0;32mand\u001b[0m \u001b[0mretcode\u001b[0m\u001b[0;34m:\u001b[0m\u001b[0;34m\u001b[0m\u001b[0m\n\u001b[1;32m    417\u001b[0m             raise CalledProcessError(retcode, process.args,\n\u001b[0;32m--> 418\u001b[0;31m                                      output=stdout, stderr=stderr)\n\u001b[0m\u001b[1;32m    419\u001b[0m     \u001b[0;32mreturn\u001b[0m \u001b[0mCompletedProcess\u001b[0m\u001b[0;34m(\u001b[0m\u001b[0mprocess\u001b[0m\u001b[0;34m.\u001b[0m\u001b[0margs\u001b[0m\u001b[0;34m,\u001b[0m \u001b[0mretcode\u001b[0m\u001b[0;34m,\u001b[0m \u001b[0mstdout\u001b[0m\u001b[0;34m,\u001b[0m \u001b[0mstderr\u001b[0m\u001b[0;34m)\u001b[0m\u001b[0;34m\u001b[0m\u001b[0m\n\u001b[1;32m    420\u001b[0m \u001b[0;34m\u001b[0m\u001b[0m\n\n\u001b[0;31mCalledProcessError\u001b[0m: Command '3dROIstats -mask /media/sf_MRIDATA/Template7T/ROI+orig /media/sf_MRIDATA/Calciumanalysis/LckGRCaMP/3Hz/groupstats/analyzed/CleanedData+orig > /media/sf_MRIDATA/Calciumanalysis/LckGRCaMP/3Hz/groupstats/analyzed/ROIdataNew.1D' returned non-zero exit status 2.\nCalledProcessError: Command '3dROIstats -mask /media/sf_MRIDATA/Template7T/ROI+orig /media/sf_MRIDATA/Calciumanalysis/LckGRCaMP/3Hz/groupstats/analyzed/CleanedData+orig > /media/sf_MRIDATA/Calciumanalysis/LckGRCaMP/3Hz/groupstats/analyzed/ROIdataNew.1D' returned non-zero exit status 2.\n",
     "output_type": "error",
     "traceback": [
      "\u001b[0;31m---------------------------------------------------------------------------\u001b[0m",
      "\u001b[0;31mCellExecutionError\u001b[0m                        Traceback (most recent call last)",
      "\u001b[0;32m<ipython-input-5-91260b56df58>\u001b[0m in \u001b[0;36m<module>\u001b[0;34m()\u001b[0m\n\u001b[1;32m     27\u001b[0m \u001b[0;34m\u001b[0m\u001b[0m\n\u001b[1;32m     28\u001b[0m \u001b[0;31m#             run_notebook(nb_name, save_ipynb=False, nb_kwargs=nb_kwargs)\u001b[0m\u001b[0;34m\u001b[0m\u001b[0;34m\u001b[0m\u001b[0m\n\u001b[0;32m---> 29\u001b[0;31m             \u001b[0mrun_notebook\u001b[0m\u001b[0;34m(\u001b[0m\u001b[0mnb_name2\u001b[0m\u001b[0;34m,\u001b[0m \u001b[0msave_ipynb\u001b[0m\u001b[0;34m=\u001b[0m\u001b[0;32mFalse\u001b[0m\u001b[0;34m,\u001b[0m \u001b[0mnb_kwargs\u001b[0m\u001b[0;34m=\u001b[0m\u001b[0mnb_kwargs\u001b[0m\u001b[0;34m)\u001b[0m\u001b[0;34m\u001b[0m\u001b[0m\n\u001b[0m\u001b[1;32m     30\u001b[0m \u001b[0;34m\u001b[0m\u001b[0m\n\u001b[1;32m     31\u001b[0m \u001b[0;34m\u001b[0m\u001b[0m\n",
      "\u001b[0;32m/media/sf_GithubRepositories/Calcium/fMRI_notebooks/nbrun.py\u001b[0m in \u001b[0;36mrun_notebook\u001b[0;34m(notebook_path, nb_kwargs, suffix, out_path_ipynb, out_path_html, kernel_name, working_dir, timeout, execute_kwargs, save_ipynb, save_html, insert_pos, hide_input, display_links, return_nb, add_timestamp)\u001b[0m\n\u001b[1;32m    159\u001b[0m     \u001b[0;32mtry\u001b[0m\u001b[0;34m:\u001b[0m\u001b[0;34m\u001b[0m\u001b[0m\n\u001b[1;32m    160\u001b[0m         \u001b[0;31m# Execute the notebook\u001b[0m\u001b[0;34m\u001b[0m\u001b[0;34m\u001b[0m\u001b[0m\n\u001b[0;32m--> 161\u001b[0;31m         \u001b[0mep\u001b[0m\u001b[0;34m.\u001b[0m\u001b[0mpreprocess\u001b[0m\u001b[0;34m(\u001b[0m\u001b[0mnb\u001b[0m\u001b[0;34m,\u001b[0m \u001b[0;34m{\u001b[0m\u001b[0;34m'metadata'\u001b[0m\u001b[0;34m:\u001b[0m \u001b[0;34m{\u001b[0m\u001b[0;34m'path'\u001b[0m\u001b[0;34m:\u001b[0m \u001b[0mworking_dir\u001b[0m\u001b[0;34m}\u001b[0m\u001b[0;34m}\u001b[0m\u001b[0;34m)\u001b[0m\u001b[0;34m\u001b[0m\u001b[0m\n\u001b[0m\u001b[1;32m    162\u001b[0m     \u001b[0;32mexcept\u001b[0m\u001b[0;34m:\u001b[0m\u001b[0;34m\u001b[0m\u001b[0m\n\u001b[1;32m    163\u001b[0m         \u001b[0;31m# Execution failed, print a message then raise.\u001b[0m\u001b[0;34m\u001b[0m\u001b[0;34m\u001b[0m\u001b[0m\n",
      "\u001b[0;32m~/anaconda3/lib/python3.6/site-packages/nbconvert/preprocessors/execute.py\u001b[0m in \u001b[0;36mpreprocess\u001b[0;34m(self, nb, resources)\u001b[0m\n\u001b[1;32m    260\u001b[0m \u001b[0;34m\u001b[0m\u001b[0m\n\u001b[1;32m    261\u001b[0m         \u001b[0;32mtry\u001b[0m\u001b[0;34m:\u001b[0m\u001b[0;34m\u001b[0m\u001b[0m\n\u001b[0;32m--> 262\u001b[0;31m             \u001b[0mnb\u001b[0m\u001b[0;34m,\u001b[0m \u001b[0mresources\u001b[0m \u001b[0;34m=\u001b[0m \u001b[0msuper\u001b[0m\u001b[0;34m(\u001b[0m\u001b[0mExecutePreprocessor\u001b[0m\u001b[0;34m,\u001b[0m \u001b[0mself\u001b[0m\u001b[0;34m)\u001b[0m\u001b[0;34m.\u001b[0m\u001b[0mpreprocess\u001b[0m\u001b[0;34m(\u001b[0m\u001b[0mnb\u001b[0m\u001b[0;34m,\u001b[0m \u001b[0mresources\u001b[0m\u001b[0;34m)\u001b[0m\u001b[0;34m\u001b[0m\u001b[0m\n\u001b[0m\u001b[1;32m    263\u001b[0m         \u001b[0;32mfinally\u001b[0m\u001b[0;34m:\u001b[0m\u001b[0;34m\u001b[0m\u001b[0m\n\u001b[1;32m    264\u001b[0m             \u001b[0mself\u001b[0m\u001b[0;34m.\u001b[0m\u001b[0mkc\u001b[0m\u001b[0;34m.\u001b[0m\u001b[0mstop_channels\u001b[0m\u001b[0;34m(\u001b[0m\u001b[0;34m)\u001b[0m\u001b[0;34m\u001b[0m\u001b[0m\n",
      "\u001b[0;32m~/anaconda3/lib/python3.6/site-packages/nbconvert/preprocessors/base.py\u001b[0m in \u001b[0;36mpreprocess\u001b[0;34m(self, nb, resources)\u001b[0m\n\u001b[1;32m     67\u001b[0m         \"\"\"\n\u001b[1;32m     68\u001b[0m         \u001b[0;32mfor\u001b[0m \u001b[0mindex\u001b[0m\u001b[0;34m,\u001b[0m \u001b[0mcell\u001b[0m \u001b[0;32min\u001b[0m \u001b[0menumerate\u001b[0m\u001b[0;34m(\u001b[0m\u001b[0mnb\u001b[0m\u001b[0;34m.\u001b[0m\u001b[0mcells\u001b[0m\u001b[0;34m)\u001b[0m\u001b[0;34m:\u001b[0m\u001b[0;34m\u001b[0m\u001b[0m\n\u001b[0;32m---> 69\u001b[0;31m             \u001b[0mnb\u001b[0m\u001b[0;34m.\u001b[0m\u001b[0mcells\u001b[0m\u001b[0;34m[\u001b[0m\u001b[0mindex\u001b[0m\u001b[0;34m]\u001b[0m\u001b[0;34m,\u001b[0m \u001b[0mresources\u001b[0m \u001b[0;34m=\u001b[0m \u001b[0mself\u001b[0m\u001b[0;34m.\u001b[0m\u001b[0mpreprocess_cell\u001b[0m\u001b[0;34m(\u001b[0m\u001b[0mcell\u001b[0m\u001b[0;34m,\u001b[0m \u001b[0mresources\u001b[0m\u001b[0;34m,\u001b[0m \u001b[0mindex\u001b[0m\u001b[0;34m)\u001b[0m\u001b[0;34m\u001b[0m\u001b[0m\n\u001b[0m\u001b[1;32m     70\u001b[0m         \u001b[0;32mreturn\u001b[0m \u001b[0mnb\u001b[0m\u001b[0;34m,\u001b[0m \u001b[0mresources\u001b[0m\u001b[0;34m\u001b[0m\u001b[0m\n\u001b[1;32m     71\u001b[0m \u001b[0;34m\u001b[0m\u001b[0m\n",
      "\u001b[0;32m~/anaconda3/lib/python3.6/site-packages/nbconvert/preprocessors/execute.py\u001b[0m in \u001b[0;36mpreprocess_cell\u001b[0;34m(self, cell, resources, cell_index)\u001b[0m\n\u001b[1;32m    284\u001b[0m             \u001b[0;32mfor\u001b[0m \u001b[0mout\u001b[0m \u001b[0;32min\u001b[0m \u001b[0moutputs\u001b[0m\u001b[0;34m:\u001b[0m\u001b[0;34m\u001b[0m\u001b[0m\n\u001b[1;32m    285\u001b[0m                 \u001b[0;32mif\u001b[0m \u001b[0mout\u001b[0m\u001b[0;34m.\u001b[0m\u001b[0moutput_type\u001b[0m \u001b[0;34m==\u001b[0m \u001b[0;34m'error'\u001b[0m\u001b[0;34m:\u001b[0m\u001b[0;34m\u001b[0m\u001b[0m\n\u001b[0;32m--> 286\u001b[0;31m                     \u001b[0;32mraise\u001b[0m \u001b[0mCellExecutionError\u001b[0m\u001b[0;34m.\u001b[0m\u001b[0mfrom_cell_and_msg\u001b[0m\u001b[0;34m(\u001b[0m\u001b[0mcell\u001b[0m\u001b[0;34m,\u001b[0m \u001b[0mout\u001b[0m\u001b[0;34m)\u001b[0m\u001b[0;34m\u001b[0m\u001b[0m\n\u001b[0m\u001b[1;32m    287\u001b[0m             \u001b[0;32mif\u001b[0m \u001b[0;34m(\u001b[0m\u001b[0mreply\u001b[0m \u001b[0;32mis\u001b[0m \u001b[0;32mnot\u001b[0m \u001b[0;32mNone\u001b[0m\u001b[0;34m)\u001b[0m \u001b[0;32mand\u001b[0m \u001b[0mreply\u001b[0m\u001b[0;34m[\u001b[0m\u001b[0;34m'content'\u001b[0m\u001b[0;34m]\u001b[0m\u001b[0;34m[\u001b[0m\u001b[0;34m'status'\u001b[0m\u001b[0;34m]\u001b[0m \u001b[0;34m==\u001b[0m \u001b[0;34m'error'\u001b[0m\u001b[0;34m:\u001b[0m\u001b[0;34m\u001b[0m\u001b[0m\n\u001b[1;32m    288\u001b[0m                 \u001b[0;32mraise\u001b[0m \u001b[0mCellExecutionError\u001b[0m\u001b[0;34m.\u001b[0m\u001b[0mfrom_cell_and_msg\u001b[0m\u001b[0;34m(\u001b[0m\u001b[0mcell\u001b[0m\u001b[0;34m,\u001b[0m \u001b[0mreply\u001b[0m\u001b[0;34m[\u001b[0m\u001b[0;34m'content'\u001b[0m\u001b[0;34m]\u001b[0m\u001b[0;34m)\u001b[0m\u001b[0;34m\u001b[0m\u001b[0m\n",
      "\u001b[0;31mCellExecutionError\u001b[0m: An error occurred while executing the following cell:\n------------------\nrunAFNI(f'3dROIstats -mask /media/sf_MRIDATA/Template7T/ROI+orig {folderName}/analyzed/CleanedData+orig > {folderName}/analyzed/ROIdataNew.1D')\n------------------\n\n\u001b[0;31m---------------------------------------------------------------------------\u001b[0m\n\u001b[0;31mCalledProcessError\u001b[0m                        Traceback (most recent call last)\n\u001b[0;32m<ipython-input-4-0bec35f8c587>\u001b[0m in \u001b[0;36m<module>\u001b[0;34m()\u001b[0m\n\u001b[0;32m----> 1\u001b[0;31m \u001b[0mrunAFNI\u001b[0m\u001b[0;34m(\u001b[0m\u001b[0;34mf'3dROIstats -mask /media/sf_MRIDATA/Template7T/ROI+orig {folderName}/analyzed/CleanedData+orig > {folderName}/analyzed/ROIdataNew.1D'\u001b[0m\u001b[0;34m)\u001b[0m\u001b[0;34m\u001b[0m\u001b[0m\n\u001b[0m\n\u001b[0;32m<ipython-input-3-a1d6abf18749>\u001b[0m in \u001b[0;36mrunAFNI\u001b[0;34m(inputstring)\u001b[0m\n\u001b[1;32m      1\u001b[0m \u001b[0;32mdef\u001b[0m \u001b[0mrunAFNI\u001b[0m\u001b[0;34m(\u001b[0m\u001b[0minputstring\u001b[0m\u001b[0;34m)\u001b[0m\u001b[0;34m:\u001b[0m\u001b[0;34m\u001b[0m\u001b[0m\n\u001b[1;32m      2\u001b[0m     \u001b[0mprint\u001b[0m\u001b[0;34m(\u001b[0m\u001b[0minputstring\u001b[0m\u001b[0;34m)\u001b[0m\u001b[0;34m\u001b[0m\u001b[0m\n\u001b[0;32m----> 3\u001b[0;31m     \u001b[0msubprocess\u001b[0m\u001b[0;34m.\u001b[0m\u001b[0mrun\u001b[0m\u001b[0;34m(\u001b[0m\u001b[0minputstring\u001b[0m\u001b[0;34m,\u001b[0m\u001b[0mshell\u001b[0m\u001b[0;34m=\u001b[0m\u001b[0;32mTrue\u001b[0m\u001b[0;34m,\u001b[0m \u001b[0mcheck\u001b[0m\u001b[0;34m=\u001b[0m\u001b[0;32mTrue\u001b[0m\u001b[0;34m)\u001b[0m\u001b[0;34m\u001b[0m\u001b[0m\n\u001b[0m\u001b[1;32m      4\u001b[0m \u001b[0;34m\u001b[0m\u001b[0m\n\u001b[1;32m      5\u001b[0m \u001b[0;34m\u001b[0m\u001b[0m\n\n\u001b[0;32m~/anaconda3/lib/python3.6/subprocess.py\u001b[0m in \u001b[0;36mrun\u001b[0;34m(input, timeout, check, *popenargs, **kwargs)\u001b[0m\n\u001b[1;32m    416\u001b[0m         \u001b[0;32mif\u001b[0m \u001b[0mcheck\u001b[0m \u001b[0;32mand\u001b[0m \u001b[0mretcode\u001b[0m\u001b[0;34m:\u001b[0m\u001b[0;34m\u001b[0m\u001b[0m\n\u001b[1;32m    417\u001b[0m             raise CalledProcessError(retcode, process.args,\n\u001b[0;32m--> 418\u001b[0;31m                                      output=stdout, stderr=stderr)\n\u001b[0m\u001b[1;32m    419\u001b[0m     \u001b[0;32mreturn\u001b[0m \u001b[0mCompletedProcess\u001b[0m\u001b[0;34m(\u001b[0m\u001b[0mprocess\u001b[0m\u001b[0;34m.\u001b[0m\u001b[0margs\u001b[0m\u001b[0;34m,\u001b[0m \u001b[0mretcode\u001b[0m\u001b[0;34m,\u001b[0m \u001b[0mstdout\u001b[0m\u001b[0;34m,\u001b[0m \u001b[0mstderr\u001b[0m\u001b[0;34m)\u001b[0m\u001b[0;34m\u001b[0m\u001b[0m\n\u001b[1;32m    420\u001b[0m \u001b[0;34m\u001b[0m\u001b[0m\n\n\u001b[0;31mCalledProcessError\u001b[0m: Command '3dROIstats -mask /media/sf_MRIDATA/Template7T/ROI+orig /media/sf_MRIDATA/Calciumanalysis/LckGRCaMP/3Hz/groupstats/analyzed/CleanedData+orig > /media/sf_MRIDATA/Calciumanalysis/LckGRCaMP/3Hz/groupstats/analyzed/ROIdataNew.1D' returned non-zero exit status 2.\nCalledProcessError: Command '3dROIstats -mask /media/sf_MRIDATA/Template7T/ROI+orig /media/sf_MRIDATA/Calciumanalysis/LckGRCaMP/3Hz/groupstats/analyzed/CleanedData+orig > /media/sf_MRIDATA/Calciumanalysis/LckGRCaMP/3Hz/groupstats/analyzed/ROIdataNew.1D' returned non-zero exit status 2.\n"
     ]
    }
   ],
   "source": [
    "# splitall function from: https://www.safaribooksonline.com/library/view/python-cookbook/0596001673/ch04s16.html\n",
    "def splitall(path):\n",
    "    allparts = []\n",
    "    while 1:\n",
    "        parts = os.path.split(path)\n",
    "        if parts[0] == path:  # sentinel for absolute paths\n",
    "            allparts.insert(0, parts[0])\n",
    "            break\n",
    "        elif parts[1] == path: # sentinel for relative paths\n",
    "            allparts.insert(0, parts[1])\n",
    "            break\n",
    "        else:\n",
    "            path = parts[0]\n",
    "            allparts.insert(0, parts[1])\n",
    "    return allparts\n",
    "\n",
    "\n",
    "for folderName, subfolders, filenames in os.walk(file_path):\n",
    "    for file in filenames:\n",
    "        if (fnmatch.fnmatch(file, '*+orig.BRIK*') and 'analyzed' not in folderName):\n",
    "            ID = splitall(folderName)[-1]\n",
    "            print(ID)\n",
    "            file_path1 = glob.glob(os.path.join(folderName,file))\n",
    "            file_path2 = os.path.dirname(file_path1[0])\n",
    "            nb_kwargs = {'file_path': file_path1[0], 'folderName': file_path2}\n",
    "            print('running analysis for...', file_path1[0])\n",
    "\n",
    "            \n",
    "            \n",
    "#             run_notebook(fullanalysis, save_ipynb=False, nb_kwargs=nb_kwargs)   # <-- full analysis\n",
    "            run_notebook(onlyROIs, save_ipynb=False, nb_kwargs=nb_kwargs)    # <-- only ROI extraction\n",
    "\n",
    "\n",
    "    \n",
    "            # then copy the stats and ROI files in one result folder\n",
    "            for resultfiles in glob.glob(os.path.join(folderName,'analyzed','*stats*BRIK*')):\n",
    "                shutil.copy(resultfiles, os.path.join(groupstatsfolder,ID+os.path.basename(resultfiles)))\n",
    "            for resultfiles in glob.glob(os.path.join(folderName,'analyzed','*stats*HEAD')):\n",
    "                shutil.copy(resultfiles, os.path.join(groupstatsfolder,ID+os.path.basename(resultfiles)))\n",
    "            for resultfiles in glob.glob(os.path.join(folderName,'analyzed','ROIdata*')):\n",
    "                shutil.copy(resultfiles, os.path.join(groupstatsfolder,ID+os.path.basename(resultfiles)))"
   ]
  },
  {
   "cell_type": "code",
   "execution_count": null,
   "metadata": {},
   "outputs": [],
   "source": [
    "def averageblocks(inputdf,starttimes,baseline,duration):\n",
    "    idx = pd.IndexSlice\n",
    "    blocks_mean=[]\n",
    "    block_time = np.arange(-baseline,duration) \n",
    "    blockIndex = pd.Index(block_time, name='Time [s]')\n",
    "    \n",
    "    for i in range(frames.columns.size):\n",
    "        block_single = []\n",
    "        \n",
    "        for n in starttimes:\n",
    "            block_single.append(inputdf.iloc[n-baseline:n+duration,i].reset_index(drop=True))\n",
    "        \n",
    "        blocks = pd.concat(block_single, axis=1, ignore_index = True)\n",
    "        blocks['time'] = blockIndex\n",
    "        blocks.set_index('time',drop=True,inplace=True)           \n",
    "            \n",
    "        blocks_mean.append(blocks.mean(axis=1))\n",
    "        \n",
    "    blocks_output = pd.concat(blocks_mean, axis=1, ignore_index = True)\n",
    "    blocks_output['time'] = blockIndex\n",
    "    blocks_output.set_index('time',drop=True,inplace=True)\n",
    "    return blocks_output\n",
    "                                     \n",
    "averages = averageblocks(frames,stimList,20,60)\n",
    "\n",
    "plottools.plotlyplot(averages, [0], duration=duration, names=keys)\n"
   ]
  },
  {
   "cell_type": "code",
   "execution_count": null,
   "metadata": {},
   "outputs": [],
   "source": []
  }
 ],
 "metadata": {
  "kernelspec": {
   "display_name": "Python 3",
   "language": "python",
   "name": "python3"
  },
  "language_info": {
   "codemirror_mode": {
    "name": "ipython",
    "version": 3
   },
   "file_extension": ".py",
   "mimetype": "text/x-python",
   "name": "python",
   "nbconvert_exporter": "python",
   "pygments_lexer": "ipython3",
   "version": "3.6.5"
  }
 },
 "nbformat": 4,
 "nbformat_minor": 2
}
