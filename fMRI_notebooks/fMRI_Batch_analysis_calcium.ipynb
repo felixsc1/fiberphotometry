{
 "cells": [
  {
   "cell_type": "code",
   "execution_count": 1,
   "metadata": {},
   "outputs": [],
   "source": [
    "import os, sys, shutil\n",
    "from nbrun import run_notebook #downloaded from https://github.com/tritemio/nbrun/blob/master/example-master-notebook.ipynb\n",
    "import fnmatch\n",
    "import numpy as np\n",
    "import glob\n",
    "import pandas as pd\n",
    "import subprocess\n",
    "import re"
   ]
  },
  {
   "cell_type": "code",
   "execution_count": 2,
   "metadata": {},
   "outputs": [],
   "source": [
    "fullanalysis = 'fMRI_Calcium_analysis.ipynb'\n",
    "onlyROIs = 'roi_extraction.ipynb'"
   ]
  },
  {
   "cell_type": "code",
   "execution_count": 3,
   "metadata": {},
   "outputs": [],
   "source": [
    "# directory with all scans:\n",
    "# file_path = '/media/sf_MRIDATA/Calciumanalysis/LckGRCaMP/1Hz'\n",
    "file_path = '/media/sf_MRIDATA/Calciumanalysis/IsovsKetxyl_study/L_ketxyl/4Hz'\n",
    "\n",
    "\n",
    "\n",
    "\n",
    "# the single-subject script must be modified to accept the variables\n",
    "# 'file_path' and 'ID' as input\n",
    "\n",
    "\n",
    "# Group results folder:\n",
    "groupstatsfolder = os.path.join(file_path,'groupstats')\n",
    "\n",
    "if not os.path.exists(groupstatsfolder):\n",
    "    os.makedirs(groupstatsfolder)"
   ]
  },
  {
   "cell_type": "code",
   "execution_count": 4,
   "metadata": {
    "scrolled": false
   },
   "outputs": [
    {
     "name": "stdout",
     "output_type": "stream",
     "text": [
      "6843_E22\n",
      "running analysis for:  /media/sf_MRIDATA/Calciumanalysis/IsovsKetxyl_study/L_ketxyl/4Hz/6843_E22/E22\n"
     ]
    },
    {
     "data": {
      "text/html": [
       "<a href='roi_extraction.ipynb' target='_blank'>roi_extraction.ipynb</a><br>"
      ],
      "text/plain": [
       "/media/sf_GithubRepositories/Calcium/fMRI_notebooks/roi_extraction.ipynb"
      ]
     },
     "metadata": {},
     "output_type": "display_data"
    },
    {
     "name": "stdout",
     "output_type": "stream",
     "text": [
      "6844_E18\n",
      "running analysis for:  /media/sf_MRIDATA/Calciumanalysis/IsovsKetxyl_study/L_ketxyl/4Hz/6844_E18/E18\n"
     ]
    },
    {
     "data": {
      "text/html": [
       "<a href='roi_extraction.ipynb' target='_blank'>roi_extraction.ipynb</a><br>"
      ],
      "text/plain": [
       "/media/sf_GithubRepositories/Calcium/fMRI_notebooks/roi_extraction.ipynb"
      ]
     },
     "metadata": {},
     "output_type": "display_data"
    },
    {
     "name": "stdout",
     "output_type": "stream",
     "text": [
      "6845_E14\n",
      "running analysis for:  /media/sf_MRIDATA/Calciumanalysis/IsovsKetxyl_study/L_ketxyl/4Hz/6845_E14/E14\n"
     ]
    },
    {
     "data": {
      "text/html": [
       "<a href='roi_extraction.ipynb' target='_blank'>roi_extraction.ipynb</a><br>"
      ],
      "text/plain": [
       "/media/sf_GithubRepositories/Calcium/fMRI_notebooks/roi_extraction.ipynb"
      ]
     },
     "metadata": {},
     "output_type": "display_data"
    }
   ],
   "source": [
    "# splitall function from: https://www.safaribooksonline.com/library/view/python-cookbook/0596001673/ch04s16.html\n",
    "def splitall(path):\n",
    "    allparts = []\n",
    "    while 1:\n",
    "        parts = os.path.split(path)\n",
    "        if parts[0] == path:  # sentinel for absolute paths\n",
    "            allparts.insert(0, parts[0])\n",
    "            break\n",
    "        elif parts[1] == path: # sentinel for relative paths\n",
    "            allparts.insert(0, parts[1])\n",
    "            break\n",
    "        else:\n",
    "            path = parts[0]\n",
    "            allparts.insert(0, parts[1])\n",
    "    return allparts\n",
    "\n",
    "\n",
    "for folderName, subfolders, filenames in os.walk(file_path):\n",
    "    for file in filenames:\n",
    "        if (fnmatch.fnmatch(file, '*+orig.BRIK*') and 'analyzed' not in folderName and 'groupstats' not in folderName):\n",
    "            ID = splitall(folderName)[-1]\n",
    "            print(ID)\n",
    "            file_path1 = glob.glob(os.path.join(folderName,file))\n",
    "            file_path2 = os.path.dirname(file_path1[0]) # folder\n",
    "            file_path1 = re.sub(r'\\+orig.BRIK.*.*',r'',file_path1[0])  # path to brik file without +orig ending\n",
    "            nb_kwargs = {'file_path': file_path1, 'folderName': file_path2, 'group': True}\n",
    "            print('running analysis for: ', file_path1)\n",
    "\n",
    "            \n",
    "            #run_notebook(fullanalysis, save_ipynb=False, nb_kwargs=nb_kwargs)   # <-- full analysis (no ROI extraction)\n",
    "            run_notebook(onlyROIs, save_ipynb=False, nb_kwargs=nb_kwargs)    # <-- only ROI extraction\n",
    "\n",
    "\n",
    "    \n",
    "            # then copy the stats and ROI files in one result folder\n",
    "            for resultfiles in glob.glob(os.path.join(folderName,'analyzed','*stats*BRIK*')):\n",
    "                shutil.copy(resultfiles, os.path.join(groupstatsfolder,ID+os.path.basename(resultfiles)))\n",
    "            for resultfiles in glob.glob(os.path.join(folderName,'analyzed','*stats*HEAD')):\n",
    "                shutil.copy(resultfiles, os.path.join(groupstatsfolder,ID+os.path.basename(resultfiles)))\n",
    "            for resultfiles in glob.glob(os.path.join(folderName,'analyzed','ROIdata*')):\n",
    "                shutil.copy(resultfiles, os.path.join(groupstatsfolder,ID+os.path.basename(resultfiles)))\n",
    "            for resultfiles in glob.glob(os.path.join(folderName,'analyzed','Corr_*')):\n",
    "                shutil.copy(resultfiles, os.path.join(groupstatsfolder,ID+os.path.basename(resultfiles)))"
   ]
  },
  {
   "cell_type": "code",
   "execution_count": 5,
   "metadata": {},
   "outputs": [
    {
     "ename": "NameError",
     "evalue": "name 'frames' is not defined",
     "output_type": "error",
     "traceback": [
      "\u001b[0;31m---------------------------------------------------------------------------\u001b[0m",
      "\u001b[0;31mNameError\u001b[0m                                 Traceback (most recent call last)",
      "\u001b[0;32m<ipython-input-5-9a8cc1a5265a>\u001b[0m in \u001b[0;36m<module>\u001b[0;34m()\u001b[0m\n\u001b[1;32m     22\u001b[0m     \u001b[0;32mreturn\u001b[0m \u001b[0mblocks_output\u001b[0m\u001b[0;34m\u001b[0m\u001b[0m\n\u001b[1;32m     23\u001b[0m \u001b[0;34m\u001b[0m\u001b[0m\n\u001b[0;32m---> 24\u001b[0;31m \u001b[0maverages\u001b[0m \u001b[0;34m=\u001b[0m \u001b[0maverageblocks\u001b[0m\u001b[0;34m(\u001b[0m\u001b[0mframes\u001b[0m\u001b[0;34m,\u001b[0m\u001b[0mstimList\u001b[0m\u001b[0;34m,\u001b[0m\u001b[0;36m20\u001b[0m\u001b[0;34m,\u001b[0m\u001b[0;36m60\u001b[0m\u001b[0;34m)\u001b[0m\u001b[0;34m\u001b[0m\u001b[0m\n\u001b[0m\u001b[1;32m     25\u001b[0m \u001b[0;34m\u001b[0m\u001b[0m\n\u001b[1;32m     26\u001b[0m \u001b[0mplottools\u001b[0m\u001b[0;34m.\u001b[0m\u001b[0mplotlyplot\u001b[0m\u001b[0;34m(\u001b[0m\u001b[0maverages\u001b[0m\u001b[0;34m,\u001b[0m \u001b[0;34m[\u001b[0m\u001b[0;36m0\u001b[0m\u001b[0;34m]\u001b[0m\u001b[0;34m,\u001b[0m \u001b[0mduration\u001b[0m\u001b[0;34m=\u001b[0m\u001b[0mduration\u001b[0m\u001b[0;34m,\u001b[0m \u001b[0mnames\u001b[0m\u001b[0;34m=\u001b[0m\u001b[0mkeys\u001b[0m\u001b[0;34m)\u001b[0m\u001b[0;34m\u001b[0m\u001b[0m\n",
      "\u001b[0;31mNameError\u001b[0m: name 'frames' is not defined"
     ]
    }
   ],
   "source": [
    "def averageblocks(inputdf,starttimes,baseline,duration):\n",
    "    idx = pd.IndexSlice\n",
    "    blocks_mean=[]\n",
    "    block_time = np.arange(-baseline,duration) \n",
    "    blockIndex = pd.Index(block_time, name='Time [s]')\n",
    "    \n",
    "    for i in range(frames.columns.size):\n",
    "        block_single = []\n",
    "        \n",
    "        for n in starttimes:\n",
    "            block_single.append(inputdf.iloc[n-baseline:n+duration,i].reset_index(drop=True))\n",
    "        \n",
    "        blocks = pd.concat(block_single, axis=1, ignore_index = True)\n",
    "        blocks['time'] = blockIndex\n",
    "        blocks.set_index('time',drop=True,inplace=True)           \n",
    "            \n",
    "        blocks_mean.append(blocks.mean(axis=1))\n",
    "        \n",
    "    blocks_output = pd.concat(blocks_mean, axis=1, ignore_index = True)\n",
    "    blocks_output['time'] = blockIndex\n",
    "    blocks_output.set_index('time',drop=True,inplace=True)\n",
    "    return blocks_output\n",
    "                                     \n",
    "averages = averageblocks(frames,stimList,20,60)\n",
    "\n",
    "plottools.plotlyplot(averages, [0], duration=duration, names=keys)\n"
   ]
  }
 ],
 "metadata": {
  "kernelspec": {
   "display_name": "Python 3",
   "language": "python",
   "name": "python3"
  },
  "language_info": {
   "codemirror_mode": {
    "name": "ipython",
    "version": 3
   },
   "file_extension": ".py",
   "mimetype": "text/x-python",
   "name": "python",
   "nbconvert_exporter": "python",
   "pygments_lexer": "ipython3",
   "version": "3.6.6"
  }
 },
 "nbformat": 4,
 "nbformat_minor": 2
}
